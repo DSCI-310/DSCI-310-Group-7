{
 "cells": [
  {
   "cell_type": "markdown",
   "id": "9674facc-5473-4a89-acb1-a813baad9f27",
   "metadata": {},
   "source": [
    "# Prediction on Animal Species"
   ]
  },
  {
   "cell_type": "markdown",
   "id": "284a9615",
   "metadata": {},
   "source": [
    "## Summary:\n",
    "The dataset we will be using is Zoo (1990) provided by UC Irvine Machine Learning Repository. It stores data about 7 class animals and related attributes inlcuding animal name, hair, feathers etc are contained. In this project, we will use classification to classify a given animal to the most likely class.\n",
    "## Introduction:\n",
    "The earth is an amazing planet that cultivates branches of animals. In general, sholars split them into 12 classes including mammals, birds, reptiles, amphibians, fishes, insects, crustaseans, arachnids, echiniderms, worms, mollusks and sponges(BioExploer.net., 2022). The traditional way in animal classification is mannualy identifying the characteristics and attributing it the mostly close class (Manohar, Sharath, & Kumar, 2016). However, it is tedious and time consuming, especially when the dataset is very huge. A question hereby comes to us, if we can apply K-nearest neighbours (KNN) algorithms in predicting the type an animal belongs to given its related characteristics, such as hair, feathers, etc.? Therefore, in this project, we will show how we use KNN to do classification in animals based on dataset Zoo(1990) whhich contains 1 categorical attribute, 17 Boolean-valued attributes and 1 numerical attribute. The categorical attribute appears to be the class attribute. Detailed breakdowns are as follows:\n",
    "1. animal name: Unique for each instance \n",
    "2. hair: Boolean \n",
    "3. feathers: Boolean \n",
    "4. eggs: Boolean \n",
    "5. milk: Boolean \n",
    "6. airborne: Boolean \n",
    "7. aquatic: Boolean \n",
    "8. predator: Boolean \n",
    "9. toothed: Boolean \n",
    "10. backbone: Boolean \n",
    "11. breathes: Boolean \n",
    "12. venomous: Boolean \n",
    "13. fins: Boolean \n",
    "14. legs: Numeric (set of values: {0,2,4,5,6,8}) \n",
    "15. tail: Boolean \n",
    "16. domestic: Boolean \n",
    "17. catsize: Boolean \n",
    "18. type: Numeric (integer values in range [1,7])\n",
    "\n",
    "## Methods & Results\n",
    "We are going to use a K nearest neighbors analysis to classify the type of the animals using 16 variables including hair, feathers, eggs, milk, airborne, aquatic, predator, toothed, backbone, breathes, venomous, fins, legs, domestic, catsize as our predictors. To predict the class of a new observation the K-nn classifier generally finds the k numbers of observations that are the nearest to the new observation in the training set.(Tiffany Timbers, Trevor Campbell, and etc., 2022) According to how those observations located on plot, we want to first take a glance of the class of the new observation. Further by using the information of predictors of the K-nn animals, we can reasonably predict the type."
   ]
  },
  {
   "cell_type": "code",
   "execution_count": null,
   "id": "d72cf6b9-b619-4f68-be78-90440dfb12b8",
   "metadata": {},
   "outputs": [],
   "source": [
    "import pandas as pd\n",
    "import csv\n",
    "from sklearn.model_selection import train_test_split, GridSearchCV, cross_validate\n",
    "from sklearn.neighbors import KNeighborsClassifier\n",
    "from sklearn import metrics\n",
    "import numpy as np\n",
    "import matplotlib.pyplot as plt\n",
    "from sklearn.tree import DecisionTreeClassifier\n",
    "from sklearn import svm\n",
    "from sklearn.metrics import jaccard_score\n",
    "from sklearn.linear_model import LogisticRegression\n",
    "from sklearn.metrics import classification_report"
   ]
  },
  {
   "cell_type": "code",
   "execution_count": null,
   "id": "73fd54c9-8635-426c-a13f-1c806bab4e6d",
   "metadata": {},
   "outputs": [],
   "source": [
    "#reading the data as a csv from the uci web server, with header = false as the data contains no header\n",
    "zoo_data = pd.read_csv(\"https://archive.ics.uci.edu/ml/machine-learning-databases/zoo/zoo.data\", header = None)\n",
    "#Adding column names to the data\n",
    "colm = [ \"animalName\", \"hair\", \"feathers\", \"eggs\", \"milk\", \"airborne\", \"aquatic\", \"predator\", \n",
    "        \"toothed\", \"backbone\", \"breathes\", \"venomous\", \"fins\", \"legs\", \"tail\", \"domestic\", \"catsize\", \"type\" ]\n",
    "#Adding the columns to our zoo_data dataframe\n",
    "zoo_data.columns = colm"
   ]
  },
  {
   "cell_type": "code",
   "execution_count": null,
   "id": "6dba8bd8-576b-4cf6-b5bd-6fef128c1c98",
   "metadata": {},
   "outputs": [
    {
     "data": {
      "text/html": [
       "<div>\n",
       "<style scoped>\n",
       "    .dataframe tbody tr th:only-of-type {\n",
       "        vertical-align: middle;\n",
       "    }\n",
       "\n",
       "    .dataframe tbody tr th {\n",
       "        vertical-align: top;\n",
       "    }\n",
       "\n",
       "    .dataframe thead th {\n",
       "        text-align: right;\n",
       "    }\n",
       "</style>\n",
       "<table border=\"1\" class=\"dataframe\">\n",
       "  <thead>\n",
       "    <tr style=\"text-align: right;\">\n",
       "      <th></th>\n",
       "      <th>Unnamed: 0</th>\n",
       "      <th>animalName</th>\n",
       "      <th>hair</th>\n",
       "      <th>feathers</th>\n",
       "      <th>eggs</th>\n",
       "      <th>milk</th>\n",
       "      <th>airborne</th>\n",
       "      <th>aquatic</th>\n",
       "      <th>predator</th>\n",
       "      <th>toothed</th>\n",
       "      <th>backbone</th>\n",
       "      <th>breathes</th>\n",
       "      <th>venomous</th>\n",
       "      <th>fins</th>\n",
       "      <th>legs</th>\n",
       "      <th>tail</th>\n",
       "      <th>domestic</th>\n",
       "      <th>catsize</th>\n",
       "      <th>type</th>\n",
       "    </tr>\n",
       "  </thead>\n",
       "  <tbody>\n",
       "    <tr>\n",
       "      <th>0</th>\n",
       "      <td>0</td>\n",
       "      <td>aardvark</td>\n",
       "      <td>1</td>\n",
       "      <td>0</td>\n",
       "      <td>0</td>\n",
       "      <td>1</td>\n",
       "      <td>0</td>\n",
       "      <td>0</td>\n",
       "      <td>1</td>\n",
       "      <td>1</td>\n",
       "      <td>1</td>\n",
       "      <td>1</td>\n",
       "      <td>0</td>\n",
       "      <td>0</td>\n",
       "      <td>4</td>\n",
       "      <td>0</td>\n",
       "      <td>0</td>\n",
       "      <td>1</td>\n",
       "      <td>1</td>\n",
       "    </tr>\n",
       "    <tr>\n",
       "      <th>1</th>\n",
       "      <td>1</td>\n",
       "      <td>antelope</td>\n",
       "      <td>1</td>\n",
       "      <td>0</td>\n",
       "      <td>0</td>\n",
       "      <td>1</td>\n",
       "      <td>0</td>\n",
       "      <td>0</td>\n",
       "      <td>0</td>\n",
       "      <td>1</td>\n",
       "      <td>1</td>\n",
       "      <td>1</td>\n",
       "      <td>0</td>\n",
       "      <td>0</td>\n",
       "      <td>4</td>\n",
       "      <td>1</td>\n",
       "      <td>0</td>\n",
       "      <td>1</td>\n",
       "      <td>1</td>\n",
       "    </tr>\n",
       "    <tr>\n",
       "      <th>2</th>\n",
       "      <td>2</td>\n",
       "      <td>bass</td>\n",
       "      <td>0</td>\n",
       "      <td>0</td>\n",
       "      <td>1</td>\n",
       "      <td>0</td>\n",
       "      <td>0</td>\n",
       "      <td>1</td>\n",
       "      <td>1</td>\n",
       "      <td>1</td>\n",
       "      <td>1</td>\n",
       "      <td>0</td>\n",
       "      <td>0</td>\n",
       "      <td>1</td>\n",
       "      <td>0</td>\n",
       "      <td>1</td>\n",
       "      <td>0</td>\n",
       "      <td>0</td>\n",
       "      <td>4</td>\n",
       "    </tr>\n",
       "    <tr>\n",
       "      <th>3</th>\n",
       "      <td>3</td>\n",
       "      <td>bear</td>\n",
       "      <td>1</td>\n",
       "      <td>0</td>\n",
       "      <td>0</td>\n",
       "      <td>1</td>\n",
       "      <td>0</td>\n",
       "      <td>0</td>\n",
       "      <td>1</td>\n",
       "      <td>1</td>\n",
       "      <td>1</td>\n",
       "      <td>1</td>\n",
       "      <td>0</td>\n",
       "      <td>0</td>\n",
       "      <td>4</td>\n",
       "      <td>0</td>\n",
       "      <td>0</td>\n",
       "      <td>1</td>\n",
       "      <td>1</td>\n",
       "    </tr>\n",
       "    <tr>\n",
       "      <th>4</th>\n",
       "      <td>4</td>\n",
       "      <td>boar</td>\n",
       "      <td>1</td>\n",
       "      <td>0</td>\n",
       "      <td>0</td>\n",
       "      <td>1</td>\n",
       "      <td>0</td>\n",
       "      <td>0</td>\n",
       "      <td>1</td>\n",
       "      <td>1</td>\n",
       "      <td>1</td>\n",
       "      <td>1</td>\n",
       "      <td>0</td>\n",
       "      <td>0</td>\n",
       "      <td>4</td>\n",
       "      <td>1</td>\n",
       "      <td>0</td>\n",
       "      <td>1</td>\n",
       "      <td>1</td>\n",
       "    </tr>\n",
       "  </tbody>\n",
       "</table>\n",
       "</div>"
      ],
      "text/plain": [
       "   Unnamed: 0 animalName  hair  feathers  eggs  milk  airborne  aquatic  \\\n",
       "0           0   aardvark     1         0     0     1         0        0   \n",
       "1           1   antelope     1         0     0     1         0        0   \n",
       "2           2       bass     0         0     1     0         0        1   \n",
       "3           3       bear     1         0     0     1         0        0   \n",
       "4           4       boar     1         0     0     1         0        0   \n",
       "\n",
       "   predator  toothed  backbone  breathes  venomous  fins  legs  tail  \\\n",
       "0         1        1         1         1         0     0     4     0   \n",
       "1         0        1         1         1         0     0     4     1   \n",
       "2         1        1         1         0         0     1     0     1   \n",
       "3         1        1         1         1         0     0     4     0   \n",
       "4         1        1         1         1         0     0     4     1   \n",
       "\n",
       "   domestic  catsize  type  \n",
       "0         0        1     1  \n",
       "1         0        1     1  \n",
       "2         0        0     4  \n",
       "3         0        1     1  \n",
       "4         0        1     1  "
      ]
     },
     "execution_count": 34,
     "metadata": {},
     "output_type": "execute_result"
    }
   ],
   "source": [
    "zoo_data = pd.read_csv(\"./data/zoo.csv\")\n",
    "zoo_data.head()"
   ]
  },
  {
   "cell_type": "markdown",
   "id": "018cfa28-68c7-4b37-9901-7265162dd61c",
   "metadata": {},
   "source": [
    "The first thing is to import the data. The dataset is downloaded from [UCI repository](\"https://archive-beta.ics.uci.edu/ml/datasets/zoo\"). It is then saved as a csv file in this project repository. Some exploratory data analysis needs to be run before running the actual analyses on the dataset."
   ]
  },
  {
   "cell_type": "code",
   "execution_count": null,
   "id": "fdf3fe98-78fe-4554-80ef-cd921a2228c9",
   "metadata": {},
   "outputs": [],
   "source": [
    "#saving the data as a csv file in our data directory\n",
    "# zoo_data.to_csv(r'./data/zoo.csv')"
   ]
  },
  {
   "cell_type": "code",
   "execution_count": null,
   "id": "c5ce93ae-0374-4541-978f-25db399ae729",
   "metadata": {},
   "outputs": [
    {
     "name": "stdout",
     "output_type": "stream",
     "text": [
      "Whether the dataset contains missing value: False\n"
     ]
    }
   ],
   "source": [
    "# Check if there are missing values\n",
    "print(\"Whether the dataset contains missing value: \" + str(zoo_data.isna().any().any()))"
   ]
  },
  {
   "cell_type": "code",
   "execution_count": null,
   "id": "346a692f-b32a-464a-92bf-4edd7f331618",
   "metadata": {},
   "outputs": [],
   "source": [
    "# drop the first column\n",
    "zoo_data = zoo_data.drop(zoo_data.columns[[0,1]], axis=1)"
   ]
  },
  {
   "cell_type": "code",
   "execution_count": null,
   "id": "d3a7cd9f-c171-4e0a-9072-1746a91b23fe",
   "metadata": {},
   "outputs": [
    {
     "data": {
      "text/html": [
       "<div>\n",
       "<style scoped>\n",
       "    .dataframe tbody tr th:only-of-type {\n",
       "        vertical-align: middle;\n",
       "    }\n",
       "\n",
       "    .dataframe tbody tr th {\n",
       "        vertical-align: top;\n",
       "    }\n",
       "\n",
       "    .dataframe thead th {\n",
       "        text-align: right;\n",
       "    }\n",
       "</style>\n",
       "<table border=\"1\" class=\"dataframe\">\n",
       "  <thead>\n",
       "    <tr style=\"text-align: right;\">\n",
       "      <th></th>\n",
       "      <th>hair</th>\n",
       "      <th>feathers</th>\n",
       "      <th>eggs</th>\n",
       "      <th>milk</th>\n",
       "      <th>airborne</th>\n",
       "      <th>aquatic</th>\n",
       "      <th>predator</th>\n",
       "      <th>toothed</th>\n",
       "      <th>backbone</th>\n",
       "      <th>breathes</th>\n",
       "      <th>venomous</th>\n",
       "      <th>fins</th>\n",
       "      <th>legs</th>\n",
       "      <th>tail</th>\n",
       "      <th>domestic</th>\n",
       "      <th>catsize</th>\n",
       "      <th>type</th>\n",
       "    </tr>\n",
       "  </thead>\n",
       "  <tbody>\n",
       "    <tr>\n",
       "      <th>count</th>\n",
       "      <td>101.000000</td>\n",
       "      <td>101.000000</td>\n",
       "      <td>101.000000</td>\n",
       "      <td>101.000000</td>\n",
       "      <td>101.000000</td>\n",
       "      <td>101.000000</td>\n",
       "      <td>101.000000</td>\n",
       "      <td>101.000000</td>\n",
       "      <td>101.000000</td>\n",
       "      <td>101.000000</td>\n",
       "      <td>101.000000</td>\n",
       "      <td>101.000000</td>\n",
       "      <td>101.000000</td>\n",
       "      <td>101.000000</td>\n",
       "      <td>101.000000</td>\n",
       "      <td>101.000000</td>\n",
       "      <td>101.000000</td>\n",
       "    </tr>\n",
       "    <tr>\n",
       "      <th>mean</th>\n",
       "      <td>0.425743</td>\n",
       "      <td>0.198020</td>\n",
       "      <td>0.584158</td>\n",
       "      <td>0.405941</td>\n",
       "      <td>0.237624</td>\n",
       "      <td>0.356436</td>\n",
       "      <td>0.554455</td>\n",
       "      <td>0.603960</td>\n",
       "      <td>0.821782</td>\n",
       "      <td>0.792079</td>\n",
       "      <td>0.079208</td>\n",
       "      <td>0.168317</td>\n",
       "      <td>2.841584</td>\n",
       "      <td>0.742574</td>\n",
       "      <td>0.128713</td>\n",
       "      <td>0.435644</td>\n",
       "      <td>2.831683</td>\n",
       "    </tr>\n",
       "    <tr>\n",
       "      <th>std</th>\n",
       "      <td>0.496921</td>\n",
       "      <td>0.400495</td>\n",
       "      <td>0.495325</td>\n",
       "      <td>0.493522</td>\n",
       "      <td>0.427750</td>\n",
       "      <td>0.481335</td>\n",
       "      <td>0.499505</td>\n",
       "      <td>0.491512</td>\n",
       "      <td>0.384605</td>\n",
       "      <td>0.407844</td>\n",
       "      <td>0.271410</td>\n",
       "      <td>0.376013</td>\n",
       "      <td>2.033385</td>\n",
       "      <td>0.439397</td>\n",
       "      <td>0.336552</td>\n",
       "      <td>0.498314</td>\n",
       "      <td>2.102709</td>\n",
       "    </tr>\n",
       "    <tr>\n",
       "      <th>min</th>\n",
       "      <td>0.000000</td>\n",
       "      <td>0.000000</td>\n",
       "      <td>0.000000</td>\n",
       "      <td>0.000000</td>\n",
       "      <td>0.000000</td>\n",
       "      <td>0.000000</td>\n",
       "      <td>0.000000</td>\n",
       "      <td>0.000000</td>\n",
       "      <td>0.000000</td>\n",
       "      <td>0.000000</td>\n",
       "      <td>0.000000</td>\n",
       "      <td>0.000000</td>\n",
       "      <td>0.000000</td>\n",
       "      <td>0.000000</td>\n",
       "      <td>0.000000</td>\n",
       "      <td>0.000000</td>\n",
       "      <td>1.000000</td>\n",
       "    </tr>\n",
       "    <tr>\n",
       "      <th>25%</th>\n",
       "      <td>0.000000</td>\n",
       "      <td>0.000000</td>\n",
       "      <td>0.000000</td>\n",
       "      <td>0.000000</td>\n",
       "      <td>0.000000</td>\n",
       "      <td>0.000000</td>\n",
       "      <td>0.000000</td>\n",
       "      <td>0.000000</td>\n",
       "      <td>1.000000</td>\n",
       "      <td>1.000000</td>\n",
       "      <td>0.000000</td>\n",
       "      <td>0.000000</td>\n",
       "      <td>2.000000</td>\n",
       "      <td>0.000000</td>\n",
       "      <td>0.000000</td>\n",
       "      <td>0.000000</td>\n",
       "      <td>1.000000</td>\n",
       "    </tr>\n",
       "    <tr>\n",
       "      <th>50%</th>\n",
       "      <td>0.000000</td>\n",
       "      <td>0.000000</td>\n",
       "      <td>1.000000</td>\n",
       "      <td>0.000000</td>\n",
       "      <td>0.000000</td>\n",
       "      <td>0.000000</td>\n",
       "      <td>1.000000</td>\n",
       "      <td>1.000000</td>\n",
       "      <td>1.000000</td>\n",
       "      <td>1.000000</td>\n",
       "      <td>0.000000</td>\n",
       "      <td>0.000000</td>\n",
       "      <td>4.000000</td>\n",
       "      <td>1.000000</td>\n",
       "      <td>0.000000</td>\n",
       "      <td>0.000000</td>\n",
       "      <td>2.000000</td>\n",
       "    </tr>\n",
       "    <tr>\n",
       "      <th>75%</th>\n",
       "      <td>1.000000</td>\n",
       "      <td>0.000000</td>\n",
       "      <td>1.000000</td>\n",
       "      <td>1.000000</td>\n",
       "      <td>0.000000</td>\n",
       "      <td>1.000000</td>\n",
       "      <td>1.000000</td>\n",
       "      <td>1.000000</td>\n",
       "      <td>1.000000</td>\n",
       "      <td>1.000000</td>\n",
       "      <td>0.000000</td>\n",
       "      <td>0.000000</td>\n",
       "      <td>4.000000</td>\n",
       "      <td>1.000000</td>\n",
       "      <td>0.000000</td>\n",
       "      <td>1.000000</td>\n",
       "      <td>4.000000</td>\n",
       "    </tr>\n",
       "    <tr>\n",
       "      <th>max</th>\n",
       "      <td>1.000000</td>\n",
       "      <td>1.000000</td>\n",
       "      <td>1.000000</td>\n",
       "      <td>1.000000</td>\n",
       "      <td>1.000000</td>\n",
       "      <td>1.000000</td>\n",
       "      <td>1.000000</td>\n",
       "      <td>1.000000</td>\n",
       "      <td>1.000000</td>\n",
       "      <td>1.000000</td>\n",
       "      <td>1.000000</td>\n",
       "      <td>1.000000</td>\n",
       "      <td>8.000000</td>\n",
       "      <td>1.000000</td>\n",
       "      <td>1.000000</td>\n",
       "      <td>1.000000</td>\n",
       "      <td>7.000000</td>\n",
       "    </tr>\n",
       "  </tbody>\n",
       "</table>\n",
       "</div>"
      ],
      "text/plain": [
       "             hair    feathers        eggs        milk    airborne     aquatic  \\\n",
       "count  101.000000  101.000000  101.000000  101.000000  101.000000  101.000000   \n",
       "mean     0.425743    0.198020    0.584158    0.405941    0.237624    0.356436   \n",
       "std      0.496921    0.400495    0.495325    0.493522    0.427750    0.481335   \n",
       "min      0.000000    0.000000    0.000000    0.000000    0.000000    0.000000   \n",
       "25%      0.000000    0.000000    0.000000    0.000000    0.000000    0.000000   \n",
       "50%      0.000000    0.000000    1.000000    0.000000    0.000000    0.000000   \n",
       "75%      1.000000    0.000000    1.000000    1.000000    0.000000    1.000000   \n",
       "max      1.000000    1.000000    1.000000    1.000000    1.000000    1.000000   \n",
       "\n",
       "         predator     toothed    backbone    breathes    venomous        fins  \\\n",
       "count  101.000000  101.000000  101.000000  101.000000  101.000000  101.000000   \n",
       "mean     0.554455    0.603960    0.821782    0.792079    0.079208    0.168317   \n",
       "std      0.499505    0.491512    0.384605    0.407844    0.271410    0.376013   \n",
       "min      0.000000    0.000000    0.000000    0.000000    0.000000    0.000000   \n",
       "25%      0.000000    0.000000    1.000000    1.000000    0.000000    0.000000   \n",
       "50%      1.000000    1.000000    1.000000    1.000000    0.000000    0.000000   \n",
       "75%      1.000000    1.000000    1.000000    1.000000    0.000000    0.000000   \n",
       "max      1.000000    1.000000    1.000000    1.000000    1.000000    1.000000   \n",
       "\n",
       "             legs        tail    domestic     catsize        type  \n",
       "count  101.000000  101.000000  101.000000  101.000000  101.000000  \n",
       "mean     2.841584    0.742574    0.128713    0.435644    2.831683  \n",
       "std      2.033385    0.439397    0.336552    0.498314    2.102709  \n",
       "min      0.000000    0.000000    0.000000    0.000000    1.000000  \n",
       "25%      2.000000    0.000000    0.000000    0.000000    1.000000  \n",
       "50%      4.000000    1.000000    0.000000    0.000000    2.000000  \n",
       "75%      4.000000    1.000000    0.000000    1.000000    4.000000  \n",
       "max      8.000000    1.000000    1.000000    1.000000    7.000000  "
      ]
     },
     "execution_count": 38,
     "metadata": {},
     "output_type": "execute_result"
    }
   ],
   "source": [
    "# Create a summary of the data set, including descriptive statistics\n",
    "zoo_data.describe()"
   ]
  },
  {
   "cell_type": "markdown",
   "id": "e20b6609-03e5-447e-86c0-71f76cbab14f",
   "metadata": {},
   "source": [
    "After checking whether there is missing value in the dataset, and generating a summary of the dataset, it is clear that the data is clean. Since most features are binary and categorical, there is no need to do normalization and standardization."
   ]
  },
  {
   "cell_type": "code",
   "execution_count": null,
   "id": "aacff929-4025-44a8-ac51-ee36374eb85b",
   "metadata": {},
   "outputs": [
    {
     "data": {
      "image/png": "[encoded data removed]",
      "text/plain": [
       "<Figure size 1080x1080 with 20 Axes>"
      ]
     },
     "metadata": {
      "needs_background": "light"
     },
     "output_type": "display_data"
    }
   ],
   "source": [
    "# Create a visualization of the dataset\n",
    "zoo_data.hist(figsize=(15,15));\n",
    "plt.suptitle(\"fig.1 Histogram of all features\");"
   ]
  },
  {
   "cell_type": "markdown",
   "id": "27c14a2e-0fe2-45bf-b897-1d16311f95f5",
   "metadata": {},
   "source": [
    "As shown in fig.1, the histograms of each feature are generated. The ones with skewed distribution might be more decisive in the prediction. However, since the dataset is relatively small, all the features except the `animalName` are going to be used to predict. In the next part, we are going to split the data, into the training set and testing set. Then, different classification models will be trained and evaluation."
   ]
  },
  {
   "cell_type": "markdown",
   "id": "ddd1356c",
   "metadata": {},
   "source": [
    "### Classification\n",
    "Now we will use the training set to build an accurate model. Then use the test set to report the accuracy of the models, we will use the following algorithm:\n",
    "\n",
    "K Nearest Neighbor(KNN)\n",
    "<br>\n",
    "Decision Tree\n",
    "<br>\n",
    "Support Vector Machine\n",
    "<br>\n",
    "Logistic Regression"
   ]
  },
  {
   "cell_type": "code",
   "execution_count": null,
   "id": "a3eea773",
   "metadata": {},
   "outputs": [
    {
     "data": {
      "text/html": [
       "<div>\n",
       "<style scoped>\n",
       "    .dataframe tbody tr th:only-of-type {\n",
       "        vertical-align: middle;\n",
       "    }\n",
       "\n",
       "    .dataframe tbody tr th {\n",
       "        vertical-align: top;\n",
       "    }\n",
       "\n",
       "    .dataframe thead th {\n",
       "        text-align: right;\n",
       "    }\n",
       "</style>\n",
       "<table border=\"1\" class=\"dataframe\">\n",
       "  <thead>\n",
       "    <tr style=\"text-align: right;\">\n",
       "      <th></th>\n",
       "      <th>hair</th>\n",
       "      <th>feathers</th>\n",
       "      <th>eggs</th>\n",
       "      <th>milk</th>\n",
       "      <th>airborne</th>\n",
       "      <th>aquatic</th>\n",
       "      <th>predator</th>\n",
       "      <th>toothed</th>\n",
       "      <th>backbone</th>\n",
       "      <th>breathes</th>\n",
       "      <th>venomous</th>\n",
       "      <th>fins</th>\n",
       "      <th>legs</th>\n",
       "      <th>tail</th>\n",
       "      <th>domestic</th>\n",
       "      <th>catsize</th>\n",
       "    </tr>\n",
       "  </thead>\n",
       "  <tbody>\n",
       "    <tr>\n",
       "      <th>0</th>\n",
       "      <td>1</td>\n",
       "      <td>0</td>\n",
       "      <td>0</td>\n",
       "      <td>1</td>\n",
       "      <td>0</td>\n",
       "      <td>0</td>\n",
       "      <td>1</td>\n",
       "      <td>1</td>\n",
       "      <td>1</td>\n",
       "      <td>1</td>\n",
       "      <td>0</td>\n",
       "      <td>0</td>\n",
       "      <td>4</td>\n",
       "      <td>0</td>\n",
       "      <td>0</td>\n",
       "      <td>1</td>\n",
       "    </tr>\n",
       "    <tr>\n",
       "      <th>1</th>\n",
       "      <td>1</td>\n",
       "      <td>0</td>\n",
       "      <td>0</td>\n",
       "      <td>1</td>\n",
       "      <td>0</td>\n",
       "      <td>0</td>\n",
       "      <td>0</td>\n",
       "      <td>1</td>\n",
       "      <td>1</td>\n",
       "      <td>1</td>\n",
       "      <td>0</td>\n",
       "      <td>0</td>\n",
       "      <td>4</td>\n",
       "      <td>1</td>\n",
       "      <td>0</td>\n",
       "      <td>1</td>\n",
       "    </tr>\n",
       "    <tr>\n",
       "      <th>2</th>\n",
       "      <td>0</td>\n",
       "      <td>0</td>\n",
       "      <td>1</td>\n",
       "      <td>0</td>\n",
       "      <td>0</td>\n",
       "      <td>1</td>\n",
       "      <td>1</td>\n",
       "      <td>1</td>\n",
       "      <td>1</td>\n",
       "      <td>0</td>\n",
       "      <td>0</td>\n",
       "      <td>1</td>\n",
       "      <td>0</td>\n",
       "      <td>1</td>\n",
       "      <td>0</td>\n",
       "      <td>0</td>\n",
       "    </tr>\n",
       "    <tr>\n",
       "      <th>3</th>\n",
       "      <td>1</td>\n",
       "      <td>0</td>\n",
       "      <td>0</td>\n",
       "      <td>1</td>\n",
       "      <td>0</td>\n",
       "      <td>0</td>\n",
       "      <td>1</td>\n",
       "      <td>1</td>\n",
       "      <td>1</td>\n",
       "      <td>1</td>\n",
       "      <td>0</td>\n",
       "      <td>0</td>\n",
       "      <td>4</td>\n",
       "      <td>0</td>\n",
       "      <td>0</td>\n",
       "      <td>1</td>\n",
       "    </tr>\n",
       "    <tr>\n",
       "      <th>4</th>\n",
       "      <td>1</td>\n",
       "      <td>0</td>\n",
       "      <td>0</td>\n",
       "      <td>1</td>\n",
       "      <td>0</td>\n",
       "      <td>0</td>\n",
       "      <td>1</td>\n",
       "      <td>1</td>\n",
       "      <td>1</td>\n",
       "      <td>1</td>\n",
       "      <td>0</td>\n",
       "      <td>0</td>\n",
       "      <td>4</td>\n",
       "      <td>1</td>\n",
       "      <td>0</td>\n",
       "      <td>1</td>\n",
       "    </tr>\n",
       "  </tbody>\n",
       "</table>\n",
       "</div>"
      ],
      "text/plain": [
       "   hair  feathers  eggs  milk  airborne  aquatic  predator  toothed  backbone  \\\n",
       "0     1         0     0     1         0        0         1        1         1   \n",
       "1     1         0     0     1         0        0         0        1         1   \n",
       "2     0         0     1     0         0        1         1        1         1   \n",
       "3     1         0     0     1         0        0         1        1         1   \n",
       "4     1         0     0     1         0        0         1        1         1   \n",
       "\n",
       "   breathes  venomous  fins  legs  tail  domestic  catsize  \n",
       "0         1         0     0     4     0         0        1  \n",
       "1         1         0     0     4     1         0        1  \n",
       "2         0         0     1     0     1         0        0  \n",
       "3         1         0     0     4     0         0        1  \n",
       "4         1         0     0     4     1         0        1  "
      ]
     },
     "execution_count": 40,
     "metadata": {},
     "output_type": "execute_result"
    }
   ],
   "source": [
    "#extracting the feature that will predict\n",
    "feature = zoo_data[[ \"hair\", \"feathers\", \"eggs\", \"milk\", \"airborne\", \n",
    "                   \"aquatic\", \"predator\", \"toothed\", \"backbone\", \"breathes\", \n",
    "                   \"venomous\", \"fins\", \"legs\", \"tail\", \"domestic\", \"catsize\"]]\n",
    "#making it as a X\n",
    "X = feature\n",
    "X.head()"
   ]
  },
  {
   "cell_type": "code",
   "execution_count": null,
   "id": "c418b49b",
   "metadata": {},
   "outputs": [
    {
     "data": {
      "text/plain": [
       "0    1\n",
       "1    1\n",
       "2    4\n",
       "3    1\n",
       "4    1\n",
       "Name: type, dtype: int64"
      ]
     },
     "execution_count": 41,
     "metadata": {},
     "output_type": "execute_result"
    }
   ],
   "source": [
    "#taking the y values, the type\n",
    "y = zoo_data['type']\n",
    "y[0:5]"
   ]
  },
  {
   "cell_type": "code",
   "execution_count": null,
   "id": "d1098ee0-0029-4d18-8fa0-fa79eef7e09d",
   "metadata": {},
   "outputs": [
    {
     "name": "stdout",
     "output_type": "stream",
     "text": [
      "Training set: (80, 16) (80,)\n",
      "Test set: (21, 16) (21,)\n"
     ]
    }
   ],
   "source": [
    "#splitting the dataset 80-20 for train and test\n",
    "X_train, X_test, y_train, y_test = train_test_split( X, y, test_size=0.2, random_state=4)\n",
    "print ('Training set:', X_train.shape,  y_train.shape)\n",
    "print ('Test set:', X_test.shape,  y_test.shape)"
   ]
  },
  {
   "cell_type": "markdown",
   "id": "7d8b4310",
   "metadata": {},
   "source": [
    "#### KNN\n",
    "Explain KNN in 2 lines"
   ]
  },
  {
   "cell_type": "code",
   "execution_count": null,
   "id": "60c37bfa",
   "metadata": {},
   "outputs": [
    {
     "data": {
      "text/plain": [
       "array([1.        , 0.95238095, 0.95238095, 0.9047619 , 0.85714286,\n",
       "       0.80952381, 0.85714286, 0.76190476, 0.76190476, 0.76190476,\n",
       "       0.76190476, 0.76190476, 0.76190476, 0.76190476, 0.76190476,\n",
       "       0.76190476, 0.76190476, 0.71428571, 0.61904762, 0.61904762,\n",
       "       0.61904762, 0.61904762, 0.61904762, 0.61904762, 0.61904762,\n",
       "       0.61904762, 0.61904762, 0.61904762, 0.61904762, 0.61904762,\n",
       "       0.61904762, 0.61904762, 0.61904762, 0.57142857, 0.57142857,\n",
       "       0.57142857, 0.57142857, 0.57142857, 0.57142857, 0.57142857,\n",
       "       0.57142857, 0.57142857, 0.57142857, 0.57142857, 0.57142857,\n",
       "       0.47619048, 0.42857143, 0.42857143, 0.42857143, 0.33333333,\n",
       "       0.33333333, 0.33333333, 0.33333333, 0.33333333, 0.33333333,\n",
       "       0.33333333, 0.33333333, 0.33333333, 0.33333333, 0.33333333,\n",
       "       0.33333333, 0.33333333, 0.33333333, 0.33333333, 0.33333333,\n",
       "       0.33333333, 0.33333333, 0.33333333, 0.33333333, 0.33333333,\n",
       "       0.33333333, 0.33333333, 0.33333333, 0.33333333, 0.33333333,\n",
       "       0.33333333, 0.33333333, 0.33333333, 0.33333333, 0.33333333])"
      ]
     },
     "execution_count": 43,
     "metadata": {},
     "output_type": "execute_result"
    }
   ],
   "source": [
    "#training the model for different set of K values and finding the best K value\n",
    "Ks = 81\n",
    "mean_acc = np.zeros((Ks-1))\n",
    "std_acc = np.zeros((Ks-1))\n",
    "ConfustionMx = [];\n",
    "for n in range(1,Ks):\n",
    "    \n",
    "    #Train Model and Predict  \n",
    "    neigh = KNeighborsClassifier(n_neighbors = n).fit(X_train,y_train)\n",
    "    yhat=neigh.predict(X_test)\n",
    "    mean_acc[n-1] = metrics.accuracy_score(y_test, yhat)\n",
    "\n",
    "    \n",
    "    std_acc[n-1]=np.std(yhat==y_test)/np.sqrt(yhat.shape[0])\n",
    "\n",
    "mean_acc"
   ]
  },
  {
   "cell_type": "code",
   "execution_count": 69,
   "id": "7c1160b6",
   "metadata": {},
   "outputs": [
    {
     "data": {
      "image/png": "[encoded data removed]",
      "text/plain": [
       "<Figure size 432x288 with 1 Axes>"
      ]
     },
     "metadata": {
      "needs_background": "light"
     },
     "output_type": "display_data"
    }
   ],
   "source": [
    "#plotting the aaccuracy for different K values\n",
    "plt.plot(range(1,Ks),mean_acc,'g')\n",
    "plt.fill_between(range(1,Ks),mean_acc - 1 * std_acc,mean_acc + 1 * std_acc, alpha=0.10)\n",
    "plt.legend(('Accuracy ', '+/- 3xstd'))\n",
    "plt.ylabel('Accuracy ')\n",
    "plt.xlabel('Number of Neighbors (K)')\n",
    "plt.tight_layout()\n",
    "plt.show()"
   ]
  },
  {
   "cell_type": "code",
   "execution_count": null,
   "id": "ddad26d4",
   "metadata": {},
   "outputs": [
    {
     "name": "stdout",
     "output_type": "stream",
     "text": [
      "The best accuracy was with the values 1.0 with k= 1\n"
     ]
    }
   ],
   "source": [
    "print( \"The best accuracy was with the values\", mean_acc.max(), \"with k=\", mean_acc.argmax()+1 )"
   ]
  },
  {
   "cell_type": "code",
   "execution_count": null,
   "id": "070b944a-9d30-48e4-8949-514dbb9246e0",
   "metadata": {},
   "outputs": [
    {
     "data": {
      "text/plain": [
       "{'n_neighbors': 1}"
      ]
     },
     "execution_count": 46,
     "metadata": {},
     "output_type": "execute_result"
    }
   ],
   "source": [
    "# Finding the K value using Grid Search\n",
    "knn = KNeighborsClassifier()\n",
    "k_vals = list(range(1, 21))\n",
    "param_grid = dict(n_neighbors=k_vals)\n",
    "grid = GridSearchCV(knn, param_grid, cv=3, scoring='accuracy')\n",
    "grid.fit(X_train, y_train)\n",
    "grid.best_params_"
   ]
  },
  {
   "cell_type": "code",
   "execution_count": null,
   "id": "646ef3e9",
   "metadata": {},
   "outputs": [],
   "source": [
    "#as the best accuracy was with K = 1\n",
    "#using K = 1 for the final KNN model\n",
    "#Final KNN model is here used the splited test part to train again for better training, and better prediction\n",
    "final_knn_model = KNeighborsClassifier(n_neighbors = 1).fit(X,y)"
   ]
  },
  {
   "cell_type": "markdown",
   "id": "ab34557f",
   "metadata": {},
   "source": [
    "#### KNN Evaluation"
   ]
  },
  {
   "cell_type": "code",
   "execution_count": null,
   "id": "8156e207-fa8f-482e-a5f4-298ac833dbec",
   "metadata": {},
   "outputs": [
    {
     "name": "stdout",
     "output_type": "stream",
     "text": [
      "So the accuracy score for K = 1 is: 1.0\n"
     ]
    }
   ],
   "source": [
    "yhat = final_knn_model.predict(X_test)\n",
    "accuracyScore = metrics.accuracy_score(y_test, yhat)\n",
    "print(\"So the accuracy score for K = 1 is: \" + str(accuracyScore))"
   ]
  },
  {
   "cell_type": "code",
   "execution_count": null,
   "id": "e7f7ca35-f76f-48f9-8402-0f3ed1c4fc0f",
   "metadata": {},
   "outputs": [
    {
     "data": {
      "text/plain": [
       "fit_time       0.002074\n",
       "score_time     0.003392\n",
       "test_score     0.936847\n",
       "train_score    1.000000\n",
       "dtype: float64"
      ]
     },
     "execution_count": 49,
     "metadata": {},
     "output_type": "execute_result"
    }
   ],
   "source": [
    "# cross-validation on knn\n",
    "cv_results_knn = cross_validate(final_knn_model, X_train, y_train, cv=3, return_train_score=True);\n",
    "pd.DataFrame(cv_results_knn).mean()"
   ]
  },
  {
   "cell_type": "code",
   "execution_count": null,
   "id": "394b52d5",
   "metadata": {},
   "outputs": [
    {
     "name": "stdout",
     "output_type": "stream",
     "text": [
      "              precision    recall  f1-score   support\n",
      "\n",
      "           1       1.00      1.00      1.00         7\n",
      "           2       1.00      1.00      1.00         5\n",
      "           4       1.00      1.00      1.00         1\n",
      "           5       1.00      1.00      1.00         1\n",
      "           6       1.00      1.00      1.00         3\n",
      "           7       1.00      1.00      1.00         4\n",
      "\n",
      "    accuracy                           1.00        21\n",
      "   macro avg       1.00      1.00      1.00        21\n",
      "weighted avg       1.00      1.00      1.00        21\n",
      "\n"
     ]
    }
   ],
   "source": [
    "print (classification_report(y_test, yhat))"
   ]
  },
  {
   "cell_type": "markdown",
   "id": "b3981536",
   "metadata": {},
   "source": [
    "### Decision Tree\n",
    "Explain decission tree in 2 lines"
   ]
  },
  {
   "cell_type": "code",
   "execution_count": null,
   "id": "1465f89f",
   "metadata": {},
   "outputs": [
    {
     "data": {
      "text/plain": [
       "array([0.57142857, 0.61904762, 0.80952381, 0.80952381, 0.9047619 ,\n",
       "       0.9047619 , 0.9047619 , 0.9047619 , 0.85714286, 0.9047619 ,\n",
       "       0.85714286, 0.9047619 , 0.9047619 , 0.9047619 , 0.9047619 ,\n",
       "       0.9047619 , 0.9047619 , 0.9047619 , 0.9047619 , 0.9047619 ,\n",
       "       0.9047619 , 0.9047619 , 0.85714286, 0.85714286, 0.9047619 ,\n",
       "       0.9047619 , 0.9047619 , 0.9047619 , 0.9047619 , 0.9047619 ,\n",
       "       0.85714286, 0.9047619 , 0.9047619 , 0.85714286, 0.9047619 ,\n",
       "       0.9047619 , 0.85714286, 0.85714286, 0.9047619 , 0.9047619 ,\n",
       "       0.9047619 , 0.9047619 , 0.85714286, 0.9047619 , 0.85714286,\n",
       "       0.85714286, 0.9047619 , 0.9047619 , 0.9047619 ])"
      ]
     },
     "execution_count": 51,
     "metadata": {},
     "output_type": "execute_result"
    }
   ],
   "source": [
    "Ks = 50\n",
    "mean_acc = np.zeros((Ks-1))\n",
    "std_acc = np.zeros((Ks-1))\n",
    "ConfustionMx = [];\n",
    "for n in range(1,Ks):\n",
    "    \n",
    "    #Train Model and Predict  \n",
    "    decTree = DecisionTreeClassifier(criterion=\"entropy\", max_depth = n)\n",
    "    decTree.fit(X_train,y_train)\n",
    "    yhat=decTree.predict(X_test)\n",
    "    mean_acc[n-1] = metrics.accuracy_score(y_test, yhat)\n",
    "\n",
    "    \n",
    "    std_acc[n-1]=np.std(yhat==y_test)/np.sqrt(yhat.shape[0])\n",
    "\n",
    "mean_acc"
   ]
  },
  {
   "cell_type": "code",
   "execution_count": 70,
   "id": "8cb4c023",
   "metadata": {},
   "outputs": [
    {
     "data": {
      "image/png": "[encoded data removed]",
      "text/plain": [
       "<Figure size 432x288 with 1 Axes>"
      ]
     },
     "metadata": {
      "needs_background": "light"
     },
     "output_type": "display_data"
    }
   ],
   "source": [
    "plt.plot(range(1,Ks),mean_acc,'g')\n",
    "plt.fill_between(range(1,Ks),mean_acc - 1 * std_acc,mean_acc + 1 * std_acc, alpha=0.10)\n",
    "plt.legend(('Accuracy ', '+/- 3xstd'))\n",
    "plt.ylabel('Accuracy ')\n",
    "plt.xlabel('Max_Depth')\n",
    "plt.tight_layout()\n",
    "plt.show()"
   ]
  },
  {
   "cell_type": "code",
   "execution_count": null,
   "id": "6bbbad3c",
   "metadata": {},
   "outputs": [
    {
     "name": "stdout",
     "output_type": "stream",
     "text": [
      "The best accuracy was with the values 0.9047619047619048 with max_depth = 5\n"
     ]
    }
   ],
   "source": [
    "print( \"The best accuracy was with the values\", mean_acc.max(), \"with max_depth =\", mean_acc.argmax()+1) "
   ]
  },
  {
   "cell_type": "code",
   "execution_count": null,
   "id": "945f91fd",
   "metadata": {},
   "outputs": [
    {
     "data": {
      "text/plain": [
       "DecisionTreeClassifier(criterion='entropy', max_depth=5)"
      ]
     },
     "execution_count": 54,
     "metadata": {},
     "output_type": "execute_result"
    }
   ],
   "source": [
    "#As Best is max depth = 5\n",
    "#using max depth = 5 for the final decision tree\n",
    "#Final decisison tree is here used the splited test part to train again for better training, and better prediction\n",
    "Final_dec_Tree = DecisionTreeClassifier(criterion=\"entropy\", max_depth = 5)\n",
    "Final_dec_Tree.fit(X,y)"
   ]
  },
  {
   "cell_type": "markdown",
   "id": "974a4d9d",
   "metadata": {},
   "source": [
    "#### Decision Tree Evaluation"
   ]
  },
  {
   "cell_type": "code",
   "execution_count": null,
   "id": "3b6ad311-0321-4712-98f9-f431c6aba6f6",
   "metadata": {},
   "outputs": [
    {
     "name": "stdout",
     "output_type": "stream",
     "text": [
      "So the accuracy score for max depth = 5 is: 0.9523809523809523\n"
     ]
    }
   ],
   "source": [
    "yhat=Final_dec_Tree.predict(X_test)\n",
    "accuracyScore = metrics.accuracy_score(y_test, yhat)\n",
    "print(\"So the accuracy score for max depth = 5 is: \" + str(accuracyScore))"
   ]
  },
  {
   "cell_type": "code",
   "execution_count": null,
   "id": "e1f79805-6d2d-445a-852e-6a0e12d440f1",
   "metadata": {},
   "outputs": [
    {
     "name": "stderr",
     "output_type": "stream",
     "text": [
      "/Users/sunweihao/opt/miniconda3/lib/python3.9/site-packages/sklearn/model_selection/_split.py:676: UserWarning: The least populated class in y has only 3 members, which is less than n_splits=4.\n",
      "  warnings.warn(\n"
     ]
    },
    {
     "data": {
      "text/plain": [
       "fit_time       0.003311\n",
       "score_time     0.002075\n",
       "test_score     0.937500\n",
       "train_score    0.995833\n",
       "dtype: float64"
      ]
     },
     "execution_count": 56,
     "metadata": {},
     "output_type": "execute_result"
    }
   ],
   "source": [
    "# cross-validation on decision tree\n",
    "cv_results_dt = cross_validate(Final_dec_Tree, X_train, y_train, cv=4, return_train_score=True);\n",
    "pd.DataFrame(cv_results_dt).mean()"
   ]
  },
  {
   "cell_type": "code",
   "execution_count": null,
   "id": "c7b1ea31",
   "metadata": {},
   "outputs": [
    {
     "name": "stdout",
     "output_type": "stream",
     "text": [
      "              precision    recall  f1-score   support\n",
      "\n",
      "           1       1.00      1.00      1.00         7\n",
      "           2       1.00      1.00      1.00         5\n",
      "           4       1.00      1.00      1.00         1\n",
      "           5       1.00      1.00      1.00         1\n",
      "           6       0.75      1.00      0.86         3\n",
      "           7       1.00      0.75      0.86         4\n",
      "\n",
      "    accuracy                           0.95        21\n",
      "   macro avg       0.96      0.96      0.95        21\n",
      "weighted avg       0.96      0.95      0.95        21\n",
      "\n"
     ]
    }
   ],
   "source": [
    "print (classification_report(y_test, yhat))"
   ]
  },
  {
   "cell_type": "markdown",
   "id": "d9f9ea64",
   "metadata": {},
   "source": [
    "### Support Vector Machine\n",
    "Explain SVM in 2 lines"
   ]
  },
  {
   "cell_type": "code",
   "execution_count": null,
   "id": "6d76eab8",
   "metadata": {},
   "outputs": [
    {
     "data": {
      "text/plain": [
       "SVC(kernel='poly')"
      ]
     },
     "execution_count": 58,
     "metadata": {},
     "output_type": "execute_result"
    }
   ],
   "source": [
    "svec = svm.SVC(kernel='poly')\n",
    "svec.fit(X_train, y_train)"
   ]
  },
  {
   "cell_type": "code",
   "execution_count": null,
   "id": "7d9aeaa1",
   "metadata": {},
   "outputs": [
    {
     "name": "stdout",
     "output_type": "stream",
     "text": [
      "So the Jaccard score for SVM is: 0.8260869565217391\n"
     ]
    }
   ],
   "source": [
    "yhat = svec.predict(X_test)\n",
    "acc = jaccard_score(y_test, yhat, average='micro')\n",
    "print(\"So the Jaccard score for SVM is: \" + str(acc))"
   ]
  },
  {
   "cell_type": "code",
   "execution_count": null,
   "id": "e6bc722e",
   "metadata": {},
   "outputs": [],
   "source": [
    "#Final SVM is here used the splited test part to train again for better training, and better prediction\n",
    "svec = svm.SVC(kernel='poly')\n",
    "finalSVM = svec.fit(X, y) "
   ]
  },
  {
   "cell_type": "markdown",
   "id": "b318c598",
   "metadata": {},
   "source": [
    "#### SVM Evaluation"
   ]
  },
  {
   "cell_type": "code",
   "execution_count": null,
   "id": "5d072788",
   "metadata": {},
   "outputs": [
    {
     "name": "stdout",
     "output_type": "stream",
     "text": [
      "              precision    recall  f1-score   support\n",
      "\n",
      "           1       1.00      1.00      1.00         7\n",
      "           2       1.00      1.00      1.00         5\n",
      "           4       0.33      1.00      0.50         1\n",
      "           5       1.00      1.00      1.00         1\n",
      "           6       1.00      1.00      1.00         3\n",
      "           7       1.00      0.50      0.67         4\n",
      "\n",
      "    accuracy                           0.90        21\n",
      "   macro avg       0.89      0.92      0.86        21\n",
      "weighted avg       0.97      0.90      0.91        21\n",
      "\n"
     ]
    }
   ],
   "source": [
    "print (classification_report(y_test, yhat))"
   ]
  },
  {
   "cell_type": "markdown",
   "id": "8f83b46c",
   "metadata": {},
   "source": [
    "# Logistic Regression\n",
    "Exlplain LR in 2 lines"
   ]
  },
  {
   "cell_type": "code",
   "execution_count": null,
   "id": "b09ecb4d",
   "metadata": {},
   "outputs": [
    {
     "name": "stdout",
     "output_type": "stream",
     "text": [
      "So the Jaccard score for Logistic Regression is: 0.68\n"
     ]
    }
   ],
   "source": [
    "LR = LogisticRegression(C=0.07, solver='sag').fit(X_train, y_train)\n",
    "yhat = LR.predict(X_test)\n",
    "acc = jaccard_score(y_test, yhat, average='micro')\n",
    "print(\"So the Jaccard score for Logistic Regression is: \" + str(acc))"
   ]
  },
  {
   "cell_type": "code",
   "execution_count": null,
   "id": "28fe1bb9",
   "metadata": {},
   "outputs": [],
   "source": [
    "#final LR model is here used the splited test part to train again for better training, and better prediction\n",
    "finalLR = LogisticRegression(C=0.07, solver='sag').fit(X, y)"
   ]
  },
  {
   "cell_type": "markdown",
   "id": "c2af02ba",
   "metadata": {},
   "source": [
    "### Logistic Regression Evaluation"
   ]
  },
  {
   "cell_type": "code",
   "execution_count": null,
   "id": "f95ced8f",
   "metadata": {},
   "outputs": [
    {
     "name": "stdout",
     "output_type": "stream",
     "text": [
      "              precision    recall  f1-score   support\n",
      "\n",
      "           1       0.88      1.00      0.93         7\n",
      "           2       0.83      1.00      0.91         5\n",
      "           4       0.50      1.00      0.67         1\n",
      "           5       0.00      0.00      0.00         1\n",
      "           6       0.75      1.00      0.86         3\n",
      "           7       1.00      0.25      0.40         4\n",
      "\n",
      "    accuracy                           0.81        21\n",
      "   macro avg       0.66      0.71      0.63        21\n",
      "weighted avg       0.81      0.81      0.76        21\n",
      "\n"
     ]
    },
    {
     "name": "stderr",
     "output_type": "stream",
     "text": [
      "/Users/sunweihao/opt/miniconda3/lib/python3.9/site-packages/sklearn/metrics/_classification.py:1318: UndefinedMetricWarning: Precision and F-score are ill-defined and being set to 0.0 in labels with no predicted samples. Use `zero_division` parameter to control this behavior.\n",
      "  _warn_prf(average, modifier, msg_start, len(result))\n",
      "/Users/sunweihao/opt/miniconda3/lib/python3.9/site-packages/sklearn/metrics/_classification.py:1318: UndefinedMetricWarning: Precision and F-score are ill-defined and being set to 0.0 in labels with no predicted samples. Use `zero_division` parameter to control this behavior.\n",
      "  _warn_prf(average, modifier, msg_start, len(result))\n",
      "/Users/sunweihao/opt/miniconda3/lib/python3.9/site-packages/sklearn/metrics/_classification.py:1318: UndefinedMetricWarning: Precision and F-score are ill-defined and being set to 0.0 in labels with no predicted samples. Use `zero_division` parameter to control this behavior.\n",
      "  _warn_prf(average, modifier, msg_start, len(result))\n"
     ]
    }
   ],
   "source": [
    "print (classification_report(y_test, yhat))"
   ]
  },
  {
   "cell_type": "markdown",
   "id": "dd0b247d",
   "metadata": {},
   "source": []
  },
  {
   "cell_type": "code",
   "execution_count": null,
   "id": "83569d0a",
   "metadata": {},
   "outputs": [],
   "source": []
  },
  {
   "cell_type": "code",
   "execution_count": null,
   "id": "b3ea70da",
   "metadata": {},
   "outputs": [],
   "source": []
  },
  {
   "cell_type": "markdown",
   "id": "eacdb237-1b19-4a1f-ab55-9ab98fe4db76",
   "metadata": {},
   "source": [
    "## Citation\n",
    "BioExplorer.net. (2022, February 18). Types of Animals. Bio Explorer. https://www.bioexplorer.net/animals/.\"\n",
    "\n",
    "N. Manohar, Y. H. Sharath Kumar and G. H. Kumar, \\\"Supervised and unsupervised learning in animal classification,\" *2016 International Conference on Advances in Computing, Communications and Informatics (ICACCI)*, 2016, pp. 156-161, doi: 10.1109/ICACCI.2016.7732040.\n",
    "\n",
    "Tiffany Timbers, T. C. (2022, February 13). Data science: A first Introduction. Retrieved February 18, 2022, from https://datasciencebook.ca/ \n",
    "\n",
    "Zoo. (1990). UCI Machine Learning Repository."
   ]
  },
  {
   "cell_type": "code",
   "execution_count": null,
   "id": "d8f83133-d780-4796-94d4-1f8397d42377",
   "metadata": {},
   "outputs": [],
   "source": []
  }
 ],
 "metadata": {
  "kernelspec": {
   "display_name": "Python 3",
   "language": "python",
   "name": "python3"
  },
  "language_info": {
   "codemirror_mode": {
    "name": "ipython",
    "version": 3
   },
   "file_extension": ".py",
   "mimetype": "text/x-python",
   "name": "python",
   "nbconvert_exporter": "python",
   "pygments_lexer": "ipython3",
   "version": "3.9.5"
  }
 },
 "nbformat": 4,
 "nbformat_minor": 5
}
