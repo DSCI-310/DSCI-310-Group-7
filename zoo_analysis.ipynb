{
 "cells": [
  {
   "cell_type": "markdown",
   "id": "9674facc-5473-4a89-acb1-a813baad9f27",
   "metadata": {},
   "source": [
    "# Prediction on Animal Species"
   ]
  },
  {
   "cell_type": "markdown",
   "id": "284a9615",
   "metadata": {},
   "source": [
    "## Summary:\n",
    "The dataset we will be using is Zoo (1990) provided by UC Irvine Machine Learning Repository. It stores data about 7 class animals and related attributes inlcuding animal name, hair, feathers etc are contained. In this project, we will use classification to classify a given animal to the most likely class.\n",
    "## Introduction:\n",
    "The earth is an amazing planet that cultivates branches of animals. In general, sholars split them into 12 classes including mammals, birds, reptiles, amphibians, fishes, insects, crustaseans, arachnids, echiniderms, worms, mollusks and sponges(BioExploer.net., 2022). The traditional way in animal classification is mannualy identifying the characteristics and attributing it the mostly close class (Manohar, Sharath, & Kumar, 2016). However, it is tedious and time consuming, especially when the dataset is very huge. A question hereby comes to us, if we can apply K-nearest neighbours (KNN) algorithms in predicting the type an animal belongs to given its related characteristics, such as hair, feathers, etc.? Therefore, in this project, we will show how we use KNN to do classification in animals based on dataset Zoo(1990) whhich contains 1 categorical attribute, 17 Boolean-valued attributes and 1 numerical attribute. The categorical attribute appears to be the class attribute. Detailed breakdowns are as follows:\n",
    "1. animal name: Unique for each instance \n",
    "2. hair: Boolean \n",
    "3. feathers: Boolean \n",
    "4. eggs: Boolean \n",
    "5. milk: Boolean \n",
    "6. airborne: Boolean \n",
    "7. aquatic: Boolean \n",
    "8. predator: Boolean \n",
    "9. toothed: Boolean \n",
    "10. backbone: Boolean \n",
    "11. breathes: Boolean \n",
    "12. venomous: Boolean \n",
    "13. fins: Boolean \n",
    "14. legs: Numeric (set of values: {0,2,4,5,6,8}) \n",
    "15. tail: Boolean \n",
    "16. domestic: Boolean \n",
    "17. catsize: Boolean \n",
    "18. type: Numeric (integer values in range [1,7])\n",
    "\n",
    "## Methods & Results\n",
    "We are going to use a K nearest neighbors analysis to classify the type of the animals using 16 variables including hair, feathers, eggs, milk, airborne, aquatic, predator, toothed, backbone, breathes, venomous, fins, legs, domestic, catsize as our predictors. To predict the class of a new observation the K-nn classifier generally finds the k numbers of observations that are the nearest to the new observation in the training set.(Tiffany Timbers, Trevor Campbell, and etc., 2022) According to how those observations located on plot, we want to first take a glance of the class of the new observation. Further by using the information of predictors of the K-nn animals, we can reasonably predict the type."
   ]
  },
  {
   "cell_type": "code",
   "execution_count": 121,
   "id": "d72cf6b9-b619-4f68-be78-90440dfb12b8",
   "metadata": {},
   "outputs": [],
   "source": [
    "import pandas as pd\n",
    "import csv\n",
    "import matplotlib.pyplot as plt\n",
    "from sklearn.model_selection import train_test_split, cross_val_score, cross_validate, GridSearchCV\n",
    "from sklearn.tree import DecisionTreeClassifier\n",
    "from sklearn.neighbors import KNeighborsClassifier"
    "from sklearn.model_selection import train_test_split\n",
    "from sklearn.neighbors import KNeighborsClassifier\n",
    "from sklearn import metrics\n",
    "import numpy as np\n",
    "import matplotlib.pyplot as plt\n",
    "from sklearn.tree import DecisionTreeClassifier\n",
    "from sklearn import svm\n",
    "from sklearn.metrics import jaccard_score\n",
    "from sklearn.linear_model import LogisticRegression\n",
    "from sklearn.metrics import classification_report"
   ]
  },
  {
   "cell_type": "code",
   "execution_count": 122,
   "id": "73fd54c9-8635-426c-a13f-1c806bab4e6d",
   "metadata": {},
   "outputs": [],
   "source": [
    "#reading the data as a csv from the uci web server, with header = false as the data contains no header\n",
    "# zoo_data = pd.read_csv(\"https://archive.ics.uci.edu/ml/machine-learning-databases/zoo/zoo.data\", header = None)\n",
    "#Adding column names to the data\n",
    "colm = [ \"animalName\", \"hair\", \"feathers\", \"eggs\", \"milk\", \"airborne\", \"aquatic\", \"predator\", \n",
    "        \"toothed\", \"backbone\", \"breathes\", \"venomous\", \"fins\", \"legs\", \"tail\", \"domestic\", \"catsize\", \"type\" ]\n",
    "#Adding the columns to our zoo_data dataframe\n",
    "zoo_data.columns = colm"
   ]
  },
  {
   "cell_type": "code",
   "execution_count": 123,
   "id": "6dba8bd8-576b-4cf6-b5bd-6fef128c1c98",
   "metadata": {},
   "outputs": [
    {
     "data": {
      "text/html": [
       "<div>\n",
       "<style scoped>\n",
       "    .dataframe tbody tr th:only-of-type {\n",
       "        vertical-align: middle;\n",
       "    }\n",
       "\n",
       "    .dataframe tbody tr th {\n",
       "        vertical-align: top;\n",
       "    }\n",
       "\n",
       "    .dataframe thead th {\n",
       "        text-align: right;\n",
       "    }\n",
       "</style>\n",
       "<table border=\"1\" class=\"dataframe\">\n",
       "  <thead>\n",
       "    <tr style=\"text-align: right;\">\n",
       "      <th></th>\n",
       "      <th>Unnamed: 0</th>\n",
       "      <th>animalName</th>\n",
       "      <th>hair</th>\n",
       "      <th>feathers</th>\n",
       "      <th>eggs</th>\n",
       "      <th>milk</th>\n",
       "      <th>airborne</th>\n",
       "      <th>aquatic</th>\n",
       "      <th>predator</th>\n",
       "      <th>toothed</th>\n",
       "      <th>backbone</th>\n",
       "      <th>breathes</th>\n",
       "      <th>venomous</th>\n",
       "      <th>fins</th>\n",
       "      <th>legs</th>\n",
       "      <th>tail</th>\n",
       "      <th>domestic</th>\n",
       "      <th>catsize</th>\n",
       "      <th>type</th>\n",
       "    </tr>\n",
       "  </thead>\n",
       "  <tbody>\n",
       "    <tr>\n",
       "      <th>0</th>\n",
       "      <td>0</td>\n",
       "      <td>aardvark</td>\n",
       "      <td>1</td>\n",
       "      <td>0</td>\n",
       "      <td>0</td>\n",
       "      <td>1</td>\n",
       "      <td>0</td>\n",
       "      <td>0</td>\n",
       "      <td>1</td>\n",
       "      <td>1</td>\n",
       "      <td>1</td>\n",
       "      <td>1</td>\n",
       "      <td>0</td>\n",
       "      <td>0</td>\n",
       "      <td>4</td>\n",
       "      <td>0</td>\n",
       "      <td>0</td>\n",
       "      <td>1</td>\n",
       "      <td>1</td>\n",
       "    </tr>\n",
       "    <tr>\n",
       "      <th>1</th>\n",
       "      <td>1</td>\n",
       "      <td>antelope</td>\n",
       "      <td>1</td>\n",
       "      <td>0</td>\n",
       "      <td>0</td>\n",
       "      <td>1</td>\n",
       "      <td>0</td>\n",
       "      <td>0</td>\n",
       "      <td>0</td>\n",
       "      <td>1</td>\n",
       "      <td>1</td>\n",
       "      <td>1</td>\n",
       "      <td>0</td>\n",
       "      <td>0</td>\n",
       "      <td>4</td>\n",
       "      <td>1</td>\n",
       "      <td>0</td>\n",
       "      <td>1</td>\n",
       "      <td>1</td>\n",
       "    </tr>\n",
       "    <tr>\n",
       "      <th>2</th>\n",
       "      <td>2</td>\n",
       "      <td>bass</td>\n",
       "      <td>0</td>\n",
       "      <td>0</td>\n",
       "      <td>1</td>\n",
       "      <td>0</td>\n",
       "      <td>0</td>\n",
       "      <td>1</td>\n",
       "      <td>1</td>\n",
       "      <td>1</td>\n",
       "      <td>1</td>\n",
       "      <td>0</td>\n",
       "      <td>0</td>\n",
       "      <td>1</td>\n",
       "      <td>0</td>\n",
       "      <td>1</td>\n",
       "      <td>0</td>\n",
       "      <td>0</td>\n",
       "      <td>4</td>\n",
       "    </tr>\n",
       "    <tr>\n",
       "      <th>3</th>\n",
       "      <td>3</td>\n",
       "      <td>bear</td>\n",
       "      <td>1</td>\n",
       "      <td>0</td>\n",
       "      <td>0</td>\n",
       "      <td>1</td>\n",
       "      <td>0</td>\n",
       "      <td>0</td>\n",
       "      <td>1</td>\n",
       "      <td>1</td>\n",
       "      <td>1</td>\n",
       "      <td>1</td>\n",
       "      <td>0</td>\n",
       "      <td>0</td>\n",
       "      <td>4</td>\n",
       "      <td>0</td>\n",
       "      <td>0</td>\n",
       "      <td>1</td>\n",
       "      <td>1</td>\n",
       "    </tr>\n",
       "    <tr>\n",
       "      <th>4</th>\n",
       "      <td>4</td>\n",
       "      <td>boar</td>\n",
       "      <td>1</td>\n",
       "      <td>0</td>\n",
       "      <td>0</td>\n",
       "      <td>1</td>\n",
       "      <td>0</td>\n",
       "      <td>0</td>\n",
       "      <td>1</td>\n",
       "      <td>1</td>\n",
       "      <td>1</td>\n",
       "      <td>1</td>\n",
       "      <td>0</td>\n",
       "      <td>0</td>\n",
       "      <td>4</td>\n",
       "      <td>1</td>\n",
       "      <td>0</td>\n",
       "      <td>1</td>\n",
       "      <td>1</td>\n",
       "    </tr>\n",
       "  </tbody>\n",
       "</table>\n",
       "</div>"
      ],
      "text/plain": [
       "   Unnamed: 0 animalName  hair  feathers  eggs  milk  airborne  aquatic  \\\n",
       "0           0   aardvark     1         0     0     1         0        0   \n",
       "1           1   antelope     1         0     0     1         0        0   \n",
       "2           2       bass     0         0     1     0         0        1   \n",
       "3           3       bear     1         0     0     1         0        0   \n",
       "4           4       boar     1         0     0     1         0        0   \n",
       "\n",
       "   predator  toothed  backbone  breathes  venomous  fins  legs  tail  \\\n",
       "0         1        1         1         1         0     0     4     0   \n",
       "1         0        1         1         1         0     0     4     1   \n",
       "2         1        1         1         0         0     1     0     1   \n",
       "3         1        1         1         1         0     0     4     0   \n",
       "4         1        1         1         1         0     0     4     1   \n",
       "\n",
       "   domestic  catsize  type  \n",
       "0         0        1     1  \n",
       "1         0        1     1  \n",
       "2         0        0     4  \n",
       "3         0        1     1  \n",
       "4         0        1     1  "
      ]
     },
     "execution_count": 3,
     "metadata": {},
     "output_type": "execute_result"
    }
   ],
   "source": [
    "zoo_data = pd.read_csv(\"./data/zoo.csv\")\n",
    "zoo_data.head()"
   ]
  },
  {
   "cell_type": "markdown",
   "id": "018cfa28-68c7-4b37-9901-7265162dd61c",
   "metadata": {},
   "source": [
    "The first thing is to import the data. The dataset is downloaded from [UCI repository](\"https://archive-beta.ics.uci.edu/ml/datasets/zoo\"). It is then saved as a csv file in this project repository. Some exploratory data analysis needs to be run before running the actual analyses on the dataset."
   ]
  },
  {
   "cell_type": "code",
   "execution_count": 29,
   "id": "fdf3fe98-78fe-4554-80ef-cd921a2228c9",
   "metadata": {},
   "outputs": [],
   "source": [
    "#saving the data as a csv file in our data directory\n",
    "# zoo_data.to_csv(r'./data/zoo.csv')"
   ]
  },
  {
   "cell_type": "code",
   "execution_count": 30,
   "id": "c5ce93ae-0374-4541-978f-25db399ae729",
   "metadata": {},
   "outputs": [
    {
     "name": "stdout",
     "output_type": "stream",
     "text": [
      "Whether the dataset contains missing value: False\n"
     ]
    }
   ],
   "source": [
    "# Check if there are missing values\n",
    "print(\"Whether the dataset contains missing value: \" + str(zoo_data.isna().any().any()))"
   ]
  },
  {
   "cell_type": "code",
   "execution_count": 31,
   "id": "346a692f-b32a-464a-92bf-4edd7f331618",
   "metadata": {},
   "outputs": [],
   "source": [
    "# drop the first column\n",
    "zoo_data = zoo_data.drop(zoo_data.columns[[0,1]], axis=1)"
   ]
  },
  {
   "cell_type": "code",
   "execution_count": 32,
   "id": "d3a7cd9f-c171-4e0a-9072-1746a91b23fe",
   "metadata": {},
   "outputs": [
    {
     "data": {
      "text/html": [
       "<div>\n",
       "<style scoped>\n",
       "    .dataframe tbody tr th:only-of-type {\n",
       "        vertical-align: middle;\n",
       "    }\n",
       "\n",
       "    .dataframe tbody tr th {\n",
       "        vertical-align: top;\n",
       "    }\n",
       "\n",
       "    .dataframe thead th {\n",
       "        text-align: right;\n",
       "    }\n",
       "</style>\n",
       "<table border=\"1\" class=\"dataframe\">\n",
       "  <thead>\n",
       "    <tr style=\"text-align: right;\">\n",
       "      <th></th>\n",
       "      <th>eggs</th>\n",
       "      <th>milk</th>\n",
       "      <th>airborne</th>\n",
       "      <th>aquatic</th>\n",
       "      <th>predator</th>\n",
       "      <th>toothed</th>\n",
       "      <th>backbone</th>\n",
       "      <th>breathes</th>\n",
       "      <th>venomous</th>\n",
       "      <th>fins</th>\n",
       "      <th>legs</th>\n",
       "      <th>tail</th>\n",
       "      <th>domestic</th>\n",
       "      <th>catsize</th>\n",
       "      <th>type</th>\n",
       "    </tr>\n",
       "  </thead>\n",
       "  <tbody>\n",
       "    <tr>\n",
       "      <th>count</th>\n",
       "      <td>101.000000</td>\n",
       "      <td>101.000000</td>\n",
       "      <td>101.000000</td>\n",
       "      <td>101.000000</td>\n",
       "      <td>101.000000</td>\n",
       "      <td>101.000000</td>\n",
       "      <td>101.000000</td>\n",
       "      <td>101.000000</td>\n",
       "      <td>101.000000</td>\n",
       "      <td>101.000000</td>\n",
       "      <td>101.000000</td>\n",
       "      <td>101.000000</td>\n",
       "      <td>101.000000</td>\n",
       "      <td>101.000000</td>\n",
       "      <td>101.000000</td>\n",
       "    </tr>\n",
       "    <tr>\n",
       "      <th>mean</th>\n",
       "      <td>0.584158</td>\n",
       "      <td>0.405941</td>\n",
       "      <td>0.237624</td>\n",
       "      <td>0.356436</td>\n",
       "      <td>0.554455</td>\n",
       "      <td>0.603960</td>\n",
       "      <td>0.821782</td>\n",
       "      <td>0.792079</td>\n",
       "      <td>0.079208</td>\n",
       "      <td>0.168317</td>\n",
       "      <td>2.841584</td>\n",
       "      <td>0.742574</td>\n",
       "      <td>0.128713</td>\n",
       "      <td>0.435644</td>\n",
       "      <td>2.831683</td>\n",
       "    </tr>\n",
       "    <tr>\n",
       "      <th>std</th>\n",
       "      <td>0.495325</td>\n",
       "      <td>0.493522</td>\n",
       "      <td>0.427750</td>\n",
       "      <td>0.481335</td>\n",
       "      <td>0.499505</td>\n",
       "      <td>0.491512</td>\n",
       "      <td>0.384605</td>\n",
       "      <td>0.407844</td>\n",
       "      <td>0.271410</td>\n",
       "      <td>0.376013</td>\n",
       "      <td>2.033385</td>\n",
       "      <td>0.439397</td>\n",
       "      <td>0.336552</td>\n",
       "      <td>0.498314</td>\n",
       "      <td>2.102709</td>\n",
       "    </tr>\n",
       "    <tr>\n",
       "      <th>min</th>\n",
       "      <td>0.000000</td>\n",
       "      <td>0.000000</td>\n",
       "      <td>0.000000</td>\n",
       "      <td>0.000000</td>\n",
       "      <td>0.000000</td>\n",
       "      <td>0.000000</td>\n",
       "      <td>0.000000</td>\n",
       "      <td>0.000000</td>\n",
       "      <td>0.000000</td>\n",
       "      <td>0.000000</td>\n",
       "      <td>0.000000</td>\n",
       "      <td>0.000000</td>\n",
       "      <td>0.000000</td>\n",
       "      <td>0.000000</td>\n",
       "      <td>1.000000</td>\n",
       "    </tr>\n",
       "    <tr>\n",
       "      <th>25%</th>\n",
       "      <td>0.000000</td>\n",
       "      <td>0.000000</td>\n",
       "      <td>0.000000</td>\n",
       "      <td>0.000000</td>\n",
       "      <td>0.000000</td>\n",
       "      <td>0.000000</td>\n",
       "      <td>1.000000</td>\n",
       "      <td>1.000000</td>\n",
       "      <td>0.000000</td>\n",
       "      <td>0.000000</td>\n",
       "      <td>2.000000</td>\n",
       "      <td>0.000000</td>\n",
       "      <td>0.000000</td>\n",
       "      <td>0.000000</td>\n",
       "      <td>1.000000</td>\n",
       "    </tr>\n",
       "    <tr>\n",
       "      <th>50%</th>\n",
       "      <td>1.000000</td>\n",
       "      <td>0.000000</td>\n",
       "      <td>0.000000</td>\n",
       "      <td>0.000000</td>\n",
       "      <td>1.000000</td>\n",
       "      <td>1.000000</td>\n",
       "      <td>1.000000</td>\n",
       "      <td>1.000000</td>\n",
       "      <td>0.000000</td>\n",
       "      <td>0.000000</td>\n",
       "      <td>4.000000</td>\n",
       "      <td>1.000000</td>\n",
       "      <td>0.000000</td>\n",
       "      <td>0.000000</td>\n",
       "      <td>2.000000</td>\n",
       "    </tr>\n",
       "    <tr>\n",
       "      <th>75%</th>\n",
       "      <td>1.000000</td>\n",
       "      <td>1.000000</td>\n",
       "      <td>0.000000</td>\n",
       "      <td>1.000000</td>\n",
       "      <td>1.000000</td>\n",
       "      <td>1.000000</td>\n",
       "      <td>1.000000</td>\n",
       "      <td>1.000000</td>\n",
       "      <td>0.000000</td>\n",
       "      <td>0.000000</td>\n",
       "      <td>4.000000</td>\n",
       "      <td>1.000000</td>\n",
       "      <td>0.000000</td>\n",
       "      <td>1.000000</td>\n",
       "      <td>4.000000</td>\n",
       "    </tr>\n",
       "    <tr>\n",
       "      <th>max</th>\n",
       "      <td>1.000000</td>\n",
       "      <td>1.000000</td>\n",
       "      <td>1.000000</td>\n",
       "      <td>1.000000</td>\n",
       "      <td>1.000000</td>\n",
       "      <td>1.000000</td>\n",
       "      <td>1.000000</td>\n",
       "      <td>1.000000</td>\n",
       "      <td>1.000000</td>\n",
       "      <td>1.000000</td>\n",
       "      <td>8.000000</td>\n",
       "      <td>1.000000</td>\n",
       "      <td>1.000000</td>\n",
       "      <td>1.000000</td>\n",
       "      <td>7.000000</td>\n",
       "    </tr>\n",
       "  </tbody>\n",
       "</table>\n",
       "</div>"
      ],
      "text/plain": [
       "             eggs        milk    airborne     aquatic    predator     toothed  \\\n",
       "count  101.000000  101.000000  101.000000  101.000000  101.000000  101.000000   \n",
       "mean     0.584158    0.405941    0.237624    0.356436    0.554455    0.603960   \n",
       "std      0.495325    0.493522    0.427750    0.481335    0.499505    0.491512   \n",
       "min      0.000000    0.000000    0.000000    0.000000    0.000000    0.000000   \n",
       "25%      0.000000    0.000000    0.000000    0.000000    0.000000    0.000000   \n",
       "50%      1.000000    0.000000    0.000000    0.000000    1.000000    1.000000   \n",
       "75%      1.000000    1.000000    0.000000    1.000000    1.000000    1.000000   \n",
       "max      1.000000    1.000000    1.000000    1.000000    1.000000    1.000000   \n",
       "\n",
       "         backbone    breathes    venomous        fins        legs        tail  \\\n",
       "count  101.000000  101.000000  101.000000  101.000000  101.000000  101.000000   \n",
       "mean     0.821782    0.792079    0.079208    0.168317    2.841584    0.742574   \n",
       "std      0.384605    0.407844    0.271410    0.376013    2.033385    0.439397   \n",
       "min      0.000000    0.000000    0.000000    0.000000    0.000000    0.000000   \n",
       "25%      1.000000    1.000000    0.000000    0.000000    2.000000    0.000000   \n",
       "50%      1.000000    1.000000    0.000000    0.000000    4.000000    1.000000   \n",
       "75%      1.000000    1.000000    0.000000    0.000000    4.000000    1.000000   \n",
       "max      1.000000    1.000000    1.000000    1.000000    8.000000    1.000000   \n",
       "\n",
       "         domestic     catsize        type  \n",
       "count  101.000000  101.000000  101.000000  \n",
       "mean     0.128713    0.435644    2.831683  \n",
       "std      0.336552    0.498314    2.102709  \n",
       "min      0.000000    0.000000    1.000000  \n",
       "25%      0.000000    0.000000    1.000000  \n",
       "50%      0.000000    0.000000    2.000000  \n",
       "75%      0.000000    1.000000    4.000000  \n",
       "max      1.000000    1.000000    7.000000  "
      ]
     },
     "execution_count": 123,
     "metadata": {},
     "output_type": "execute_result"
    }
   ],
   "source": [
    "# Create a summary of the data set, including descriptive statistics\n",
    "zoo_data.describe()"
   ]
  },
  {
   "cell_type": "markdown",
   "id": "e20b6609-03e5-447e-86c0-71f76cbab14f",
   "metadata": {},
   "source": [
    "After checking whether there is missing value in the dataset, and generating a summary of the dataset, it is clear that the data is clean. Since most features are binary and categorical, there is no need to do normalization and standardization."
   ]
  },
  {
   "cell_type": "code",
   "execution_count": 33,
   "id": "aacff929-4025-44a8-ac51-ee36374eb85b",
   "metadata": {},
   "outputs": [
    {
     "data": {
      "image/png": "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\n",
      "text/plain": [
       "<Figure size 1080x1080 with 16 Axes>"
      ]
     },
     "metadata": {
      "needs_background": "light"
     },
     "output_type": "display_data"
    }
   ],
   "source": [
    "# Create a visualization of the dataset\n",
    "zoo_data.hist(figsize=(15,15));\n",
    "plt.suptitle(\"fig.1 Histogram of all features\");"
   ]
  },
  {
   "cell_type": "markdown",
   "id": "27c14a2e-0fe2-45bf-b897-1d16311f95f5",
   "metadata": {},
   "source": [
    "As shown in fig.1, the histograms of each feature are generated. The ones with skewed distribution might be more decisive in the prediction. However, since the dataset is relatively small, all the features except the `animalName` are going to be used to predict. In the next part, we are going to split the data, into the training set and testing set. Then, different classification models will be trained for future evaluation."
   ]
  },
  {
   "cell_type": "code",
   "execution_count": 9,
   "id": "a2a52703-d760-4b5d-96e8-b358bcf49ffb",
   "metadata": {},
   "outputs": [],
   "source": [
    "# Split train and test set\n",
    "zoo_train, zoo_test = train_test_split(zoo_data, test_size=0.2, random_state=123)\n",
    "zoo_train_X, zoo_train_y = zoo_train.drop(columns=[\"type\"]), zoo_train[\"type\"]\n",
    "zoo_test_X, zoo_test_y = zoo_test.drop(columns=[\"type\"]), zoo_test[\"type\"]"
   ]
  },
  {
   "cell_type": "code",
   "execution_count": 10,
   "id": "e658ce4d-1e89-4659-842a-b3615f6e19f5",
   "metadata": {},
   "outputs": [],
   "source": [
    "# Creating models\n",
    "knn = KNeighborsClassifier()\n",
    "dt = DecisionTreeClassifier()"
   ]
  },
  {
   "cell_type": "markdown",
   "id": "bc4f8198-b79f-45b7-a47b-1d07855942b1",
   "metadata": {},
   "source": [
    "Before actually fitting the models, we are going to optimize the hyperparameters for each model. The `GridSearchCV` can automatically search and evaluating the values of each hyperparamter, then choose the best one to fit the model."
   ]
  },
  {
   "cell_type": "code",
   "execution_count": 11,
   "id": "9f6e9854-4983-4631-ba42-00ecd13bbfb8",
   "metadata": {},
   "outputs": [
    {
     "data": {
      "text/plain": [
       "{'n_neighbors': 1}"
      ]
     },
     "execution_count": 11,
     "metadata": {},
     "output_type": "execute_result"
    }
   ],
   "source": [
    "# Finding K value for KNN\n",
    "k_vals = list(range(1, 21))\n",
    "param_grid = dict(n_neighbors=k_vals)\n",
    "grid = GridSearchCV(knn, param_grid, cv=4, scoring='accuracy')\n",
    "grid.fit(zoo_train_X, zoo_train_y)\n",
    "grid.best_params_"
   ]
  },
  {
   "cell_type": "code",
   "execution_count": 24,
   "id": "d324cc78-585e-4ae4-987b-85f1b87fd3b5",
   "metadata": {},
   "outputs": [
    {
     "data": {
      "text/plain": [
       "{'max_depth': 8}"
      ]
     },
     "execution_count": 24,
     "metadata": {},
     "output_type": "execute_result"
    }
   ],
   "source": [
    "# Finding max depth for Decision Tree\n",
    "depths = list(range(1, 80))\n",
    "param_grid = dict(max_depth=depths)\n",
    "grid = GridSearchCV(dt, param_grid, cv=4, scoring='accuracy')\n",
    "grid.fit(zoo_train_X, zoo_train_y)\n",
    "grid.best_params_"
   ]
  },
  {
   "cell_type": "code",
   "execution_count": 25,
   "id": "7cab2457-68ff-4a67-a82f-73bd5812f31e",
   "metadata": {},
   "outputs": [],
   "source": [
    "# Training models\n",
    "knn = KNeighborsClassifier(n_neighbors=1)\n",
    "dt = DecisionTreeClassifier(max_depth=8)\n",
    "knn.fit(zoo_train_X, zoo_train_y);\n",
    "dt.fit(zoo_train_X, zoo_train_y);"
   ]
  },
  {
   "cell_type": "code",
   "execution_count": 26,
   "id": "6a209fad-642b-41ea-9f41-db6cf9c08b0a",
   "metadata": {},
   "outputs": [
    {
     "data": {
      "text/plain": [
       "fit_time       0.001717\n",
       "score_time     0.002248\n",
       "test_score     0.975000\n",
       "train_score    1.000000\n",
       "dtype: float64"
      ]
     },
     "execution_count": 26,
     "metadata": {},
     "output_type": "execute_result"
    }
   ],
   "source": [
    "# cross-validation on knn\n",
    "cv_results_knn = cross_validate(knn, zoo_train_X, zoo_train_y, cv=4, return_train_score=True);\n",
    "pd.DataFrame(cv_results_knn).mean()"
   ]
  },
  {
   "cell_type": "code",
   "execution_count": 27,
   "id": "61cbb062-45ba-4250-9f64-ac2f85a85fb0",
   "metadata": {},
   "outputs": [
    {
     "data": {
      "text/plain": [
       "fit_time       0.002095\n",
       "score_time     0.001410\n",
       "test_score     0.950000\n",
       "train_score    1.000000\n",
       "dtype: float64"
      ]
     },
     "execution_count": 27,
     "metadata": {},
     "output_type": "execute_result"
    }
   ],
   "source": [
    "# cross-validation on decision tree\n",
    "cv_results_dt = cross_validate(dt, zoo_train_X, zoo_train_y, cv=4, return_train_score=True);\n",
    "pd.DataFrame(cv_results_dt).mean()"
   ]
  },
  {
   "cell_type": "code",
   "execution_count": 28,
   "id": "73a3d957-9d4c-4cc3-80eb-ea3a962e3706",
   "metadata": {},
   "outputs": [
    {
     "name": "stdout",
     "output_type": "stream",
     "text": [
      "Test accuracy of KNN: 1.0\n",
      "Test accuracy of Decision Tree: 0.9047619047619048\n"
     ]
    }
   ],
   "source": [
    "print(\"Test accuracy of KNN: \" + str(knn.score(zoo_test_X, zoo_test_y)))\n",
    "print(\"Test accuracy of Decision Tree: \" + str(dt.score(zoo_test_X, zoo_test_y)))"
   ]
  },
  {
   "cell_type": "markdown",
   "id": "ddd1356c",
   "metadata": {},
   "source": [
    "### Classification\n",
    "Now we will use the training set to build an accurate model. Then use the test set to report the accuracy of the models, we will use the following algorithm:\n",
    "\n",
    "K Nearest Neighbor(KNN)\n",
    "<br>\n",
    "Decision Tree\n",
    "<br>\n",
    "Support Vector Machine\n",
    "<br>\n",
    "Logistic Regression"
   ]
  },
  {
   "cell_type": "code",
   "execution_count": 124,
   "id": "a3eea773",
   "metadata": {},
   "outputs": [
    {
     "data": {
      "text/html": [
       "<div>\n",
       "<style scoped>\n",
       "    .dataframe tbody tr th:only-of-type {\n",
       "        vertical-align: middle;\n",
       "    }\n",
       "\n",
       "    .dataframe tbody tr th {\n",
       "        vertical-align: top;\n",
       "    }\n",
       "\n",
       "    .dataframe thead th {\n",
       "        text-align: right;\n",
       "    }\n",
       "</style>\n",
       "<table border=\"1\" class=\"dataframe\">\n",
       "  <thead>\n",
       "    <tr style=\"text-align: right;\">\n",
       "      <th></th>\n",
       "      <th>hair</th>\n",
       "      <th>feathers</th>\n",
       "      <th>eggs</th>\n",
       "      <th>milk</th>\n",
       "      <th>airborne</th>\n",
       "      <th>aquatic</th>\n",
       "      <th>predator</th>\n",
       "      <th>toothed</th>\n",
       "      <th>backbone</th>\n",
       "      <th>breathes</th>\n",
       "      <th>venomous</th>\n",
       "      <th>fins</th>\n",
       "      <th>legs</th>\n",
       "      <th>tail</th>\n",
       "      <th>domestic</th>\n",
       "      <th>catsize</th>\n",
       "    </tr>\n",
       "  </thead>\n",
       "  <tbody>\n",
       "    <tr>\n",
       "      <th>0</th>\n",
       "      <td>1</td>\n",
       "      <td>0</td>\n",
       "      <td>0</td>\n",
       "      <td>1</td>\n",
       "      <td>0</td>\n",
       "      <td>0</td>\n",
       "      <td>1</td>\n",
       "      <td>1</td>\n",
       "      <td>1</td>\n",
       "      <td>1</td>\n",
       "      <td>0</td>\n",
       "      <td>0</td>\n",
       "      <td>4</td>\n",
       "      <td>0</td>\n",
       "      <td>0</td>\n",
       "      <td>1</td>\n",
       "    </tr>\n",
       "    <tr>\n",
       "      <th>1</th>\n",
       "      <td>1</td>\n",
       "      <td>0</td>\n",
       "      <td>0</td>\n",
       "      <td>1</td>\n",
       "      <td>0</td>\n",
       "      <td>0</td>\n",
       "      <td>0</td>\n",
       "      <td>1</td>\n",
       "      <td>1</td>\n",
       "      <td>1</td>\n",
       "      <td>0</td>\n",
       "      <td>0</td>\n",
       "      <td>4</td>\n",
       "      <td>1</td>\n",
       "      <td>0</td>\n",
       "      <td>1</td>\n",
       "    </tr>\n",
       "    <tr>\n",
       "      <th>2</th>\n",
       "      <td>0</td>\n",
       "      <td>0</td>\n",
       "      <td>1</td>\n",
       "      <td>0</td>\n",
       "      <td>0</td>\n",
       "      <td>1</td>\n",
       "      <td>1</td>\n",
       "      <td>1</td>\n",
       "      <td>1</td>\n",
       "      <td>0</td>\n",
       "      <td>0</td>\n",
       "      <td>1</td>\n",
       "      <td>0</td>\n",
       "      <td>1</td>\n",
       "      <td>0</td>\n",
       "      <td>0</td>\n",
       "    </tr>\n",
       "    <tr>\n",
       "      <th>3</th>\n",
       "      <td>1</td>\n",
       "      <td>0</td>\n",
       "      <td>0</td>\n",
       "      <td>1</td>\n",
       "      <td>0</td>\n",
       "      <td>0</td>\n",
       "      <td>1</td>\n",
       "      <td>1</td>\n",
       "      <td>1</td>\n",
       "      <td>1</td>\n",
       "      <td>0</td>\n",
       "      <td>0</td>\n",
       "      <td>4</td>\n",
       "      <td>0</td>\n",
       "      <td>0</td>\n",
       "      <td>1</td>\n",
       "    </tr>\n",
       "    <tr>\n",
       "      <th>4</th>\n",
       "      <td>1</td>\n",
       "      <td>0</td>\n",
       "      <td>0</td>\n",
       "      <td>1</td>\n",
       "      <td>0</td>\n",
       "      <td>0</td>\n",
       "      <td>1</td>\n",
       "      <td>1</td>\n",
       "      <td>1</td>\n",
       "      <td>1</td>\n",
       "      <td>0</td>\n",
       "      <td>0</td>\n",
       "      <td>4</td>\n",
       "      <td>1</td>\n",
       "      <td>0</td>\n",
       "      <td>1</td>\n",
       "    </tr>\n",
       "  </tbody>\n",
       "</table>\n",
       "</div>"
      ],
      "text/plain": [
       "   hair  feathers  eggs  milk  airborne  aquatic  predator  toothed  backbone  \\\n",
       "0     1         0     0     1         0        0         1        1         1   \n",
       "1     1         0     0     1         0        0         0        1         1   \n",
       "2     0         0     1     0         0        1         1        1         1   \n",
       "3     1         0     0     1         0        0         1        1         1   \n",
       "4     1         0     0     1         0        0         1        1         1   \n",
       "\n",
       "   breathes  venomous  fins  legs  tail  domestic  catsize  \n",
       "0         1         0     0     4     0         0        1  \n",
       "1         1         0     0     4     1         0        1  \n",
       "2         0         0     1     0     1         0        0  \n",
       "3         1         0     0     4     0         0        1  \n",
       "4         1         0     0     4     1         0        1  "
      ]
     },
     "execution_count": 124,
     "metadata": {},
     "output_type": "execute_result"
    }
   ],
   "source": [
    "#extracting the feature that will predict\n",
    "feature = zoo_data[[ \"hair\", \"feathers\", \"eggs\", \"milk\", \"airborne\", \n",
    "                   \"aquatic\", \"predator\", \"toothed\", \"backbone\", \"breathes\", \n",
    "                   \"venomous\", \"fins\", \"legs\", \"tail\", \"domestic\", \"catsize\"]]\n",
    "#making it as a X\n",
    "X = feature\n",
    "X.head()"
   ]
  },
  {
   "cell_type": "code",
   "execution_count": 125,
   "id": "c418b49b",
   "metadata": {},
   "outputs": [
    {
     "data": {
      "text/plain": [
       "0    1\n",
       "1    1\n",
       "2    4\n",
       "3    1\n",
       "4    1\n",
       "Name: type, dtype: int64"
      ]
     },
     "execution_count": 125,
     "metadata": {},
     "output_type": "execute_result"
    }
   ],
   "source": [
    "#taking the y values, the type\n",
    "y = zoo_data['type']\n",
    "y[0:5]"
   ]
  },
  {
   "cell_type": "markdown",
   "id": "7d8b4310",
   "metadata": {},
   "source": [
    "# KNN\n",
    "Explain KNN in 2 lines"
   ]
  },
  {
   "cell_type": "code",
   "execution_count": 126,
   "id": "dd8cbd53",
   "metadata": {},
   "outputs": [
    {
     "name": "stdout",
     "output_type": "stream",
     "text": [
      "Training set: (80, 16) (80,)\n",
      "Test set: (21, 16) (21,)\n"
     ]
    }
   ],
   "source": [
    "#splitting the dataset 80-20 for train and test\n",
    "X_train, X_test, y_train, y_test = train_test_split( X, y, test_size=0.2, random_state=4)\n",
    "print ('Training set:', X_train.shape,  y_train.shape)\n",
    "print ('Test set:', X_test.shape,  y_test.shape)"
   ]
  },
  {
   "cell_type": "code",
   "execution_count": 127,
   "id": "60c37bfa",
   "metadata": {},
   "outputs": [
    {
     "data": {
      "text/plain": [
       "array([1.        , 0.95238095, 0.95238095, 0.9047619 , 0.85714286,\n",
       "       0.80952381, 0.85714286, 0.76190476, 0.76190476, 0.76190476,\n",
       "       0.76190476, 0.76190476, 0.76190476, 0.76190476, 0.76190476,\n",
       "       0.76190476, 0.76190476, 0.71428571, 0.61904762, 0.61904762,\n",
       "       0.61904762, 0.61904762, 0.61904762, 0.61904762, 0.61904762,\n",
       "       0.61904762, 0.61904762, 0.61904762, 0.61904762, 0.61904762,\n",
       "       0.61904762, 0.61904762, 0.61904762, 0.57142857, 0.57142857,\n",
       "       0.57142857, 0.57142857, 0.57142857, 0.57142857, 0.57142857,\n",
       "       0.57142857, 0.57142857, 0.57142857, 0.57142857, 0.57142857,\n",
       "       0.47619048, 0.42857143, 0.42857143, 0.42857143, 0.33333333,\n",
       "       0.33333333, 0.33333333, 0.33333333, 0.33333333, 0.33333333,\n",
       "       0.33333333, 0.33333333, 0.33333333, 0.33333333, 0.33333333,\n",
       "       0.33333333, 0.33333333, 0.33333333, 0.33333333, 0.33333333,\n",
       "       0.33333333, 0.33333333, 0.33333333, 0.33333333, 0.33333333,\n",
       "       0.33333333, 0.33333333, 0.33333333, 0.33333333, 0.33333333,\n",
       "       0.33333333, 0.33333333, 0.33333333, 0.33333333, 0.33333333])"
      ]
     },
     "execution_count": 127,
     "metadata": {},
     "output_type": "execute_result"
    }
   ],
   "source": [
    "#training the model for different set of K values and finding the best K value\n",
    "Ks = 81\n",
    "mean_acc = np.zeros((Ks-1))\n",
    "std_acc = np.zeros((Ks-1))\n",
    "ConfustionMx = [];\n",
    "for n in range(1,Ks):\n",
    "    \n",
    "    #Train Model and Predict  \n",
    "    neigh = KNeighborsClassifier(n_neighbors = n).fit(X_train,y_train)\n",
    "    yhat=neigh.predict(X_test)\n",
    "    mean_acc[n-1] = metrics.accuracy_score(y_test, yhat)\n",
    "\n",
    "    \n",
    "    std_acc[n-1]=np.std(yhat==y_test)/np.sqrt(yhat.shape[0])\n",
    "\n",
    "mean_acc"
   ]
  },
  {
   "cell_type": "code",
   "execution_count": 128,
   "id": "7c1160b6",
   "metadata": {},
   "outputs": [
    {
     "data": {
      "image/png": "iVBORw0KGgoAAAANSUhEUgAAAagAAAEYCAYAAAAJeGK1AAAAOXRFWHRTb2Z0d2FyZQBNYXRwbG90bGliIHZlcnNpb24zLjUuMSwgaHR0cHM6Ly9tYXRwbG90bGliLm9yZy/YYfK9AAAACXBIWXMAAAsTAAALEwEAmpwYAAA2NElEQVR4nO3deXxU9dX48c+ZmSzsEIiyKiAJgQpEyuJal7qAoMCj/gR99NFW+dGq1fbR1v6e/my1ra32V9unastjrdpFQWsVqSC44L4V1KggS8KiRJRVdrLMzPn9cW/iZDJJZsLcWTLn/Xrlxcy9d+6chCQn3+8993xFVTHGGGMyjS/dARhjjDGxWIIyxhiTkSxBGWOMyUiWoIwxxmQkS1DGGGMyUiDdASSqT58+Onjw4HSHYYwxJkneeeedHapaHL096xLU4MGDWbFiRbrDMMYYkyQi8nGs7TbFZ4wxJiNZgjLGGJORLEEZY4zJSFl3DcoYY1Klvr6e6upqampq0h1Kh1BYWMjAgQPJy8uL63hLUMYY04Lq6mq6devG4MGDEZF0h5PVVJWdO3dSXV3NkCFD4nqNTfEZY0wLampq6N27tyWnJBARevfundBo1LMEJSIPiMg2EVnZwn4Rkd+JSJWIfCAiY72KxRhj2suSU/Ik+rX0cgT1EDCplf2TgRL3YzbwBw9jMcYYk2U8S1Cq+gqwq5VDpgF/UcdbQE8R6edVPA3+XPFnZv9zttdvY4wxSfPkk08iIqxZsybdoaRUOq9BDQA2Rzyvdrc1IyKzRWSFiKzYvn37Yb3px3s+5o/v/pGVn2/kiwN17DlYz96aph/7auoP6z2MMSaZ5s2bx8knn8z8+fM9fZ9QKOTp+ROVzgQVazIy5vK+qnqfqo5T1XHFxc3aNSXkwpEXAvDPdU9RFwpTEwxxqK7px8G6EDX1mfUfZYzJTfv37+f111/nT3/6U5MEFQqFuPHGGxk1ahSjR4/m7rvvBmD58uWceOKJjBkzhgkTJrBv3z4eeughrr322sbXTp06lZdeegmArl27cssttzBx4kTefPNNbrvtNsaPH8+xxx7L7NmzaVh1vaqqijPPPJMxY8YwduxY1q9fz2WXXcZTTz3VeN5LL72UhQsXJu1zT2eZeTUwKOL5QGCL1286sngkw3uXsahqAd8on9PicftrgxTm+b0OxxiTJW5YcgMVn1ck9Zzlfcv57aTftnrMggULmDRpEqWlpRQVFfHuu+8yduxY7rvvPjZu3Mh7771HIBBg165d1NXVcfHFF/Poo48yfvx49u7dS6dOnVo9/4EDBzj22GO57bbbABg5ciS33HILAJdddhlPP/005513Hpdeeik333wzM2bMoKamhnA4zFVXXcVvfvMbpk2bxp49e3jjjTf485//nJSvDaR3BLUQuNyt5jse2KOqn6XijaeXzeDN6lfZcbDl6cJQWG0UZYxJu3nz5jFz5kwAZs6cybx58wB4/vnnmTNnDoGAM84oKipi7dq19OvXj/HjxwPQvXv3xv0t8fv9XHDBBY3PX3zxRSZOnMioUaNYtmwZq1atYt++fXz66afMmDEDcG647dy5M6eeeipVVVVs27aNefPmccEFF7T5fonwbAQlIvOA04A+IlIN/BjIA1DVucBi4FygCjgIXOlVLNEuHHEhd7z+C5auf5pLR7X8tjaKMsY0aGuk44WdO3eybNkyVq5ciYgQCoUQEe68805UtVnZdqxtAIFAgHA43Pg88l6kwsJC/H5/4/Zvf/vbrFixgkGDBvGTn/yEmpqaxmm+WC677DIefvhh5s+fzwMPPHC4n3ITXlbxzVLVfqqap6oDVfVPqjrXTU641XvXqOoxqjpKVVO2hsZX+x/HUd0H83TVglaPC4WVQ3U2ijLGpMfjjz/O5Zdfzscff8ymTZvYvHkzQ4YM4bXXXuPss89m7ty5BINBAHbt2kVZWRlbtmxh+fLlAOzbt49gMMjgwYOpqKggHA6zefNm/vWvf8V8v4bE1adPH/bv38/jjz8OOCOxgQMHsmDBAgBqa2s5ePAgAFdccQW//e1vAfjKV76S1M8/JztJiAjnl87gtU9eZE/N7laP3V8bbPWvB2OM8cq8efMap9UaXHDBBTzyyCNcddVVHHXUUYwePZoxY8bwyCOPkJ+fz6OPPsp1113HmDFjOOuss6ipqeGkk05iyJAhjBo1ihtvvJGxY2P3RejZsydXX301o0aNYvr06Y1ThQB//etf+d3vfsfo0aM58cQT+fzzzwE48sgjGTFiBFdemfxJMMm2X77jxo3TZCxY+Pz61zjrb6dw9zl/4qKRl7R6bLfCAJ3zrW2hMblm9erVjBgxIt1hZLSDBw8yatQo3n33XXr06NHm8bG+piLyjqqOiz42J0dQABMHTKBf1/4sqnqyzWMP1IZsFGWMMVGef/55ysrKuO666+JKTonK2WFBfsDPucOm8fCHD3Kgbj9d8ru2eGxYlZr6MJ3yrWDCGGManHnmmXzyySeenT9nR1ABn4+pJf9GTaiG5zcuafP4g3XBFERljDGmQc4mKL9PmNj/BPp0PoJFbVTzAQTDSm3QKvqMMSZVcnaKDyA/EODcY87n8TXzeOj9+xC3+5JPfEw6ZirFXY5scvyhuhAFAZvmM8aYVMjpBBXw+7hgxEz+8uH93Lzs+ib7Kra+w6/P+n2TbbXBMMFQmIA/ZweexhiTMjn9mzbgEyYOOIk139rCB7M3Nn5MLZnBM+v/STDc/LrTQWt/ZEzO2rq3JqkfyfLmm29y9dVXt3rM3LlzGTVqFOXl5Zx88sl89NFHCb/P7t27+f3vf9/i/iuuuKLx5t5kyOkE5fc5U3o9C3txRJe+jR/Th1/ErkM7eKv6tWavqamzknNjTOq99NJLXHHFFTH3LVmyhEmTWlsfFi655BI+/PBDKioq+P73v8/3vve9hGNoK0ElW04nqIAv9vLDpw8+m06BTjFbISlw0NofGWMyyAsvvMCZZ57Z6jHdu3dvfHzgwIHGnn1PPvkkZ555JqrKZ599RmlpKZ9//jmrVq1iwoQJlJeXM3r0aCorK7n55ptZv3495eXl3HTTTagq1157LSNHjmTKlCls27YtqZ9Xzl+DEpovQtUlrwtnDD6bZ6qe4vbT78InTfP4wboQXQpy+ktnjMkQO3bsIC8vL64bZe+9917uuusu6urqWLZsGQAzZszgH//4B/feey9Llizh1ltvpW/fvvz85z/n+uuv59JLL6Wuro5QKMQvf/lLVq5cSUVFBQBPPPEEa9eu5cMPP2Tr1q2MHDmSb3zjG0n73HJ6BAVfTvNFm1Iyna0HPmfFlrea7XNu3G19FGXTgMaYZJg4cSLl5eVcddVVLFy4kPLycsrLy1m6dCkAzz77LGeffXZc57rmmmtYv349d9xxBz/72c8at99999384he/oKCggFmzZgFwwgkncPvtt3PHHXfw8ccfx1xX6pVXXmHWrFn4/X769+/PGWeckYTP+Es5n6ACvthfgrOGnEu+P7/Fe6Ta6nJ+qD5EKGxJyhhzeN5++20qKiq4//77Of/886moqKCiooJzzjkHgGeeeabx+tOVV15JeXk55557bqvnnDlzZmNncoBPP/0Un8/H1q1bG5fluOSSS1i4cCGdOnXinHPOaRxxRYu1vEey5HyC8vtjf3G7FXTna0d9nUVVT8UcDdWFwq0moEN1IepD4Rb3G2PM4VJVPvjgA8rLywF48MEHqaioYPHixc2OraysbHy8aNEiSkpKAAgGg1x55ZU88sgjjBgxgrvuuguADRs2MHToUL7zne9w/vnn88EHH9CtWzf27dvXeJ6vfe1rzJ8/n1AoxGeffcaLL76Y1M8v5y+ktFQoAc403/Mbn+H9re9S3verzfYfrAvSrTCv2fa6YJhgWKkPhW3BQ2M6kCO7F6Y7hCbeeecdjjvuuLhGMffccw/PP/88eXl59OrVq3Fp9ttvv51TTjmFU045hfLycsaPH8+UKVNYsGABf/vb38jLy6Nv377ccsstFBUVcdJJJ3HssccyefJk7rzzTpYtW8aoUaMoLS3l1FNPTernl7PLbTQIhsLsPFAXc9+uQzsZ9T9H8+1x3+W/Tv5ps/0iUNy1oNk3x55D9dTUh8j3++jVJT9psRpjUivTl9v42c9+xrBhwxqXhM8GttxGAhoq+WIp6tSbkwedxqLKBTGn+VSd7hKRwmGl1i2gqA/bFJ8xxjs/+tGPsio5JSrnExSAr41pvg27q1izc1XM/dHFEjXBUGPZuipWKGGMMe3kaYISkUkislZEqkTk5hj7e4nIkyLygYj8S0SO9TKeluS1UMkHMPmY8xCEpysXxNxfF3L68zWIvonXCiWMyW7ZdhkkkyX6tfQsQYmIH7gXmAyMBGaJyMiow/4PUKGqo4HLgf/2Kp7WdCnw07NzXuNH94jCh+IuRzJxwEksaiFBgVNSDk5xRPSIKWgjKGOyVmFhITt37rQklQSqys6dOyksjL/QxMsqvglAlapuABCR+cA0ILJD4UjgFwCqukZEBovIkaq61cO4mgn4fc2+EPtq62n4npxaMp0fvXQj67+o5JheJc1ef6g+RNeCQMx7o4I2gjImaw0cOJDq6mq2b9+e7lA6hMLCQgYOHBj38V4mqAHA5ojn1cDEqGPeB/4NeE1EJgBHAwOBJglKRGYDswGOOuoor+JtIt/vayyAOHfYNH700o0sqlzAdybc1OxYVSdJxVrQsD5kf3kZk63y8vIYMmRIusPIWV5eg4pVeRD92/qXQC8RqQCuA94Dmq1xoar3qeo4VR1XXFyc9EBjyYtY86l/t4GM7TuepyufbPH4/TXBZp8cOG2RwjbNZ4wxCfMyQVUDgyKeDwS2RB6gqntV9UpVLce5BlUMbPQwprjlRS1KOKVkOh9se4+P92yKeXxrKajOpvmMMSZhXiao5UCJiAwRkXxgJrAw8gAR6enuA7gKeEVV93oYU9zy/NJkCDh12AwAFrfQm681VihhjDGJ8yxBqWoQuBZYCqwGHlPVVSIyR0TmuIeNAFaJyBqcar/rY58t9USkydLuR/ccwrHFY1qt5muJFUoYY0ziPO3Fp6qLgcVR2+ZGPH4TaF4WlyHy/ELkqhpTSqZzxxu38tn+T+nXdUDc57FCCWOMSZx1kmhFfiDqOtSw6QAsrloY4+iWWaGEMcYkzhJUK6I7TJT2LqOkqKxd03zWl88YYxJjCaoVPp80W45jasl03vr0NXYcTOzGvaBN8xljTEIsQbUhL8Y0X1jDLFn/z4TOYwnKGGMSYwmqDflR90N9pXg0g3sMTXiaz+6FMsaYxFiCakP0DbsiwpSS6by6+UV213zR4utuXnYDd731i8bnVihhjDGJyfkl39vi9wk+EcIR3YynlEzn3hV38eyGxfyvkZc2e82uQzv56wf3U1JUxveO/2Hj9n21QVpZeiqtYi1db4wx6WQJKg75AR81ETdEHXfkOAZ0G8iiygUxE9TSDYsIaYgNuysJhoMEfM6XOfIcmSbP76Mwz5/uMIwxppFN8cUh+jqUiHDusGm89PFz7K/b1+z4hutTdaE6Pt6TEa0F21Rbb9fIjDGZxRJUHPL8zeflpgybTm2oluc3LmmyfW/tHl7++Hkm9j8RgMpda1IS4+GqDYbsGpkxJqNYgopDwO9DonLU+P4nUNz5yGbVfM9tWEx9uJ4bJjor3K/bmR0JSoGaGOtZGWNMuliCilOBv+n1Gb/Pz+Rh5/PCpqUcCh5q3L6oagF9u/Tj1KO/Tv+uA1iXJSMogBqb5jPGZBBLUHGK7ssHMHXYdA7WH+ClTc8BcKD+AC9ueo7Jw87HJz5KisqyZgQFUB8KW+d1Y0zGsAQVp1jXoU4YeAq9Cosap/mWbXRGU1NKnLWjSnuXUfXFWsKaPb/0a4LZE6sxpmOzBBWngN+HL+pCVJ4/j3OOmcqzGxdTF6pjUdUCijr14fgBJwFQUlTGwfoDfLpvczpCbpdDdXYdyhiTGSxBJSDWNN+UYdPZW7uHFzYu4bkNzzD5mPMa73sqLSoDsqdQApyOF3U2ijLGZABLUAmIvh8K4GtHnUG3/O78+OUfcKB+P1NKpjfuK+ntJKhsKTVvcCiDbyg2xuQOS1AJiDWCKggUcNbQyXyydxPdC3pw8qDTGvf17tSH3p2Ks6qSD6C2PoSq3RNljEkvS1AJ8PsEf4xmelPdoohzhk4l35/fZF9p7zIqs2iKD5x7oqz7ujEm3TxNUCIySUTWikiViNwcY38PEfmniLwvIqtE5Eov40mGWKOo0wefzaRjpvLN8m8121dSVMa6XWuybkRi61cZY9LNs2axIuIH7gXOAqqB5SKyUFU/ijjsGuAjVT1PRIqBtSLysKrWeRXX4cr3+zhE02s0nQKdeOj8v8c8vrSojD21u9l+cCtHdOmbihCTImhtj4wxaeblCGoCUKWqG9yEMx+YFnWMAt1ERICuwC4g6GFMhy1WoURrsrGSD7Abdo0xaedlghoARN4AVO1ui3QPMALYAnwIXK/a/K5WEZktIitEZMX27du9ijcuPp8QSGBRp1K3ki/bCiVCNoIyxqSZlwkq1m/x6N965wAVQH+gHLhHRLo3e5Hqfao6TlXHFRcXJzvOhOXFuA7VkiO79KNbfvesS1CKjaKMMenlZYKqBgZFPB+IM1KKdCXwhDqqgI1AmYcxJUUi03wi4lTyZVmCArsOZYxJLy8T1HKgRESGiEg+MBNYGHXMJ8DXAUTkSGA4sMHDmJIi0etQ2dY0toElKGNMOnmWoFQ1CFwLLAVWA4+p6ioRmSMic9zDfgqcKCIfAi8AP1DVHV7FlCwJX4cqKmP7wa18UbPLw6iSz6b4jDHp5FmZOYCqLgYWR22bG/F4C3C2lzF4JT/gI9hKY1W/TwiHFcUZQQFU7lzDhAEnpijCw2cjKGNMOlkniXaKdcNu9H6fO8oq7T0CyM5Kvmy7wdgY03FYgmqnfL8vZpli5H6/uzzHoO5H0SnQKSsLJeqto4QxJk0sQbWTiLQ4ihKgIODD7y5y6BMfw4qGZ2WhhN0PZYxJF0+vQXV0+QEftTHWTsrz+xBpWkhRUjSclz9exn3v3p3KEON22tFnNd5UHKk+HKYT/jREZIzJdZagDkNL5eYNI6vIFXiPH3AyT6x5lFte/n5KYkvUuH4TeXrmS822h2yKzxiTJpagDkPDMvDhqEKChgQVOYK6fPRVzBj+vwg37+SUdv/z7t3c9fbtfLb/U/p1bdqNqj6cefEaY3KDJajDlB/wUROxAq2IM8UHNFs7qltBsy5OGWH68Iu46+3bWVy1sNmSIaoQDmtjRaIxxqSKFUkcpoKoQokC/5fXa0SkyTRfpirtXUZJURmLKhfE3G+jKGNMOliCOkzR16GiK/sS6TiRTlNLpvPWp6+x42DzbvG2eKExJh0sQR2m6LZH0QkqW6bGppbMIKxhlqz/Z7N91lHCGJMOlqCSoCEp+X3S7LpTtoygRvYZxeAeQ2NO81lPPmNMOliCSoKGBBXrxt3ohJWpRIQpJdN5dfOL7K75osk+u1nXGJMOlqCSoKHtUaz7orIlQQFMKZlOMBzk2Q1N+vva4oXGmLSwBJUEDW2Poiv6IHum+ACOO3IcA7oNjD3NZ6MoY0yK2X1QSdI5P4DEKCkXEUSc+4kynYhw7rBp/OWD+9lft4+u+d0a99XUh5rdkNyR+UQozLMWT8akkyWoJGlt+Y2Az0d9lkyRTRk2nT++dy/Pb1zC9OEXNW6vDYZj9h3sqBoa/sb6o8MYkxo2xZcC/iz6JTe+/wkUdz6SpyufTHcoaaWQUwnZmExkCSoFGpbdyAZ+n5/Jx5zHsk3PEgq3vGJwLqittwRlTDp5mqBEZJKIrBWRKhG5Ocb+m0Skwv1YKSIhESnyMqZ0yKZCCYAxR47lYP0Bqvd+ku5Q0qo2GLIVhY1JI88SlIj4gXuBycBIYJaIjIw8RlV/parlqloO/BB4WVV3eRVTumRDP75IDetCrd21Os2RpJdN8xmTXl6OoCYAVaq6QVXrgPnAtFaOnwXM8zCetMm2EVRJkZOgsnGJ+mSL7FRvjEktLxPUAGBzxPNqd1szItIZmAT8w8N40sbnE7IpRfUs7MURnftm5RL1yVYXDNs0nzFp4mWCivU7uaWf9POA11ua3hOR2SKyQkRWbN/evNt2NsimjhIAJb2H2wgKm+YzJp28TFDVwKCI5wOBLS0cO5NWpvdU9T5VHaeq44qLi5MYYupkW4IqLSpj3a41NnrApvmMSRcvE9RyoEREhohIPk4SWhh9kIj0AE4FnvIwlrTLugTVewT76/bx+YGW/qbIHXXBMGFr9WRMyrWZoERkqogknMhUNQhcCywFVgOPqeoqEZkjInMiDp0BPKuqBxJ9j2wS8GXXLWcNhRJ2Hcqm+YxJl3h+a84EKkXkThEZkcjJVXWxqpaq6jGq+nN321xVnRtxzEOqOjOxsLNPluUnhlslXxM2zWdM6rXZi09V/11EuuOUgT8oIgo8CMxT1X1eB9hRZNsIqk/nI+hZ0MtGUK66UJhdB+rSHUa7dS0ItNov0phMFFezWFXdKyL/ADoBN+BMy90kIr9T1bs9jK/D8Lul5tlyJUNEKO3tFEoYR7Y0/I0lGA6Tb53NTJaJ5xrUeSLyJLAMyAMmqOpkYAxwo8fxdSi+LCuUKCmyBNVR1Iey5U8jY74UzwjqIuA3qvpK5EZVPSgi3/AmrI6pV+f8jC3b3nWgrtnorrR3GQ+vfJAdB7fTp3N2lvcbR8iqEE0WiidB/Rj4rOGJiHQCjlTVTar6gmeRdUBOqXlmjqLyA75mlWpftjxaawkqywXD2Ts9aXJXPJPSfwciv7tD7jbTgcS6gF7aWGqe201jOwJV7F4uk3XiSVABt9krAO7jfO9CMulQEGi+vPmAboPonNfFSs07iHobRZksE0+C2i4i5zc8EZFpwA7vQjLp4PdJs67rIkJJ0XArlOgg7DqUyTbxXIOaAzwsIvfgXEDZDFzuaVQmLfIDPoJ1TW9ILSkq4/XNL6UlHpNcQUtQJsu0OYJS1fWqejzOooMjVfVEVa3yPjSTarGm+YYXlfHZ/i3srd2ThohMMgWt1Nxkmbhu1BWRKcBXgEJxV4dV1ds8jMukQX7Ah4hzQb1BaW+nu1XVrrWM7TchTZGZZLBKPpNt4rlRdy5wMXAdzhTfRcDRHsdl0qTA33QU1VBqvtauQ2U9q+Qz2SaeIokTVfVy4AtVvRU4gabrPJkOJLrc/KgegynwF1BpPfk6BLsOZbJJPAmqxv33oIj0B+qBId6FZNKpICpBBXwBhvYqsUq+DsKm+Uw2iSdB/VNEegK/At4FNtHK6rcmu/lilJuXFpXZvVAdhI2gTDZpNUG5CxW+oKq7VfUfONeeylT1lpREZ9KiIK/5dahP9mziUPBQmiIyyRKySj6TRVqt4lPVsIj8Gue6E6paC9SmIjCTPgUBHwci/pdLe5ehKJc8OY1Ogc7pCyyFAr4APzzpJ4zoc2y6Q0kqG0GZbBJPmfmzInIB8IRmaituk1R5/qbl5icO/BonDTqVA3X7OVR/ML3BpcjqHSvp07mYu876Q7pDSaqwKuGwZt3SLyY3SVs5R0T2AV2AIE7BhACqqt29D6+5cePG6YoVK9Lx1jll98G6Zt3Nc8m3n7mClzY9zwf/exMBX1y3C2aNXp3zbXVdk1FE5B1VHRe9PZ5OEt1U1aeq+ara3X0eV3ISkUkislZEqkTk5haOOU1EKkRklYi8HM95jff8Of4X9pRh09lVs5M3q19NdyhJZz35TLZo809DEflarO3RCxjGeJ0fuBc4C6gGlovIQlX9KOKYnsDvgUmq+omIHJFA7MZDuZ6gTh98Np0CnXm6cgGnHHV6usNJKqfUvHlbK2MyTTxzFzdFPC4EJgDvAGe08boJQJWqbgAQkfnANOCjiGMuwbm29QmAqm6LM27jsVxPUJ3zOnPG4LN5pmohvzjjN/ik40yJWU8+ky3imeI7L+LjLOBYYGsc5x6A0/m8QbW7LVIp0EtEXhKRd0QkZpd0EZktIitEZMX27dvjeGtzuAK+jvMLub2mlkxn28HPWb7lzXSHklRWyWeyRXt+C1XjJKm2xPoTPPonIwB8FZgCnAP8XxEpbfYi1ftUdZyqjisutqXHU8HvkwxdnD51zhwymQJ/AYsqF6Q7lKQKq2IFuSYbxHMN6m6+TCw+oBx4P45zV9O0Z99AYEuMY3ao6gHggIi8AowB1sVxfuMxv09y+q/tbgXdOfXoM1lU9RS3nnonDZ38O4JgWMnzd5zPx3RM8YygVuBcc3oHeBP4gar+exyvWw6UiMgQEckHZgILo455CjhFRAIi0hmYCKyOO3rjKZvmc6r5Pt23mYqt76Q7lKSy61AmG8RTJPE4UKOqIXCq80Sks6q2esemqgZF5FpgKU7J0AOqukpE5rj756rqahFZAnwAhIH7VXXl4XxCJnn8fnHufsth5xwzhYAvwKLKBRzXt9ltGlmrPhymk1XymQwXz426bwFnqup+93lX4FlVPTEF8TVjN+qmTk19iD2H6tMdRtrNfOI8Pt6zkTeu+LDDTPP5fUKfrgXpDsMY4DBu1AUKG5ITgPs4Nxqy5bhcLzVvMGXYdDbuXs/qHR1ncB8KK/Wh3O0UYrJDPFN8B0RkrKq+CyAiXwWsrXUOiF52I1dNGnYeP1j2HX7x+k+Y0P/4dIfTLkN7lTClZHqTbbXBMHl+u85oMlc8CeoG4O8i0lCB1w9nCXjTwYkIPhHCOV6SXNz5CM4eei5L1j/NcxsXpzucdvGJj6prttM578vJj9r6EF0LOlafQdOxtPndqarLRaQMGI5zb9MaVbULEzki4BPqrOKLB897jNpQdq4080zVU3zrmStY/8U6Rh1R3rg9GFZCYbWpXJOx4rkP6hrg4YbqOhHpJSKzVPX3nkdn0s7vFwilO4r0ExEKA4XpDqNdRvQZBcC6naubJChwCmG62CjKZKh4JqCvVtXdDU9U9Qvgas8iMhnF30Gq1nLZ0F7D8Iufyl1rm+3L5SVVTOaLJ0H5JKK21u1Snu9dSCaT2PRP9sv35zOk5zGs29X8Hvj6UJhwDncLMZktngS1FHhMRL4uImcA84Al3oZlMoVV8nUMpb3LWLdzTcx9NUGbwzWZKZ4E9QPgBeBbwDXu45tafYXpMAJ+X843je0ISorK2Lh7PXWhumb7auttms9kpniW2wi7bYkuVNULgFXA3d6HZjKFz0ZRWa+0qIyQhtjwRVWzfTbNZzJVXHfpiUi5iNwhIpuAnwKx5wpMh2TTfNmvtPcIACp3Nf/RVaDOukqYDNRifam7LtNMYBawE3gUp3dfx1r/2rTJCiWy3zG9ShGEdTESFDjl5gWB1v9e7Sh9CE32aO0GiDXAq8B5qloFICLfTUlUJqM4y27YhfRs1jmvM4O6Hx1zBAVOufm2fa3fiNylIGCdJ0xKtfYn0wXA58CLIvJHEfk6sVfJNR2cjaA6hpJWKvniEbKOIibFWkxQqvqkql4MlAEvAd8FjhSRP4jI2SmKz2QAuwbVMZQWlbH+i3WEwu0bDQfDdp3KpFY8VXwHVPVhVZ2Ks2x7BXCz14GZzOHzCXb5IfuVFJVRG6rlk72b2vX6kFX6mRRLqNe+qu5S1f9R1TO8CshkJmt5lP2G9y4DoLKd03yKJSmTWrYYjImLUyhhsllJkZOg1sZoeRQvm+YzqWQlOSYuhfk+p7N5jgiFlZr6jlW52L2gB3279Du8QgkbQZkU8jRBicgk4L8BP3C/qv4yav9pwFPARnfTE6p6m5cxmfYpCPjJpQpjVaW2PkRH+3VcUlTWYql5PIKWoEwKeTZv43Y9vxeYDIwEZonIyBiHvqqq5e6HJSeTEUSkQy6HXtq7jMpda9F2rpJspeYmlbz8CZwAVKnqBlWtA+YD0zx8P2OSqjDPn+4Qkq6kqIwD9fvZsr+6Xa+3EZRJJS8T1ABgc8TzandbtBNE5H0ReUZEvhLrRCIyW0RWiMiK7du3exGrMc201fonGzX05GvvdaiwartHX8YkysufwFhX1KO/s98FjlbVMTgd0hfEOpGq3qeq41R1XHFxcXKjNKYFPl/Hm+YrdSv57DqUyQZe/vRVA4Ming8EtkQeoKp7VXW/+3gxkCcifTyMyZiEdLRRVJ/OxRQV9rZKPpMVvPzpWw6UiMgQEcnH6Yy+MPIAEenbsJy8iExw49npYUzGJKSjJShoKJSwEZTJfJ799KlqELgWZ8n41cBjqrpKROaIyBz3sAuBlSLyPvA7YKbaBLfJIAG/r8M1yy0pKmPdrjVWyWcynqd3trjTdoujts2NeHwPcI+XMRhzuAoCPg7WdZybdkuLyviiZhc7Dm2nuPMRCb/eukmYVOl48xfGJFlBoGOVmzdU8q3evrJdr7drUCZVLEEZ04b8gA9fB2qW+9V+EyjwF/DcxsVtHxyDNY01qWIJypg45HegYomu+d049egzWVz1VLuvQ9k0n0mFjvNTZ4yHCvM61o/KlGHT+XRfNe9tXdGu19sIyqRCDrX/NKb98v0+enTKS3cY7XagNtikPPycY6YQ8AVYVLmAsX3HJ3w+KzU3qWAJypg4iEhW9+arC4UJRlQi9izsxcmDTmNR5QJ+dPLPkASvsVmpuUmFjjVvYYyJKRDjXq4pw6azac8GPtrxYcLnsxGUSQVLUMbkgFg3G08adh4+8fF05YKEz2dNY00qWIIyJgfk+Zr/qBd3PoKJA05iUTsSFNgoynjPEpQxOcDnE2JdZpoybDrrdq2mctfahM9plXzGa5agjMkRgRijqCklzhqi7RlF2QjKeM2q+IzJEX6fUB/VUrBf1wGM6zeRRVULuGHiDxI6XzAUtlFUjhOc0blXLEEZkyNiVfIBTCmZzq2v/JCPd2/k6J5D4j5fbTBM7f7aZIVnslBhnt/T+wMtQRmTI1paNuTcYU6CunzhhfTp3PKK1T0LevK7c+6nS35Xr0I0pgm7BmVMjmhp+fqjewxm9nHX0quwF6FwMObHnprdLKp6inc/X57iqE0usxGUMTnC7xMEpxt5tNtO+1Wrr926/zPG/HEoa3eu5pSjTvckPmOi2QjKmBzS3tWBj+jSlx4FPdtVjm5Me1mCMiaHxCo1j4eIUFI0nHW7Vic5ImNaZgnKmBzi97e/JLi09wgbQZmU8jRBicgkEVkrIlUicnMrx40XkZCIXOhlPMbkupZKzeNRUjScHQe3sevQziRGZEzLPEtQIuIH7gUmAyOBWSIysoXj7gCWehWLMcZxOAmqtGgEAJW71iQrHGNa5eUIagJQpaobVLUOmA9Mi3HcdcA/gG0exmKMof1FEgAlRWUArNtpCcqkhpcJagCwOeJ5tbutkYgMAGYAc1s7kYjMFpEVIrJi+/btSQ/UmFwhIu1OUgO7D6JToLMVSpiU8TJBxfopiL4F47fAD1Q1FOPYL1+kep+qjlPVccXFLd/pboxpW3un+Xzio6RouBVKmJTx8kbdamBQxPOBwJaoY8YB893lpvsA54pIUFUXeBiXMTntcKb5SovKeKP6lSRGY0zLvBxBLQdKRGSIiOQDM4GFkQeo6hBVHayqg4HHgW9bcjLGWy21PIpHSe8ytuz/lH21e5MYkTGxeZagVDUIXItTnbcaeExVV4nIHBGZ49X7GmNad7gjKIDKL2yaz3jP0158qroYWBy1LWZBhKpe4WUsxhjHYZWa93ZLzXeuZWzf8ckKyZiYrJOEMTlGRPDFWv89Dkf3GEK+P98q+UxKWIIyJge1dxQV8AUY2rPEKvlMSliCMiYHHU5PvpKi4azbaSMo4z1LUMbkoPzDqOQr7T2CT/Zu4lDwUBIjMqY5S1DG5KCCgC/mnfTxKCkaTljDbPiiMqkxGRPNEpQxOUhEKAj42/Xa4b2taaxJDUtQxuSogrz2/fgP7VmCT3ystaaxxmOWoIzJUe2d5isIFDC4x1ArlDCeswRlTI4SEfID7fsVUFJUZqXmxnOWoIzJYYV57bsOVdq7jA27K6kP1Sc5ImO+ZAnKmBzW3mm+kqIyguEgm/ZsSHpMxjTwtBefMSazNUzz1QbDCb2uoWnsosoFjOs30YvQTBbIC/gYN+BY+nfr78n5LUEZk+MK8/wJJ6iSouEU+Av45Rs/8SYokzUeOP8BrjzuSk/ObQnKmBzXMM0Xvdx1a7rkd+XFy1aw9cDnXoVlskB+wMfY/iM9O78lKGNyXHun+Yb2GsbQXsM8ispkg8I8Pz065Xl2fiuSMMa0u5rPGC/ZCMoYQ2Gen4I27ok6UBfiQG0wRREZYwnKGOOSNhYxPJyVeI1pD5viM8bExRKUSTVPE5SITBKRtSJSJSI3x9g/TUQ+EJEKEVkhIid7GY8xpv0C/vYv0WFMe3g2xScifuBe4CygGlguIgtV9aOIw14AFqqqisho4DGgzKuYjDGHx+8TguFECtKNaT8vR1ATgCpV3aCqdcB8YFrkAaq6X1Ubvtu7kNitGMaYFAv47KqASR0vv9sGAJsjnle725oQkRkisgZYBHwj1olEZLY7Bbhi+/btngRrjGlbwG+TfCZ1vExQsb6Tm42QVPVJVS0DpgM/jXUiVb1PVcep6rji4uLkRmmMiZvfCiVMCnmZoKqBQRHPBwJbWjpYVV8BjhGRPh7GZIw5DHl+m+IzqePld9tyoEREhohIPjATWBh5gIgME/fmCxEZC+QDOz2MyRhzGPw+sUo+kzKeVfGpalBErgWWAn7gAVVdJSJz3P1zgQuAy0WkHjgEXBxRNGGMyUABv4/6UGJ9+4xpD087SajqYmBx1La5EY/vAO7wMgZjTHL5fUJ9KN1RmFxgE8rGmIRYRwmTKpagjDEJsVJzkyqWoIwxCbGbdU2q2HeaMSYhfp/QRuNzY5LCEpQxJmE2ijKpYN9lxpiE2XUokwqWoIwxCbNKPpMKlqCMMQmzKT6TCvZdZoxJmI2gTCpYgjLGJMxnlXwmBSxBGWPaJc+m+YzH7DvMGNMufqvkMx6zBGWMaRcbQRmvedrN3BjTcRXm+cgPFKQ7DJNGXo+hLUEZY9pFRLBZPuMlG6MbY4zJSJagjDHGZCRLUMYYYzKSpwlKRCaJyFoRqRKRm2Psv1REPnA/3hCRMV7GY4wxJnt4lqBExA/cC0wGRgKzRGRk1GEbgVNVdTTwU+A+r+IxxhiTXbwcQU0AqlR1g6rWAfOBaZEHqOobqvqF+/QtYKCH8RhjjMkiXiaoAcDmiOfV7raWfBN4xsN4jDHGZBEv74OKdYeExjxQ5HScBHVyC/tnA7MBjjrqqGTFZ4wxJoN5OYKqBgZFPB8IbIk+SERGA/cD01R1Z6wTqep9qjpOVccVFxd7EqwxxpjMIqoxBzWHf2KRALAO+DrwKbAcuERVV0UccxSwDLhcVd+I87zbgY8TDKcPsCPB16SLxeoNi9UbFqs3ci3Wo1W12ejDsyk+VQ2KyLXAUsAPPKCqq0Rkjrt/LnAL0Bv4vTiLywRVdVwb5014CCUiK9o6b6awWL1hsXrDYvWGxerwtBefqi4GFkdtmxvx+CrgKi9jMMYYk52sk4QxxpiMlCsJKptuALZYvWGxesNi9YbFiodFEsYYY8zhyJURlDHGmCxjCcoYY0xG6tAJqq1u6ukmIg+IyDYRWRmxrUhEnhORSvffXumM0Y1pkIi8KCKrRWSViFyfwbEWisi/ROR9N9ZbMzXWBiLiF5H3RORp93lGxioim0TkQxGpEJEV7rZMjbWniDwuImvc79sTMjFWERnufj0bPvaKyA2ZGCuAiHzX/blaKSLz3J83z2LtsAkqzm7q6fYQMClq283AC6paArzgPk+3IPCfqjoCOB64xv1aZmKstcAZqjoGKAcmicjxZGasDa4HVkc8z+RYT1fV8oj7XjI11v8GlqhqGTAG5+ubcbGq6lr361kOfBU4CDxJBsYqIgOA7wDjVPVYnPtbZ+JlrKraIT+AE4ClEc9/CPww3XHFiHMwsDLi+Vqgn/u4H7A23THGiPkp4KxMjxXoDLwLTMzUWHFagL0AnAE8ncnfA8AmoE/UtoyLFeiOs5SPZHqsUfGdDbyeqbHyZQPwIpx7aJ92Y/Ys1g47giLxbuqZ4khV/QzA/feINMfThIgMBo4D3iZDY3WnzCqAbcBzqpqxsQK/Bb4PhCO2ZWqsCjwrIu+4DZwhM2MdCmwHHnSnTu8XkS5kZqyRZgLz3McZF6uqfgr8P+AT4DNgj6o+i4exduQEFXc3dRMfEekK/AO4QVX3pjuelqhqSJ0pk4HABBE5Ns0hxSQiU4FtqvpOumOJ00mqOhZn2vwaEflaugNqQQAYC/xBVY8DDpABU2StEZF84Hzg7+mOpSXutaVpwBCgP9BFRP7dy/fsyAkqrm7qGWiriPQDcP/dluZ4ABCRPJzk9LCqPuFuzshYG6jqbuAlnOt8mRjrScD5IrIJZ0HPM0Tkb2RmrKjqFvffbTjXSSaQmbFWA9XuyBngcZyElYmxNpgMvKuqW93nmRjrmcBGVd2uqvXAE8CJeBhrR05Qy4ESERni/nUyE1iY5pjisRD4D/fxf+Bc70krERHgT8BqVb0rYlcmxlosIj3dx51wfqjWkIGxquoPVXWgqg7G+f5cpqr/TgbGKiJdRKRbw2Ocaw8rycBYVfVzYLOIDHc3fR34iAyMNcIsvpzeg8yM9RPgeBHp7P5O+DpO8Yl3sab7wpvHF/XOxVnyYz3wX+mOJ0Z883Dmcutx/ur7Jk539xeASvffogyI82Sc6dEPgAr349wMjXU08J4b60rgFnd7xsUaFfdpfFkkkXGx4lzXed/9WNXw85SJsbpxlQMr3O+DBUCvDI61M7AT6BGxLVNjvRXnD76VwF+BAi9jtVZHxhhjMlJHnuIzxhiTxSxBGWOMyUiWoIwxxmQkS1DGGGMykiUoY4wxGckSlMkKIqIi8uuI5zeKyE+SdO6HROTCZJyrjfe5yO2s/WLU9sHu53ddxLZ7ROSKNs43R0Qub+OYK0Tknhb27U8g/HYRkX4RXdpPa3jsPv+ZiCwVkQIRmS8iJV7HY7KLJSiTLWqBfxORPukOJJLbNT9e3wS+raqnx9i3Dbjevak8Lqo6V1X/ksD7J42IBOI89HvAH2O8/r9wOmlMV9Va4A84PQmNaWQJymSLIHAf8N3oHdEjoIaRgfsX+8si8piIrBORX4rIpeKsF/WhiBwTcZozReRV97ip7uv9IvIrEVkuIh+IyP+OOO+LIvII8GGMeGa5518pIne4227BueF5roj8Ksbntx3nJsf/iN4hIseIyBK3SeurIlLmbv+JiNzoPh7vxvimG/PKiFP0d19fKSJ3Rp371yLyroi8ICLF7rZyEXnLPd+Tbg82ROQlEbldRF7GSaYXuZ/j+yLySozPCeACYEnUe/4nzo3e56nqIXfzq+7/QbyJz+QAS1Amm9wLXCoiPRJ4zRic9ZZGAZcBpao6AbgfuC7iuMHAqcAUnCRSiDPi2aOq44HxwNUiMsQ9fgJON4Uma4yJSH/gDpzlM8qB8SIyXVVvw+lscKmq3tRCrL8E/jPGqOw+4DpV/SpwI/D7GK99EJijqicAoah95cDF7tfgYhFp6FHZBaf/21jgZeDH7va/AD9Q1dE4CfjHEefqqaqnquqvgVuAc9RZe+v86IDcr9UX7gipwUnAHGCyqjZOMapqGKjC+f8yBrAEZbKIOh3U/4KzaFq8lqvqZ+4vyfXAs+72D3GSUoPHVDWsqpXABqAMp9/c5eIs3fE2TkuXhusk/1LVjTHebzzwkjoNNYPAw0BcXb/d8/0LuKRhmzgd5E8E/u7G8T84a+4QcUxPoJuqvuFueiTq1C+o6h5VrcHpSXe0uz0MPOo+/htwspv8e6rqy+72P0fF/2jE49eBh0TkapzF66L1wxkZRqrCWWng7BjHb8Ppkm0M4LSlNyab/BZnEcIHI7YFcf/YcptYRl7HifzrPRzxPEzT7//onl+K84v0OlVdGrlDRE7DWcIhlljLvCTidpzu2w1TZj5gtzrLh7SkrfeM/BqEaPnnPp6+Z42ft6rOEZGJOKPOChEpV9WdEcceAgqjXr8VuBR4QUR2qmpkwUih+xpjABtBmSyjqruAx3Cm3xpswlkuG5z1avLaceqLRMTnXpcairNK6FLgW+IsNYKIlLqdvFvzNnCqiPRxp+pm4UyfxUVV1+CMcqa6z/cCG0XkIjcGEZExUa/5AtgnztL24HRGj4cPaLh2dwnwmqruAb4QkVPc7Ze1FL+IHKOqb6vqLcAOmi5vA06j5sExPsd1wL8BfxOR8ohdpTiNaI0BbARlstOvgWsjnv8ReEpE/oVTaNDS6KY1a3F+ER+Jcy2nRkTux/kF+647MtsOTG/tJKr6mYj8EHgRZ2SzWFUTXX7g5zgd2RtcCvxBRH6Ek3zn43QVj/RN4I8icgBnDaw9cbzPAeArIvKOe/zF7vb/wLkO1xlnuvPKFl7/K7c0XHC+7k1iUtUDIrJeRIapalXUvuUiciWwUEROB/YDh9RdmdUYwLqZG9MRiEjXhqIDEbkZ6Keq16c5LERkBvBVVf1RG8d9F9irqn9KTWQmG9gIypiOYYo7cgsAHwNXpDcch6o+KSK94zh0N876QsY0shGUMcaYjGRFEsYYYzKSJShjjDEZyRKUMcaYjGQJyhhjTEayBGWMMSYj/X8cBexmlG3nrgAAAABJRU5ErkJggg==\n",
      "text/plain": [
       "<Figure size 432x288 with 1 Axes>"
      ]
     },
     "metadata": {
      "needs_background": "light"
     },
     "output_type": "display_data"
    }
   ],
   "source": [
    "#plotting the aaccuracy for different K values\n",
    "plt.plot(range(1,Ks),mean_acc,'g')\n",
    "plt.fill_between(range(1,Ks),mean_acc - 1 * std_acc,mean_acc + 1 * std_acc, alpha=0.10)\n",
    "plt.legend(('Accuracy ', '+/- 3xstd'))\n",
    "plt.ylabel('Accuracy ')\n",
    "plt.xlabel('Number of Neighbors (K)')\n",
    "plt.tight_layout()\n",
    "plt.show()"
   ]
  },
  {
   "cell_type": "code",
   "execution_count": 129,
   "id": "ddad26d4",
   "metadata": {},
   "outputs": [
    {
     "name": "stdout",
     "output_type": "stream",
     "text": [
      "The best accuracy was with the values 1.0 with k= 1\n"
     ]
    }
   ],
   "source": [
    "print( \"The best accuracy was with the values\", mean_acc.max(), \"with k=\", mean_acc.argmax()+1 )"
   ]
  },
  {
   "cell_type": "code",
   "execution_count": 130,
   "id": "88df277d",
   "metadata": {},
   "outputs": [
    {
     "name": "stdout",
     "output_type": "stream",
     "text": [
      "So the accuracy score for K = 1 is: 1.0\n"
     ]
    }
   ],
   "source": [
    "#so one last predict with K = 1, as K = 1 gives best\n",
    "neigh = KNeighborsClassifier(n_neighbors = 1).fit(X_train,y_train)\n",
    "yhat=neigh.predict(X_test)\n",
    "accuracyScore = metrics.accuracy_score(y_test, yhat)\n",
    "print(\"So the accuracy score for K = 1 is: \" + str(accuracyScore))"
   ]
  },
  {
   "cell_type": "code",
   "execution_count": 131,
   "id": "646ef3e9",
   "metadata": {},
   "outputs": [],
   "source": [
    "#as the best accuracy was with K = 1\n",
    "#using K = 1 for the final KNN model\n",
    "#Final KNN model is here used the splited test part to train again for better training, and better prediction\n",
    "final_knn_model = KNeighborsClassifier(n_neighbors = 1).fit(X,y)"
   ]
  },
  {
   "cell_type": "markdown",
   "id": "ab34557f",
   "metadata": {},
   "source": [
    "### KNN Evaluation"
   ]
  },
  {
   "cell_type": "code",
   "execution_count": 132,
   "id": "394b52d5",
   "metadata": {},
   "outputs": [
    {
     "name": "stdout",
     "output_type": "stream",
     "text": [
      "              precision    recall  f1-score   support\n",
      "\n",
      "           1       1.00      1.00      1.00         7\n",
      "           2       1.00      1.00      1.00         5\n",
      "           4       1.00      1.00      1.00         1\n",
      "           5       1.00      1.00      1.00         1\n",
      "           6       1.00      1.00      1.00         3\n",
      "           7       1.00      1.00      1.00         4\n",
      "\n",
      "    accuracy                           1.00        21\n",
      "   macro avg       1.00      1.00      1.00        21\n",
      "weighted avg       1.00      1.00      1.00        21\n",
      "\n"
     ]
    }
   ],
   "source": [
    "print (classification_report(y_test, yhat))"
   ]
  },
  {
   "cell_type": "markdown",
   "id": "b3981536",
   "metadata": {},
   "source": [
    "# Decision Tree\n",
    "Explain decission tree in 2 lines"
   ]
  },
  {
   "cell_type": "code",
   "execution_count": 133,
   "id": "1465f89f",
   "metadata": {},
   "outputs": [
    {
     "data": {
      "text/plain": [
       "array([0.57142857, 0.61904762, 0.80952381, 0.80952381, 0.9047619 ,\n",
       "       0.9047619 , 0.85714286, 0.9047619 , 0.9047619 , 0.85714286,\n",
       "       0.85714286, 0.9047619 , 0.9047619 , 0.85714286, 0.9047619 ,\n",
       "       0.9047619 , 0.9047619 , 0.9047619 , 0.9047619 , 0.9047619 ,\n",
       "       0.85714286, 0.85714286, 0.9047619 , 0.9047619 , 0.9047619 ,\n",
       "       0.85714286, 0.85714286, 0.9047619 , 0.85714286, 0.9047619 ,\n",
       "       0.9047619 , 0.9047619 , 0.85714286, 0.9047619 , 0.9047619 ,\n",
       "       0.9047619 , 0.9047619 , 0.9047619 , 0.9047619 , 0.9047619 ,\n",
       "       0.9047619 , 0.9047619 , 0.85714286, 0.9047619 , 0.9047619 ,\n",
       "       0.85714286, 0.9047619 , 0.9047619 , 0.9047619 ])"
      ]
     },
     "execution_count": 133,
     "metadata": {},
     "output_type": "execute_result"
    }
   ],
   "source": [
    "Ks = 50\n",
    "mean_acc = np.zeros((Ks-1))\n",
    "std_acc = np.zeros((Ks-1))\n",
    "ConfustionMx = [];\n",
    "for n in range(1,Ks):\n",
    "    \n",
    "    #Train Model and Predict  \n",
    "    decTree = DecisionTreeClassifier(criterion=\"entropy\", max_depth = n)\n",
    "    decTree.fit(X_train,y_train)\n",
    "    yhat=decTree.predict(X_test)\n",
    "    mean_acc[n-1] = metrics.accuracy_score(y_test, yhat)\n",
    "\n",
    "    \n",
    "    std_acc[n-1]=np.std(yhat==y_test)/np.sqrt(yhat.shape[0])\n",
    "\n",
    "mean_acc"
   ]
  },
  {
   "cell_type": "code",
   "execution_count": 134,
   "id": "8cb4c023",
   "metadata": {},
   "outputs": [
    {
     "data": {
      "image/png": "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\n",
      "text/plain": [
       "<Figure size 432x288 with 1 Axes>"
      ]
     },
     "metadata": {
      "needs_background": "light"
     },
     "output_type": "display_data"
    }
   ],
   "source": [
    "plt.plot(range(1,Ks),mean_acc,'g')\n",
    "plt.fill_between(range(1,Ks),mean_acc - 1 * std_acc,mean_acc + 1 * std_acc, alpha=0.10)\n",
    "plt.legend(('Accuracy ', '+/- 3xstd'))\n",
    "plt.ylabel('Accuracy ')\n",
    "plt.xlabel('Max_Depth')\n",
    "plt.tight_layout()\n",
    "plt.show()"
   ]
  },
  {
   "cell_type": "code",
   "execution_count": 135,
   "id": "6bbbad3c",
   "metadata": {},
   "outputs": [
    {
     "name": "stdout",
     "output_type": "stream",
     "text": [
      "The best accuracy was with the values 0.9047619047619048 with max_depth = 5\n"
     ]
    }
   ],
   "source": [
    "print( \"The best accuracy was with the values\", mean_acc.max(), \"with max_depth =\", mean_acc.argmax()+1) "
   ]
  },
  {
   "cell_type": "code",
   "execution_count": 136,
   "id": "9a680839",
   "metadata": {},
   "outputs": [
    {
     "name": "stdout",
     "output_type": "stream",
     "text": [
      "So the accuracy score for max depth = 5 is: 0.9047619047619048\n"
     ]
    }
   ],
   "source": [
    "#so one last predict with max depth = 5, as it gives best\n",
    "decT = DecisionTreeClassifier(criterion=\"entropy\", max_depth = 5)\n",
    "decT.fit(X_train,y_train)\n",
    "yhat=decT.predict(X_test)\n",
    "accuracyScore = metrics.accuracy_score(y_test, yhat)\n",
    "print(\"So the accuracy score for max depth = 5 is: \" + str(accuracyScore))"
   ]
  },
  {
   "cell_type": "code",
   "execution_count": 137,
   "id": "945f91fd",
   "metadata": {},
   "outputs": [
    {
     "data": {
      "text/plain": [
       "DecisionTreeClassifier(criterion='entropy', max_depth=5)"
      ]
     },
     "execution_count": 137,
     "metadata": {},
     "output_type": "execute_result"
    }
   ],
   "source": [
    "#As Best is max depth = 5\n",
    "#using max depth = 5 for the final decision tree\n",
    "#Final decisison tree is here used the splited test part to train again for better training, and better prediction\n",
    "Final_dec_Tree = DecisionTreeClassifier(criterion=\"entropy\", max_depth = 5)\n",
    "Final_dec_Tree.fit(X,y)"
   ]
  },
  {
   "cell_type": "markdown",
   "id": "974a4d9d",
   "metadata": {},
   "source": [
    "### Decision Tree Evaluation"
   ]
  },
  {
   "cell_type": "code",
   "execution_count": 138,
   "id": "c7b1ea31",
   "metadata": {},
   "outputs": [
    {
     "name": "stdout",
     "output_type": "stream",
     "text": [
      "              precision    recall  f1-score   support\n",
      "\n",
      "           1       1.00      1.00      1.00         7\n",
      "           2       1.00      1.00      1.00         5\n",
      "           4       1.00      1.00      1.00         1\n",
      "           5       1.00      1.00      1.00         1\n",
      "           6       1.00      0.33      0.50         3\n",
      "           7       0.67      1.00      0.80         4\n",
      "\n",
      "    accuracy                           0.90        21\n",
      "   macro avg       0.94      0.89      0.88        21\n",
      "weighted avg       0.94      0.90      0.89        21\n",
      "\n"
     ]
    }
   ],
   "source": [
    "print (classification_report(y_test, yhat))"
   ]
  },
  {
   "cell_type": "markdown",
   "id": "d9f9ea64",
   "metadata": {},
   "source": [
    "# Support Vector Machine\n",
    "Explain SVM in 2 lines"
   ]
  },
  {
   "cell_type": "code",
   "execution_count": 139,
   "id": "6d76eab8",
   "metadata": {},
   "outputs": [
    {
     "data": {
      "text/plain": [
       "SVC(kernel='poly')"
      ]
     },
     "execution_count": 139,
     "metadata": {},
     "output_type": "execute_result"
    }
   ],
   "source": [
    "svec = svm.SVC(kernel='poly')\n",
    "svec.fit(X_train, y_train)"
   ]
  },
  {
   "cell_type": "code",
   "execution_count": 140,
   "id": "7d9aeaa1",
   "metadata": {},
   "outputs": [
    {
     "name": "stdout",
     "output_type": "stream",
     "text": [
      "So the Jaccard score for SVM is: 0.8260869565217391\n"
     ]
    }
   ],
   "source": [
    "yhat = svec.predict(X_test)\n",
    "acc = jaccard_score(y_test, yhat, average='micro')\n",
    "print(\"So the Jaccard score for SVM is: \" + str(acc))"
   ]
  },
  {
   "cell_type": "code",
   "execution_count": 141,
   "id": "e6bc722e",
   "metadata": {},
   "outputs": [],
   "source": [
    "#Final SVM is here used the splited test part to train again for better training, and better prediction\n",
    "svec = svm.SVC(kernel='poly')\n",
    "finalSVM = svec.fit(X, y) "
   ]
  },
  {
   "cell_type": "markdown",
   "id": "b318c598",
   "metadata": {},
   "source": [
    "### SVM Evaluation"
   ]
  },
  {
   "cell_type": "code",
   "execution_count": 142,
   "id": "5d072788",
   "metadata": {},
   "outputs": [
    {
     "name": "stdout",
     "output_type": "stream",
     "text": [
      "              precision    recall  f1-score   support\n",
      "\n",
      "           1       1.00      1.00      1.00         7\n",
      "           2       1.00      1.00      1.00         5\n",
      "           4       0.33      1.00      0.50         1\n",
      "           5       1.00      1.00      1.00         1\n",
      "           6       1.00      1.00      1.00         3\n",
      "           7       1.00      0.50      0.67         4\n",
      "\n",
      "    accuracy                           0.90        21\n",
      "   macro avg       0.89      0.92      0.86        21\n",
      "weighted avg       0.97      0.90      0.91        21\n",
      "\n"
     ]
    }
   ],
   "source": [
    "print (classification_report(y_test, yhat))"
   ]
  },
  {
   "cell_type": "markdown",
   "id": "8f83b46c",
   "metadata": {},
   "source": [
    "# Logistic Regression\n",
    "Exlplain LR in 2 lines"
   ]
  },
  {
   "cell_type": "code",
   "execution_count": 143,
   "id": "b09ecb4d",
   "metadata": {},
   "outputs": [
    {
     "name": "stdout",
     "output_type": "stream",
     "text": [
      "So the Jaccard score for Logistic Regression is: 0.68\n"
     ]
    }
   ],
   "source": [
    "LR = LogisticRegression(C=0.07, solver='sag').fit(X_train, y_train)\n",
    "yhat = LR.predict(X_test)\n",
    "acc = jaccard_score(y_test, yhat, average='micro')\n",
    "print(\"So the Jaccard score for Logistic Regression is: \" + str(acc))"
   ]
  },
  {
   "cell_type": "code",
   "execution_count": 144,
   "id": "28fe1bb9",
   "metadata": {},
   "outputs": [],
   "source": [
    "#final LR model is here used the splited test part to train again for better training, and better prediction\n",
    "finalLR = LogisticRegression(C=0.07, solver='sag').fit(X, y)"
   ]
  },
  {
   "cell_type": "markdown",
   "id": "c2af02ba",
   "metadata": {},
   "source": [
    "### Logistic Regression Evaluation"
   ]
  },
  {
   "cell_type": "code",
   "execution_count": 145,
   "id": "f95ced8f",
   "metadata": {},
   "outputs": [
    {
     "name": "stdout",
     "output_type": "stream",
     "text": [
      "              precision    recall  f1-score   support\n",
      "\n",
      "           1       0.88      1.00      0.93         7\n",
      "           2       0.83      1.00      0.91         5\n",
      "           4       0.50      1.00      0.67         1\n",
      "           5       0.00      0.00      0.00         1\n",
      "           6       0.75      1.00      0.86         3\n",
      "           7       1.00      0.25      0.40         4\n",
      "\n",
      "    accuracy                           0.81        21\n",
      "   macro avg       0.66      0.71      0.63        21\n",
      "weighted avg       0.81      0.81      0.76        21\n",
      "\n"
     ]
    },
    {
     "name": "stderr",
     "output_type": "stream",
     "text": [
      "C:\\Users\\podda\\miniconda3\\lib\\site-packages\\sklearn\\metrics\\_classification.py:1318: UndefinedMetricWarning: Precision and F-score are ill-defined and being set to 0.0 in labels with no predicted samples. Use `zero_division` parameter to control this behavior.\n",
      "  _warn_prf(average, modifier, msg_start, len(result))\n",
      "C:\\Users\\podda\\miniconda3\\lib\\site-packages\\sklearn\\metrics\\_classification.py:1318: UndefinedMetricWarning: Precision and F-score are ill-defined and being set to 0.0 in labels with no predicted samples. Use `zero_division` parameter to control this behavior.\n",
      "  _warn_prf(average, modifier, msg_start, len(result))\n",
      "C:\\Users\\podda\\miniconda3\\lib\\site-packages\\sklearn\\metrics\\_classification.py:1318: UndefinedMetricWarning: Precision and F-score are ill-defined and being set to 0.0 in labels with no predicted samples. Use `zero_division` parameter to control this behavior.\n",
      "  _warn_prf(average, modifier, msg_start, len(result))\n"
     ]
    }
   ],
   "source": [
    "print (classification_report(y_test, yhat))"
   ]
  },
  {
   "cell_type": "markdown",
   "id": "dd0b247d",
   "metadata": {},
   "source": []
  },
  {
   "cell_type": "code",
   "execution_count": null,
   "id": "83569d0a",
   "metadata": {},
   "outputs": [],
   "source": []
  },
  {
   "cell_type": "code",
   "execution_count": null,
   "id": "b3ea70da",
   "metadata": {},
   "outputs": [],
   "source": []
  },
  {
   "cell_type": "markdown",
   "id": "eacdb237-1b19-4a1f-ab55-9ab98fe4db76",
   "metadata": {},
   "source": [
    "## Citation\n",
    "BioExplorer.net. (2022, February 18). Types of Animals. Bio Explorer. https://www.bioexplorer.net/animals/.\"\n",
    "\n",
    "N. Manohar, Y. H. Sharath Kumar and G. H. Kumar, \\\"Supervised and unsupervised learning in animal classification,\" *2016 International Conference on Advances in Computing, Communications and Informatics (ICACCI)*, 2016, pp. 156-161, doi: 10.1109/ICACCI.2016.7732040.\n",
    "\n",
    "Tiffany Timbers, T. C. (2022, February 13). Data science: A first Introduction. Retrieved February 18, 2022, from https://datasciencebook.ca/ \n",
    "\n",
    "Zoo. (1990). UCI Machine Learning Repository."
   ]
  },
  {
   "cell_type": "code",
   "execution_count": null,
   "id": "d8f83133-d780-4796-94d4-1f8397d42377",
   "metadata": {},
   "outputs": [],
   "source": []
  }
 ],
 "metadata": {
  "kernelspec": {
   "display_name": "Python 3",
   "language": "python",
   "name": "python3"
  },
  "language_info": {
   "codemirror_mode": {
    "name": "ipython",
    "version": 3
   },
   "file_extension": ".py",
   "mimetype": "text/x-python",
   "name": "python",
   "nbconvert_exporter": "python",
   "pygments_lexer": "ipython3",
   "version": "3.9.5"
  }
 },
 "nbformat": 4,
 "nbformat_minor": 5
}
