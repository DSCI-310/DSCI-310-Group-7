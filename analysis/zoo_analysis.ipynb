{
 "cells": [
  {
   "cell_type": "markdown",
   "id": "9674facc-5473-4a89-acb1-a813baad9f27",
   "metadata": {},
   "source": [
    "# Prediction on Animal Type"
   ]
  },
  {
   "cell_type": "markdown",
   "id": "284a9615",
   "metadata": {},
   "source": [
    "## Summary\n",
    "The data set we will be using is Zoo (1990) provided by UC Irvine Machine Learning Repository. It stores data with 7 classes of animals and their related characteristics including animal name, hair, feathers and other attributes. In this project, we will use classification as our method to predict a most likely type of a given animal.\n",
    "## Introduction\n",
    "The earth is an amazing planet that cultivates branches of animals. In general, scholars split them into 12 classes including mammals, birds, reptiles, amphibians, fishes, insects, crustaceans, arachnids, echinoderms, worms, mollusks and sponges(BioExploer.net., 2022). The traditional way in animal classification is manually identifying the characteristics and attributing it the mostly close class (Manohar, Sharath, & Kumar, 2016). However, it is tedious and time consuming, especially when the data set is very huge. A question hereby comes to us, if we can apply K-nearest neighbors (KNN) algorithms in predicting the type an animal belongs to given its related characteristics, such as hair, feathers, etc.? Therefore, in this project, we will show how we use KNN to do classification in animals based on data set Zoo(1990) which contains 1 categorical attribute, 17 Boolean-valued attributes and 1 numerical attribute. The categorical attribute appears to be the class attribute. Detailed breakdowns are as follows:\n",
    "1. animal name: Unique for each instance \n",
    "2. hair: Boolean \n",
    "3. feathers: Boolean \n",
    "4. eggs: Boolean \n",
    "5. milk: Boolean \n",
    "6. airborne: Boolean \n",
    "7. aquatic: Boolean \n",
    "8. predator: Boolean \n",
    "9. toothed: Boolean \n",
    "10. backbone: Boolean \n",
    "11. breathes: Boolean \n",
    "12. venomous: Boolean \n",
    "13. fins: Boolean \n",
    "14. legs: Numeric (set of values: {0,2,4,5,6,8}) \n",
    "15. tail: Boolean \n",
    "16. domestic: Boolean \n",
    "17. catsize: Boolean \n",
    "18. type: Numeric (integer values in range [1,7])\n",
    "\n",
    "## Methods & Results\n",
    "We are going to use multiple analysis to classify the type of the animals using 16 variables including hair, feathers, eggs, milk, airborne, aquatic, predator, toothed, backbone, breathes, venomous, fins, legs, tail, domestic, catsize as our predictors. To predict the class of a new observation, the algorithms of each type will be further explained before implementation."
   ]
  },
  {
   "cell_type": "code",
<<<<<<< HEAD
   "execution_count": 8,
=======
   "execution_count": 14,
>>>>>>> parent of 6293e84 (updating the functions on analysis)
   "id": "d72cf6b9-b619-4f68-be78-90440dfb12b8",
   "metadata": {},
   "outputs": [],
   "source": [
    "import pandas as pd\n",
    "import csv\n",
    "from sklearn.model_selection import train_test_split, GridSearchCV, cross_validate\n",
    "from sklearn.neighbors import KNeighborsClassifier\n",
    "from sklearn import metrics\n",
    "import numpy as np\n",
    "import matplotlib.pyplot as plt\n",
    "from sklearn.tree import DecisionTreeClassifier\n",
    "from sklearn import svm\n",
    "from sklearn.metrics import jaccard_score\n",
    "from sklearn.linear_model import LogisticRegression\n",
<<<<<<< HEAD
    "from sklearn.metrics import classification_report\n",
    "from src.train_and_predict_model import *"
=======
    "from sklearn.metrics import classification_report"
>>>>>>> parent of 6293e84 (updating the functions on analysis)
   ]
  },
  {
   "cell_type": "code",
<<<<<<< HEAD
   "execution_count": 3,
=======
   "execution_count": 15,
>>>>>>> parent of 6293e84 (updating the functions on analysis)
   "id": "73fd54c9-8635-426c-a13f-1c806bab4e6d",
   "metadata": {},
   "outputs": [],
   "source": [
    "# reading the data as a csv from the uci web server, with header = false as the data contains no header\n",
    "zoo_data = pd.read_csv(\"https://archive.ics.uci.edu/ml/machine-learning-databases/zoo/zoo.data\", header = None)\n",
    "# Adding column names to the data\n",
    "colm = [\"animalName\", \"hair\", \"feathers\", \"eggs\", \"milk\", \"airborne\", \"aquatic\", \n",
    "        \"predator\", \"toothed\", \"backbone\", \"breathes\", \"venomous\", \"fins\", \n",
    "        \"legs\", \"tail\", \"domestic\", \"catsize\", \"type\"]\n",
    "# Adding the columns to our zoo_data dataframe\n",
    "zoo_data.columns = colm"
   ]
  },
  {
   "cell_type": "code",
<<<<<<< HEAD
   "execution_count": 4,
=======
   "execution_count": 16,
>>>>>>> parent of 6293e84 (updating the functions on analysis)
   "id": "6dba8bd8-576b-4cf6-b5bd-6fef128c1c98",
   "metadata": {},
   "outputs": [
    {
     "data": {
      "text/html": [
       "<div>\n",
       "<style scoped>\n",
       "    .dataframe tbody tr th:only-of-type {\n",
       "        vertical-align: middle;\n",
       "    }\n",
       "\n",
       "    .dataframe tbody tr th {\n",
       "        vertical-align: top;\n",
       "    }\n",
       "\n",
       "    .dataframe thead th {\n",
       "        text-align: right;\n",
       "    }\n",
       "</style>\n",
       "<table border=\"1\" class=\"dataframe\">\n",
       "  <thead>\n",
       "    <tr style=\"text-align: right;\">\n",
       "      <th></th>\n",
       "      <th>animalName</th>\n",
       "      <th>hair</th>\n",
       "      <th>feathers</th>\n",
       "      <th>eggs</th>\n",
       "      <th>milk</th>\n",
       "      <th>airborne</th>\n",
       "      <th>aquatic</th>\n",
       "      <th>predator</th>\n",
       "      <th>toothed</th>\n",
       "      <th>backbone</th>\n",
       "      <th>breathes</th>\n",
       "      <th>venomous</th>\n",
       "      <th>fins</th>\n",
       "      <th>legs</th>\n",
       "      <th>tail</th>\n",
       "      <th>domestic</th>\n",
       "      <th>catsize</th>\n",
       "      <th>type</th>\n",
       "    </tr>\n",
       "  </thead>\n",
       "  <tbody>\n",
       "    <tr>\n",
       "      <th>0</th>\n",
       "      <td>aardvark</td>\n",
       "      <td>1</td>\n",
       "      <td>0</td>\n",
       "      <td>0</td>\n",
       "      <td>1</td>\n",
       "      <td>0</td>\n",
       "      <td>0</td>\n",
       "      <td>1</td>\n",
       "      <td>1</td>\n",
       "      <td>1</td>\n",
       "      <td>1</td>\n",
       "      <td>0</td>\n",
       "      <td>0</td>\n",
       "      <td>4</td>\n",
       "      <td>0</td>\n",
       "      <td>0</td>\n",
       "      <td>1</td>\n",
       "      <td>1</td>\n",
       "    </tr>\n",
       "    <tr>\n",
       "      <th>1</th>\n",
       "      <td>antelope</td>\n",
       "      <td>1</td>\n",
       "      <td>0</td>\n",
       "      <td>0</td>\n",
       "      <td>1</td>\n",
       "      <td>0</td>\n",
       "      <td>0</td>\n",
       "      <td>0</td>\n",
       "      <td>1</td>\n",
       "      <td>1</td>\n",
       "      <td>1</td>\n",
       "      <td>0</td>\n",
       "      <td>0</td>\n",
       "      <td>4</td>\n",
       "      <td>1</td>\n",
       "      <td>0</td>\n",
       "      <td>1</td>\n",
       "      <td>1</td>\n",
       "    </tr>\n",
       "    <tr>\n",
       "      <th>2</th>\n",
       "      <td>bass</td>\n",
       "      <td>0</td>\n",
       "      <td>0</td>\n",
       "      <td>1</td>\n",
       "      <td>0</td>\n",
       "      <td>0</td>\n",
       "      <td>1</td>\n",
       "      <td>1</td>\n",
       "      <td>1</td>\n",
       "      <td>1</td>\n",
       "      <td>0</td>\n",
       "      <td>0</td>\n",
       "      <td>1</td>\n",
       "      <td>0</td>\n",
       "      <td>1</td>\n",
       "      <td>0</td>\n",
       "      <td>0</td>\n",
       "      <td>4</td>\n",
       "    </tr>\n",
       "    <tr>\n",
       "      <th>3</th>\n",
       "      <td>bear</td>\n",
       "      <td>1</td>\n",
       "      <td>0</td>\n",
       "      <td>0</td>\n",
       "      <td>1</td>\n",
       "      <td>0</td>\n",
       "      <td>0</td>\n",
       "      <td>1</td>\n",
       "      <td>1</td>\n",
       "      <td>1</td>\n",
       "      <td>1</td>\n",
       "      <td>0</td>\n",
       "      <td>0</td>\n",
       "      <td>4</td>\n",
       "      <td>0</td>\n",
       "      <td>0</td>\n",
       "      <td>1</td>\n",
       "      <td>1</td>\n",
       "    </tr>\n",
       "    <tr>\n",
       "      <th>4</th>\n",
       "      <td>boar</td>\n",
       "      <td>1</td>\n",
       "      <td>0</td>\n",
       "      <td>0</td>\n",
       "      <td>1</td>\n",
       "      <td>0</td>\n",
       "      <td>0</td>\n",
       "      <td>1</td>\n",
       "      <td>1</td>\n",
       "      <td>1</td>\n",
       "      <td>1</td>\n",
       "      <td>0</td>\n",
       "      <td>0</td>\n",
       "      <td>4</td>\n",
       "      <td>1</td>\n",
       "      <td>0</td>\n",
       "      <td>1</td>\n",
       "      <td>1</td>\n",
       "    </tr>\n",
       "  </tbody>\n",
       "</table>\n",
       "</div>"
      ],
      "text/plain": [
       "  animalName  hair  feathers  eggs  milk  airborne  aquatic  predator  \\\n",
       "0   aardvark     1         0     0     1         0        0         1   \n",
       "1   antelope     1         0     0     1         0        0         0   \n",
       "2       bass     0         0     1     0         0        1         1   \n",
       "3       bear     1         0     0     1         0        0         1   \n",
       "4       boar     1         0     0     1         0        0         1   \n",
       "\n",
       "   toothed  backbone  breathes  venomous  fins  legs  tail  domestic  catsize  \\\n",
       "0        1         1         1         0     0     4     0         0        1   \n",
       "1        1         1         1         0     0     4     1         0        1   \n",
       "2        1         1         0         0     1     0     1         0        0   \n",
       "3        1         1         1         0     0     4     0         0        1   \n",
       "4        1         1         1         0     0     4     1         0        1   \n",
       "\n",
       "   type  \n",
       "0     1  \n",
       "1     1  \n",
       "2     4  \n",
       "3     1  \n",
       "4     1  "
      ]
     },
<<<<<<< HEAD
     "execution_count": 4,
=======
     "execution_count": 16,
>>>>>>> parent of 6293e84 (updating the functions on analysis)
     "metadata": {},
     "output_type": "execute_result"
    }
   ],
   "source": [
    "#uncomment this line if the server is down for fetching the data\n",
    "#zoo_data = pd.read_csv(\"./data/zoo.csv\")\n",
    "zoo_data.head()"
   ]
  },
  {
   "cell_type": "markdown",
   "id": "018cfa28-68c7-4b37-9901-7265162dd61c",
   "metadata": {},
   "source": [
    "The first thing is to import the data. The data set is downloaded from [UCI repository](\"https://archive-beta.ics.uci.edu/ml/datasets/zoo\"). It is then saved as a csv file in this project repository. Some exploratory data analysis needs to be run before running the actual analyses on the data set."
   ]
  },
  {
   "cell_type": "code",
   "execution_count": 17,
   "id": "fdf3fe98-78fe-4554-80ef-cd921a2228c9",
   "metadata": {},
   "outputs": [],
   "source": [
    "# saving the data as a csv file in our data directory\n",
    "# zoo_data.to_csv(r'./data/zoo.csv')"
   ]
  },
  {
   "cell_type": "code",
<<<<<<< HEAD
   "execution_count": 5,
=======
   "execution_count": 18,
>>>>>>> parent of 6293e84 (updating the functions on analysis)
   "id": "c5ce93ae-0374-4541-978f-25db399ae729",
   "metadata": {},
   "outputs": [
    {
     "name": "stdout",
     "output_type": "stream",
     "text": [
      "Whether the dataset contains missing value: False\n"
     ]
    }
   ],
   "source": [
    "# Check if there are missing values\n",
    "print(\"Whether the dataset contains missing value: \" + str(zoo_data.isna().any().any()))"
   ]
  },
  {
   "cell_type": "code",
   "execution_count": 19,
   "id": "346a692f-b32a-464a-92bf-4edd7f331618",
   "metadata": {},
   "outputs": [],
   "source": [
    "# drop the first column\n",
    "#zoo_data = zoo_data.drop(zoo_data.columns[[0,1]], axis=1)"
   ]
  },
  {
   "cell_type": "code",
<<<<<<< HEAD
   "execution_count": 6,
=======
   "execution_count": 20,
>>>>>>> parent of 6293e84 (updating the functions on analysis)
   "id": "d3a7cd9f-c171-4e0a-9072-1746a91b23fe",
   "metadata": {},
   "outputs": [
    {
     "data": {
      "text/html": [
       "<div>\n",
       "<style scoped>\n",
       "    .dataframe tbody tr th:only-of-type {\n",
       "        vertical-align: middle;\n",
       "    }\n",
       "\n",
       "    .dataframe tbody tr th {\n",
       "        vertical-align: top;\n",
       "    }\n",
       "\n",
       "    .dataframe thead th {\n",
       "        text-align: right;\n",
       "    }\n",
       "</style>\n",
       "<table border=\"1\" class=\"dataframe\">\n",
       "  <thead>\n",
       "    <tr style=\"text-align: right;\">\n",
       "      <th></th>\n",
       "      <th>hair</th>\n",
       "      <th>feathers</th>\n",
       "      <th>eggs</th>\n",
       "      <th>milk</th>\n",
       "      <th>airborne</th>\n",
       "      <th>aquatic</th>\n",
       "      <th>predator</th>\n",
       "      <th>toothed</th>\n",
       "      <th>backbone</th>\n",
       "      <th>breathes</th>\n",
       "      <th>venomous</th>\n",
       "      <th>fins</th>\n",
       "      <th>legs</th>\n",
       "      <th>tail</th>\n",
       "      <th>domestic</th>\n",
       "      <th>catsize</th>\n",
       "      <th>type</th>\n",
       "    </tr>\n",
       "  </thead>\n",
       "  <tbody>\n",
       "    <tr>\n",
       "      <th>count</th>\n",
       "      <td>101.000000</td>\n",
       "      <td>101.000000</td>\n",
       "      <td>101.000000</td>\n",
       "      <td>101.000000</td>\n",
       "      <td>101.000000</td>\n",
       "      <td>101.000000</td>\n",
       "      <td>101.000000</td>\n",
       "      <td>101.000000</td>\n",
       "      <td>101.000000</td>\n",
       "      <td>101.000000</td>\n",
       "      <td>101.000000</td>\n",
       "      <td>101.000000</td>\n",
       "      <td>101.000000</td>\n",
       "      <td>101.000000</td>\n",
       "      <td>101.000000</td>\n",
       "      <td>101.000000</td>\n",
       "      <td>101.000000</td>\n",
       "    </tr>\n",
       "    <tr>\n",
       "      <th>mean</th>\n",
       "      <td>0.425743</td>\n",
       "      <td>0.198020</td>\n",
       "      <td>0.584158</td>\n",
       "      <td>0.405941</td>\n",
       "      <td>0.237624</td>\n",
       "      <td>0.356436</td>\n",
       "      <td>0.554455</td>\n",
       "      <td>0.603960</td>\n",
       "      <td>0.821782</td>\n",
       "      <td>0.792079</td>\n",
       "      <td>0.079208</td>\n",
       "      <td>0.168317</td>\n",
       "      <td>2.841584</td>\n",
       "      <td>0.742574</td>\n",
       "      <td>0.128713</td>\n",
       "      <td>0.435644</td>\n",
       "      <td>2.831683</td>\n",
       "    </tr>\n",
       "    <tr>\n",
       "      <th>std</th>\n",
       "      <td>0.496921</td>\n",
       "      <td>0.400495</td>\n",
       "      <td>0.495325</td>\n",
       "      <td>0.493522</td>\n",
       "      <td>0.427750</td>\n",
       "      <td>0.481335</td>\n",
       "      <td>0.499505</td>\n",
       "      <td>0.491512</td>\n",
       "      <td>0.384605</td>\n",
       "      <td>0.407844</td>\n",
       "      <td>0.271410</td>\n",
       "      <td>0.376013</td>\n",
       "      <td>2.033385</td>\n",
       "      <td>0.439397</td>\n",
       "      <td>0.336552</td>\n",
       "      <td>0.498314</td>\n",
       "      <td>2.102709</td>\n",
       "    </tr>\n",
       "    <tr>\n",
       "      <th>min</th>\n",
       "      <td>0.000000</td>\n",
       "      <td>0.000000</td>\n",
       "      <td>0.000000</td>\n",
       "      <td>0.000000</td>\n",
       "      <td>0.000000</td>\n",
       "      <td>0.000000</td>\n",
       "      <td>0.000000</td>\n",
       "      <td>0.000000</td>\n",
       "      <td>0.000000</td>\n",
       "      <td>0.000000</td>\n",
       "      <td>0.000000</td>\n",
       "      <td>0.000000</td>\n",
       "      <td>0.000000</td>\n",
       "      <td>0.000000</td>\n",
       "      <td>0.000000</td>\n",
       "      <td>0.000000</td>\n",
       "      <td>1.000000</td>\n",
       "    </tr>\n",
       "    <tr>\n",
       "      <th>25%</th>\n",
       "      <td>0.000000</td>\n",
       "      <td>0.000000</td>\n",
       "      <td>0.000000</td>\n",
       "      <td>0.000000</td>\n",
       "      <td>0.000000</td>\n",
       "      <td>0.000000</td>\n",
       "      <td>0.000000</td>\n",
       "      <td>0.000000</td>\n",
       "      <td>1.000000</td>\n",
       "      <td>1.000000</td>\n",
       "      <td>0.000000</td>\n",
       "      <td>0.000000</td>\n",
       "      <td>2.000000</td>\n",
       "      <td>0.000000</td>\n",
       "      <td>0.000000</td>\n",
       "      <td>0.000000</td>\n",
       "      <td>1.000000</td>\n",
       "    </tr>\n",
       "    <tr>\n",
       "      <th>50%</th>\n",
       "      <td>0.000000</td>\n",
       "      <td>0.000000</td>\n",
       "      <td>1.000000</td>\n",
       "      <td>0.000000</td>\n",
       "      <td>0.000000</td>\n",
       "      <td>0.000000</td>\n",
       "      <td>1.000000</td>\n",
       "      <td>1.000000</td>\n",
       "      <td>1.000000</td>\n",
       "      <td>1.000000</td>\n",
       "      <td>0.000000</td>\n",
       "      <td>0.000000</td>\n",
       "      <td>4.000000</td>\n",
       "      <td>1.000000</td>\n",
       "      <td>0.000000</td>\n",
       "      <td>0.000000</td>\n",
       "      <td>2.000000</td>\n",
       "    </tr>\n",
       "    <tr>\n",
       "      <th>75%</th>\n",
       "      <td>1.000000</td>\n",
       "      <td>0.000000</td>\n",
       "      <td>1.000000</td>\n",
       "      <td>1.000000</td>\n",
       "      <td>0.000000</td>\n",
       "      <td>1.000000</td>\n",
       "      <td>1.000000</td>\n",
       "      <td>1.000000</td>\n",
       "      <td>1.000000</td>\n",
       "      <td>1.000000</td>\n",
       "      <td>0.000000</td>\n",
       "      <td>0.000000</td>\n",
       "      <td>4.000000</td>\n",
       "      <td>1.000000</td>\n",
       "      <td>0.000000</td>\n",
       "      <td>1.000000</td>\n",
       "      <td>4.000000</td>\n",
       "    </tr>\n",
       "    <tr>\n",
       "      <th>max</th>\n",
       "      <td>1.000000</td>\n",
       "      <td>1.000000</td>\n",
       "      <td>1.000000</td>\n",
       "      <td>1.000000</td>\n",
       "      <td>1.000000</td>\n",
       "      <td>1.000000</td>\n",
       "      <td>1.000000</td>\n",
       "      <td>1.000000</td>\n",
       "      <td>1.000000</td>\n",
       "      <td>1.000000</td>\n",
       "      <td>1.000000</td>\n",
       "      <td>1.000000</td>\n",
       "      <td>8.000000</td>\n",
       "      <td>1.000000</td>\n",
       "      <td>1.000000</td>\n",
       "      <td>1.000000</td>\n",
       "      <td>7.000000</td>\n",
       "    </tr>\n",
       "  </tbody>\n",
       "</table>\n",
       "</div>"
      ],
      "text/plain": [
       "             hair    feathers        eggs        milk    airborne     aquatic  \\\n",
       "count  101.000000  101.000000  101.000000  101.000000  101.000000  101.000000   \n",
       "mean     0.425743    0.198020    0.584158    0.405941    0.237624    0.356436   \n",
       "std      0.496921    0.400495    0.495325    0.493522    0.427750    0.481335   \n",
       "min      0.000000    0.000000    0.000000    0.000000    0.000000    0.000000   \n",
       "25%      0.000000    0.000000    0.000000    0.000000    0.000000    0.000000   \n",
       "50%      0.000000    0.000000    1.000000    0.000000    0.000000    0.000000   \n",
       "75%      1.000000    0.000000    1.000000    1.000000    0.000000    1.000000   \n",
       "max      1.000000    1.000000    1.000000    1.000000    1.000000    1.000000   \n",
       "\n",
       "         predator     toothed    backbone    breathes    venomous        fins  \\\n",
       "count  101.000000  101.000000  101.000000  101.000000  101.000000  101.000000   \n",
       "mean     0.554455    0.603960    0.821782    0.792079    0.079208    0.168317   \n",
       "std      0.499505    0.491512    0.384605    0.407844    0.271410    0.376013   \n",
       "min      0.000000    0.000000    0.000000    0.000000    0.000000    0.000000   \n",
       "25%      0.000000    0.000000    1.000000    1.000000    0.000000    0.000000   \n",
       "50%      1.000000    1.000000    1.000000    1.000000    0.000000    0.000000   \n",
       "75%      1.000000    1.000000    1.000000    1.000000    0.000000    0.000000   \n",
       "max      1.000000    1.000000    1.000000    1.000000    1.000000    1.000000   \n",
       "\n",
       "             legs        tail    domestic     catsize        type  \n",
       "count  101.000000  101.000000  101.000000  101.000000  101.000000  \n",
       "mean     2.841584    0.742574    0.128713    0.435644    2.831683  \n",
       "std      2.033385    0.439397    0.336552    0.498314    2.102709  \n",
       "min      0.000000    0.000000    0.000000    0.000000    1.000000  \n",
       "25%      2.000000    0.000000    0.000000    0.000000    1.000000  \n",
       "50%      4.000000    1.000000    0.000000    0.000000    2.000000  \n",
       "75%      4.000000    1.000000    0.000000    1.000000    4.000000  \n",
       "max      8.000000    1.000000    1.000000    1.000000    7.000000  "
      ]
     },
<<<<<<< HEAD
     "execution_count": 6,
=======
     "execution_count": 20,
>>>>>>> parent of 6293e84 (updating the functions on analysis)
     "metadata": {},
     "output_type": "execute_result"
    }
   ],
   "source": [
    "# Create a summary of the data set, including descriptive statistics\n",
    "zoo_data.describe()"
   ]
  },
  {
   "cell_type": "markdown",
   "id": "e20b6609-03e5-447e-86c0-71f76cbab14f",
   "metadata": {},
   "source": [
    "After checking whether there are missing values in the data set, we can clearly deduce that the data set is clean according to the data summary we generated above. Since most features are binary and categorical, there is no need to do normalization and standardization."
   ]
  },
  {
   "cell_type": "code",
<<<<<<< HEAD
   "execution_count": 9,
=======
   "execution_count": 21,
>>>>>>> parent of 6293e84 (updating the functions on analysis)
   "id": "aacff929-4025-44a8-ac51-ee36374eb85b",
   "metadata": {},
   "outputs": [
    {
     "data": {
<<<<<<< HEAD
      "text/plain": "<Figure size 1080x1080 with 20 Axes>",
      "image/png": "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\n"
=======
      "image/png": "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\n",
      "text/plain": [
       "<Figure size 1080x1080 with 20 Axes>"
      ]
     },
     "metadata": {
      "needs_background": "light"
>>>>>>> parent of 6293e84 (updating the functions on analysis)
     },
     "metadata": {},
     "output_type": "display_data"
    }
   ],
   "source": [
    "# Create a visualization of the dataset\n",
    "zoo_data.hist(figsize=(15,15));\n",
    "plt.suptitle(\"fig.1 Histogram of all features\");"
   ]
  },
  {
   "cell_type": "markdown",
   "id": "27c14a2e-0fe2-45bf-b897-1d16311f95f5",
   "metadata": {},
   "source": [
    "As shown in fig.1, the histograms of each feature are generated. The ones with skewed distribution might be more decisive in the prediction. However, since the data set is relatively small, all the features except the `animalName` are going to be used to predict. In the next part, we are going to split the data, into the training set and testing set. After that, different classification models will be trained and evaluated."
   ]
  },
  {
   "cell_type": "markdown",
   "id": "ddd1356c",
   "metadata": {},
   "source": [
    "### Classification\n",
    "Now we will use the training set to build an accurate model, whereas the testing set is used to report the accuracy of the models. Here is a list of algorithms we will use in the following section:\n",
    "\n",
    "K Nearest Neighbor(KNN)\n",
    "<br>\n",
    "Decision Tree\n",
    "<br>\n",
    "Support Vector Machine\n",
    "<br>\n",
    "Logistic Regression"
   ]
  },
  {
   "cell_type": "code",
<<<<<<< HEAD
   "execution_count": 10,
=======
   "execution_count": 22,
>>>>>>> parent of 6293e84 (updating the functions on analysis)
   "id": "a3eea773",
   "metadata": {},
   "outputs": [
    {
     "data": {
      "text/html": [
       "<div>\n",
       "<style scoped>\n",
       "    .dataframe tbody tr th:only-of-type {\n",
       "        vertical-align: middle;\n",
       "    }\n",
       "\n",
       "    .dataframe tbody tr th {\n",
       "        vertical-align: top;\n",
       "    }\n",
       "\n",
       "    .dataframe thead th {\n",
       "        text-align: right;\n",
       "    }\n",
       "</style>\n",
       "<table border=\"1\" class=\"dataframe\">\n",
       "  <thead>\n",
       "    <tr style=\"text-align: right;\">\n",
       "      <th></th>\n",
       "      <th>hair</th>\n",
       "      <th>feathers</th>\n",
       "      <th>eggs</th>\n",
       "      <th>milk</th>\n",
       "      <th>airborne</th>\n",
       "      <th>aquatic</th>\n",
       "      <th>predator</th>\n",
       "      <th>toothed</th>\n",
       "      <th>backbone</th>\n",
       "      <th>breathes</th>\n",
       "      <th>venomous</th>\n",
       "      <th>fins</th>\n",
       "      <th>legs</th>\n",
       "      <th>tail</th>\n",
       "      <th>domestic</th>\n",
       "      <th>catsize</th>\n",
       "    </tr>\n",
       "  </thead>\n",
       "  <tbody>\n",
       "    <tr>\n",
       "      <th>0</th>\n",
       "      <td>1</td>\n",
       "      <td>0</td>\n",
       "      <td>0</td>\n",
       "      <td>1</td>\n",
       "      <td>0</td>\n",
       "      <td>0</td>\n",
       "      <td>1</td>\n",
       "      <td>1</td>\n",
       "      <td>1</td>\n",
       "      <td>1</td>\n",
       "      <td>0</td>\n",
       "      <td>0</td>\n",
       "      <td>4</td>\n",
       "      <td>0</td>\n",
       "      <td>0</td>\n",
       "      <td>1</td>\n",
       "    </tr>\n",
       "    <tr>\n",
       "      <th>1</th>\n",
       "      <td>1</td>\n",
       "      <td>0</td>\n",
       "      <td>0</td>\n",
       "      <td>1</td>\n",
       "      <td>0</td>\n",
       "      <td>0</td>\n",
       "      <td>0</td>\n",
       "      <td>1</td>\n",
       "      <td>1</td>\n",
       "      <td>1</td>\n",
       "      <td>0</td>\n",
       "      <td>0</td>\n",
       "      <td>4</td>\n",
       "      <td>1</td>\n",
       "      <td>0</td>\n",
       "      <td>1</td>\n",
       "    </tr>\n",
       "    <tr>\n",
       "      <th>2</th>\n",
       "      <td>0</td>\n",
       "      <td>0</td>\n",
       "      <td>1</td>\n",
       "      <td>0</td>\n",
       "      <td>0</td>\n",
       "      <td>1</td>\n",
       "      <td>1</td>\n",
       "      <td>1</td>\n",
       "      <td>1</td>\n",
       "      <td>0</td>\n",
       "      <td>0</td>\n",
       "      <td>1</td>\n",
       "      <td>0</td>\n",
       "      <td>1</td>\n",
       "      <td>0</td>\n",
       "      <td>0</td>\n",
       "    </tr>\n",
       "    <tr>\n",
       "      <th>3</th>\n",
       "      <td>1</td>\n",
       "      <td>0</td>\n",
       "      <td>0</td>\n",
       "      <td>1</td>\n",
       "      <td>0</td>\n",
       "      <td>0</td>\n",
       "      <td>1</td>\n",
       "      <td>1</td>\n",
       "      <td>1</td>\n",
       "      <td>1</td>\n",
       "      <td>0</td>\n",
       "      <td>0</td>\n",
       "      <td>4</td>\n",
       "      <td>0</td>\n",
       "      <td>0</td>\n",
       "      <td>1</td>\n",
       "    </tr>\n",
       "    <tr>\n",
       "      <th>4</th>\n",
       "      <td>1</td>\n",
       "      <td>0</td>\n",
       "      <td>0</td>\n",
       "      <td>1</td>\n",
       "      <td>0</td>\n",
       "      <td>0</td>\n",
       "      <td>1</td>\n",
       "      <td>1</td>\n",
       "      <td>1</td>\n",
       "      <td>1</td>\n",
       "      <td>0</td>\n",
       "      <td>0</td>\n",
       "      <td>4</td>\n",
       "      <td>1</td>\n",
       "      <td>0</td>\n",
       "      <td>1</td>\n",
       "    </tr>\n",
       "  </tbody>\n",
       "</table>\n",
       "</div>"
      ],
      "text/plain": [
       "   hair  feathers  eggs  milk  airborne  aquatic  predator  toothed  backbone  \\\n",
       "0     1         0     0     1         0        0         1        1         1   \n",
       "1     1         0     0     1         0        0         0        1         1   \n",
       "2     0         0     1     0         0        1         1        1         1   \n",
       "3     1         0     0     1         0        0         1        1         1   \n",
       "4     1         0     0     1         0        0         1        1         1   \n",
       "\n",
       "   breathes  venomous  fins  legs  tail  domestic  catsize  \n",
       "0         1         0     0     4     0         0        1  \n",
       "1         1         0     0     4     1         0        1  \n",
       "2         0         0     1     0     1         0        0  \n",
       "3         1         0     0     4     0         0        1  \n",
       "4         1         0     0     4     1         0        1  "
      ]
     },
<<<<<<< HEAD
     "execution_count": 10,
=======
     "execution_count": 22,
>>>>>>> parent of 6293e84 (updating the functions on analysis)
     "metadata": {},
     "output_type": "execute_result"
    }
   ],
   "source": [
    "# extracting the feature that will predict\n",
    "feature = zoo_data[[\"hair\", \"feathers\", \"eggs\", \"milk\", \"airborne\", \n",
    "                   \"aquatic\", \"predator\", \"toothed\", \"backbone\", \"breathes\", \n",
    "                   \"venomous\", \"fins\", \"legs\", \"tail\", \"domestic\", \"catsize\"]]\n",
    "# making it as a X\n",
    "X = feature\n",
    "X.head()"
   ]
  },
  {
   "cell_type": "code",
<<<<<<< HEAD
   "execution_count": 12,
=======
   "execution_count": 23,
>>>>>>> parent of 6293e84 (updating the functions on analysis)
   "id": "c418b49b",
   "metadata": {},
   "outputs": [
    {
     "data": {
      "text/plain": [
       "0    1\n",
       "1    1\n",
       "2    4\n",
       "3    1\n",
       "4    1\n",
       "Name: type, dtype: int64"
      ]
     },
<<<<<<< HEAD
     "execution_count": 12,
=======
     "execution_count": 23,
>>>>>>> parent of 6293e84 (updating the functions on analysis)
     "metadata": {},
     "output_type": "execute_result"
    }
   ],
   "source": [
    "# taking the y values, the type\n",
    "y = zoo_data['type']\n",
    "y[0:5]"
   ]
  },
  {
   "cell_type": "code",
<<<<<<< HEAD
   "execution_count": 13,
=======
   "execution_count": 24,
>>>>>>> parent of 6293e84 (updating the functions on analysis)
   "id": "d1098ee0-0029-4d18-8fa0-fa79eef7e09d",
   "metadata": {},
   "outputs": [
    {
     "name": "stdout",
     "output_type": "stream",
     "text": [
      "Training set: (80, 16) (80,)\n",
      "Test set: (21, 16) (21,)\n"
     ]
    }
   ],
   "source": [
    "# splitting the dataset 80-20 for train and test\n",
    "X_train, X_test, y_train, y_test = train_test_split( X, y, test_size=0.2, random_state=4)\n",
    "print('Training set:', X_train.shape,  y_train.shape)\n",
    "print('Test set:', X_test.shape,  y_test.shape)"
   ]
  },
  {
   "cell_type": "markdown",
   "id": "7d8b4310",
   "metadata": {},
   "source": [
    "#### KNN\n",
    "KNN captures the idea of similarity (sometimes called distance, proximity, or closeness) \n",
    "with some basic mathematics we might have learned earlier. Basically in terms of geometry we can always calculate the distance between points on a graph. Similarly, using KNN we can group similar points together and predict the target with our feature variables(x)."
   ]
  },
  {
   "cell_type": "code",
<<<<<<< HEAD
   "execution_count": 18,
=======
   "execution_count": 25,
>>>>>>> parent of 6293e84 (updating the functions on analysis)
   "id": "60c37bfa",
   "metadata": {},
   "outputs": [
    {
     "data": {
<<<<<<< HEAD
      "text/plain": "array([1.        , 0.95238095, 0.95238095, 0.9047619 , 0.85714286,\n       0.85714286, 0.85714286, 0.76190476, 0.76190476, 0.76190476,\n       0.76190476, 0.76190476, 0.76190476, 0.76190476, 0.76190476,\n       0.76190476, 0.76190476, 0.71428571, 0.61904762, 0.61904762,\n       0.61904762, 0.61904762, 0.61904762, 0.61904762, 0.61904762,\n       0.61904762, 0.61904762, 0.61904762, 0.61904762, 0.61904762,\n       0.61904762, 0.61904762, 0.61904762, 0.57142857, 0.57142857,\n       0.57142857, 0.57142857, 0.57142857, 0.57142857, 0.57142857,\n       0.57142857, 0.57142857, 0.57142857, 0.57142857, 0.57142857,\n       0.47619048, 0.42857143, 0.42857143, 0.42857143, 0.33333333,\n       0.33333333, 0.33333333, 0.33333333, 0.33333333, 0.33333333,\n       0.33333333, 0.33333333, 0.33333333, 0.33333333, 0.33333333,\n       0.33333333, 0.33333333, 0.33333333, 0.33333333, 0.33333333,\n       0.33333333, 0.33333333, 0.33333333, 0.33333333, 0.33333333,\n       0.33333333, 0.33333333, 0.33333333, 0.33333333, 0.33333333,\n       0.33333333, 0.33333333, 0.33333333, 0.33333333, 0.33333333])"
     },
     "execution_count": 18,
=======
      "text/plain": [
       "array([1.        , 0.95238095, 0.95238095, 0.9047619 , 0.85714286,\n",
       "       0.80952381, 0.85714286, 0.76190476, 0.76190476, 0.76190476,\n",
       "       0.76190476, 0.76190476, 0.76190476, 0.76190476, 0.76190476,\n",
       "       0.76190476, 0.76190476, 0.71428571, 0.61904762, 0.61904762,\n",
       "       0.61904762, 0.61904762, 0.61904762, 0.61904762, 0.61904762,\n",
       "       0.61904762, 0.61904762, 0.61904762, 0.61904762, 0.61904762,\n",
       "       0.61904762, 0.61904762, 0.61904762, 0.57142857, 0.57142857,\n",
       "       0.57142857, 0.57142857, 0.57142857, 0.57142857, 0.57142857,\n",
       "       0.57142857, 0.57142857, 0.57142857, 0.57142857, 0.57142857,\n",
       "       0.47619048, 0.42857143, 0.42857143, 0.42857143, 0.33333333,\n",
       "       0.33333333, 0.33333333, 0.33333333, 0.33333333, 0.33333333,\n",
       "       0.33333333, 0.33333333, 0.33333333, 0.33333333, 0.33333333,\n",
       "       0.33333333, 0.33333333, 0.33333333, 0.33333333, 0.33333333,\n",
       "       0.33333333, 0.33333333, 0.33333333, 0.33333333, 0.33333333,\n",
       "       0.33333333, 0.33333333, 0.33333333, 0.33333333, 0.33333333,\n",
       "       0.33333333, 0.33333333, 0.33333333, 0.33333333, 0.33333333])"
      ]
     },
     "execution_count": 25,
>>>>>>> parent of 6293e84 (updating the functions on analysis)
     "metadata": {},
     "output_type": "execute_result"
    }
   ],
   "source": [
    "#training the model for different set of K values and finding the best K value\n",
    "Ks = 81\n",
    "mean_acc = np.zeros((Ks-1))\n",
    "std_acc = np.zeros((Ks-1))\n",
    "ConfustionMx = [];\n",
    "train_and_predict_model(\"KNN\", Ks, X_train, X_test, y_train, y_test, mean_acc)\n",
    "for n in range(1,Ks):\n",
    "    std_acc[n-1]=np.std(yhat==y_test)/np.sqrt(yhat.shape[0])\n",
    "\n",
    "mean_acc"
   ]
  },
  {
   "cell_type": "code",
   "execution_count": 26,
   "id": "7c1160b6",
   "metadata": {},
   "outputs": [
    {
     "data": {
      "image/png": "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\n",
      "text/plain": [
       "<Figure size 432x288 with 1 Axes>"
      ]
     },
     "metadata": {
      "needs_background": "light"
     },
     "output_type": "display_data"
    }
   ],
   "source": [
    "# plotting the aaccuracy for different K values\n",
    "plt.plot(range(1,Ks),mean_acc,'g')\n",
    "plt.fill_between(range(1,Ks), mean_acc - 1 * std_acc, mean_acc + 1 * std_acc, alpha=0.10)\n",
    "plt.legend(('Accuracy ', '+/- 3xstd'))\n",
    "plt.ylabel('Accuracy ')\n",
    "plt.xlabel('Number of Neighbors (K)')\n",
    "plt.title('fig.2 Number of Neighbors vs. Accuracy')\n",
    "plt.tight_layout()\n",
    "plt.show()"
   ]
  },
  {
   "cell_type": "code",
   "execution_count": 27,
   "id": "ddad26d4",
   "metadata": {},
   "outputs": [
    {
     "name": "stdout",
     "output_type": "stream",
     "text": [
      "The best accuracy was with the values 1.0 with k= 1\n"
     ]
    }
   ],
   "source": [
    "print(\"The best accuracy was with the values\", mean_acc.max(), \"with k=\", mean_acc.argmax()+1 )"
   ]
  },
  {
   "cell_type": "code",
   "execution_count": 28,
   "id": "070b944a-9d30-48e4-8949-514dbb9246e0",
   "metadata": {},
   "outputs": [
    {
     "data": {
      "text/plain": [
       "{'n_neighbors': 1}"
      ]
     },
     "execution_count": 28,
     "metadata": {},
     "output_type": "execute_result"
    }
   ],
   "source": [
    "# Finding the K value using Grid Search\n",
    "knn = KNeighborsClassifier()\n",
    "k_vals = list(range(1, 21))\n",
    "param_grid = dict(n_neighbors=k_vals)\n",
    "grid = GridSearchCV(knn, param_grid, cv=3, scoring='accuracy')\n",
    "grid.fit(X_train, y_train)\n",
    "grid.best_params_"
   ]
  },
  {
   "cell_type": "code",
   "execution_count": 29,
   "id": "646ef3e9",
   "metadata": {},
   "outputs": [],
   "source": [
    "# as the best accuracy was with K = 1\n",
    "# using K = 1 for the final KNN model\n",
    "# Final KNN model is here used the splited test part to train again for better training, and better prediction\n",
    "final_knn_model = KNeighborsClassifier(n_neighbors = 1).fit(X,y)"
   ]
  },
  {
   "cell_type": "markdown",
   "id": "ab34557f",
   "metadata": {},
   "source": [
    "#### KNN Evaluation"
   ]
  },
  {
   "cell_type": "code",
   "execution_count": 30,
   "id": "8156e207-fa8f-482e-a5f4-298ac833dbec",
   "metadata": {},
   "outputs": [
    {
     "name": "stdout",
     "output_type": "stream",
     "text": [
      "So the accuracy score for K = 1 is: 1.0\n"
     ]
    }
   ],
   "source": [
    "yhat = final_knn_model.predict(X_test)\n",
    "accuracyScore = metrics.accuracy_score(y_test, yhat)\n",
    "print(\"So the accuracy score for K = 1 is: \" + str(accuracyScore))"
   ]
  },
  {
   "cell_type": "code",
   "execution_count": 31,
   "id": "e7f7ca35-f76f-48f9-8402-0f3ed1c4fc0f",
   "metadata": {},
   "outputs": [
    {
     "data": {
      "text/plain": [
       "fit_time       0.003334\n",
       "score_time     0.004308\n",
       "test_score     0.936847\n",
       "train_score    1.000000\n",
       "dtype: float64"
      ]
     },
     "execution_count": 31,
     "metadata": {},
     "output_type": "execute_result"
    }
   ],
   "source": [
    "# cross-validation on knn\n",
    "cv_results_knn = cross_validate(final_knn_model, X_train, y_train, cv=3, return_train_score=True);\n",
    "pd.DataFrame(cv_results_knn).mean()"
   ]
  },
  {
   "cell_type": "code",
   "execution_count": 32,
   "id": "394b52d5",
   "metadata": {},
   "outputs": [
    {
     "name": "stdout",
     "output_type": "stream",
     "text": [
      "              precision    recall  f1-score   support\n",
      "\n",
      "           1       1.00      1.00      1.00         7\n",
      "           2       1.00      1.00      1.00         5\n",
      "           4       1.00      1.00      1.00         1\n",
      "           5       1.00      1.00      1.00         1\n",
      "           6       1.00      1.00      1.00         3\n",
      "           7       1.00      1.00      1.00         4\n",
      "\n",
      "    accuracy                           1.00        21\n",
      "   macro avg       1.00      1.00      1.00        21\n",
      "weighted avg       1.00      1.00      1.00        21\n",
      "\n"
     ]
    }
   ],
   "source": [
    "print (classification_report(y_test, yhat))"
   ]
  },
  {
   "cell_type": "markdown",
   "id": "b3981536",
   "metadata": {},
   "source": [
    "#### Decision Tree\n",
    "A decision tree is a decision support tool that uses a tree-like model of decisions and their \n",
    "possible consequences, including chance event outcomes, resource costs, and utility\n",
    "The goal of using a Decision Tree is to create a training model that can use to predict \n",
    "the class or value of the target variable by learning simple decision rules inferred \n",
    "from prior data(training data)."
   ]
  },
  {
   "cell_type": "code",
<<<<<<< HEAD
   "execution_count": 22,
=======
   "execution_count": 33,
>>>>>>> parent of 6293e84 (updating the functions on analysis)
   "id": "1465f89f",
   "metadata": {},
   "outputs": [
    {
     "data": {
<<<<<<< HEAD
      "text/plain": "array([0.57142857, 0.61904762, 0.80952381, 0.80952381, 0.9047619 ,\n       0.9047619 , 0.85714286, 0.9047619 , 0.85714286, 0.9047619 ,\n       0.9047619 , 0.85714286, 0.9047619 , 0.9047619 , 0.9047619 ,\n       0.9047619 , 0.9047619 , 0.9047619 , 0.85714286, 0.9047619 ,\n       0.85714286, 0.9047619 , 0.9047619 , 0.9047619 , 0.9047619 ,\n       0.85714286, 0.9047619 , 0.85714286, 0.85714286, 0.9047619 ,\n       0.9047619 , 0.9047619 , 0.9047619 , 0.85714286, 0.9047619 ,\n       0.9047619 , 0.85714286, 0.9047619 , 0.9047619 , 0.9047619 ,\n       0.85714286, 0.9047619 , 0.9047619 , 0.9047619 , 0.9047619 ,\n       0.9047619 , 0.85714286, 0.9047619 , 0.9047619 ])"
     },
     "execution_count": 22,
=======
      "text/plain": [
       "array([0.57142857, 0.61904762, 0.80952381, 0.80952381, 0.9047619 ,\n",
       "       0.9047619 , 0.9047619 , 0.9047619 , 0.9047619 , 0.85714286,\n",
       "       0.9047619 , 0.9047619 , 0.85714286, 0.9047619 , 0.9047619 ,\n",
       "       0.9047619 , 0.9047619 , 0.9047619 , 0.9047619 , 0.9047619 ,\n",
       "       0.9047619 , 0.9047619 , 0.9047619 , 0.9047619 , 0.9047619 ,\n",
       "       0.9047619 , 0.9047619 , 0.85714286, 0.85714286, 0.9047619 ,\n",
       "       0.9047619 , 0.9047619 , 0.9047619 , 0.85714286, 0.9047619 ,\n",
       "       0.9047619 , 0.9047619 , 0.85714286, 0.9047619 , 0.9047619 ,\n",
       "       0.9047619 , 0.85714286, 0.9047619 , 0.9047619 , 0.85714286,\n",
       "       0.85714286, 0.9047619 , 0.9047619 , 0.9047619 ])"
      ]
     },
     "execution_count": 33,
>>>>>>> parent of 6293e84 (updating the functions on analysis)
     "metadata": {},
     "output_type": "execute_result"
    }
   ],
   "source": [
    "Ks = 50\n",
    "mean_acc = np.zeros((Ks-1))\n",
    "std_acc = np.zeros((Ks-1))\n",
    "ConfustionMx = [];\n",
    "train_and_predict_model(\"DT\", Ks, X_train, X_test, y_train, y_test, mean_acc)\n",
    "\n",
    "for n in range(1,Ks):\n",
    "    std_acc[n-1]=np.std(yhat==y_test)/np.sqrt(yhat.shape[0])\n",
    "\n",
    "mean_acc"
   ]
  },
  {
   "cell_type": "code",
   "execution_count": 34,
   "id": "8cb4c023",
   "metadata": {},
   "outputs": [
    {
     "data": {
      "image/png": "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\n",
      "text/plain": [
       "<Figure size 432x288 with 1 Axes>"
      ]
     },
     "metadata": {
      "needs_background": "light"
     },
     "output_type": "display_data"
    }
   ],
   "source": [
    "plt.plot(range(1,Ks),mean_acc,'g')\n",
    "plt.fill_between(range(1,Ks),mean_acc - 1 * std_acc,mean_acc + 1 * std_acc, alpha=0.10)\n",
    "plt.legend(('Accuracy ', '+/- 3xstd'))\n",
    "plt.ylabel('Accuracy ')\n",
    "plt.xlabel('Max_Depth')\n",
    "plt.title('fig.3 Max_depth vs. Accuracy')\n",
    "plt.tight_layout()\n",
    "plt.show()"
   ]
  },
  {
   "cell_type": "code",
   "execution_count": 35,
   "id": "6bbbad3c",
   "metadata": {},
   "outputs": [
    {
     "name": "stdout",
     "output_type": "stream",
     "text": [
      "The best accuracy was with the values 0.9047619047619048 with max_depth = 5\n"
     ]
    }
   ],
   "source": [
    "print(\"The best accuracy was with the values\", mean_acc.max(), \"with max_depth =\", mean_acc.argmax()+1) "
   ]
  },
  {
   "cell_type": "code",
   "execution_count": 36,
   "id": "945f91fd",
   "metadata": {},
   "outputs": [
    {
     "data": {
      "text/plain": [
       "DecisionTreeClassifier(criterion='entropy', max_depth=5)"
      ]
     },
     "execution_count": 36,
     "metadata": {},
     "output_type": "execute_result"
    }
   ],
   "source": [
    "# As Best is max depth = 5\n",
    "# using max depth = 5 for the final decision tree\n",
    "# Final decisison tree is here used the splited test part to train again for better training, and better prediction\n",
    "Final_dec_Tree = DecisionTreeClassifier(criterion=\"entropy\", max_depth = 5)\n",
    "Final_dec_Tree.fit(X,y)"
   ]
  },
  {
   "cell_type": "markdown",
   "id": "974a4d9d",
   "metadata": {},
   "source": [
    "#### Decision Tree Evaluation"
   ]
  },
  {
   "cell_type": "code",
   "execution_count": 37,
   "id": "3b6ad311-0321-4712-98f9-f431c6aba6f6",
   "metadata": {},
   "outputs": [
    {
     "name": "stdout",
     "output_type": "stream",
     "text": [
      "So the accuracy score for max depth = 5 is: 0.9523809523809523\n"
     ]
    }
   ],
   "source": [
    "yhat=Final_dec_Tree.predict(X_test)\n",
    "accuracyScore = metrics.accuracy_score(y_test, yhat)\n",
    "print(\"So the accuracy score for max depth = 5 is: \" + str(accuracyScore))"
   ]
  },
  {
   "cell_type": "code",
   "execution_count": 38,
   "id": "e1f79805-6d2d-445a-852e-6a0e12d440f1",
   "metadata": {},
   "outputs": [
    {
     "name": "stderr",
     "output_type": "stream",
     "text": [
      "C:\\Users\\podda\\miniconda3\\lib\\site-packages\\sklearn\\model_selection\\_split.py:676: UserWarning: The least populated class in y has only 3 members, which is less than n_splits=4.\n",
      "  warnings.warn(\n"
     ]
    },
    {
     "data": {
      "text/plain": [
       "fit_time       0.002258\n",
       "score_time     0.002062\n",
       "test_score     0.950000\n",
       "train_score    0.995833\n",
       "dtype: float64"
      ]
     },
     "execution_count": 38,
     "metadata": {},
     "output_type": "execute_result"
    }
   ],
   "source": [
    "# cross-validation on decision tree\n",
    "cv_results_dt = cross_validate(Final_dec_Tree, X_train, y_train, cv=4, return_train_score=True);\n",
    "pd.DataFrame(cv_results_dt).mean()"
   ]
  },
  {
   "cell_type": "code",
   "execution_count": 39,
   "id": "c7b1ea31",
   "metadata": {},
   "outputs": [
    {
     "name": "stdout",
     "output_type": "stream",
     "text": [
      "              precision    recall  f1-score   support\n",
      "\n",
      "           1       1.00      1.00      1.00         7\n",
      "           2       1.00      1.00      1.00         5\n",
      "           4       1.00      1.00      1.00         1\n",
      "           5       1.00      1.00      1.00         1\n",
      "           6       0.75      1.00      0.86         3\n",
      "           7       1.00      0.75      0.86         4\n",
      "\n",
      "    accuracy                           0.95        21\n",
      "   macro avg       0.96      0.96      0.95        21\n",
      "weighted avg       0.96      0.95      0.95        21\n",
      "\n"
     ]
    }
   ],
   "source": [
    "print(classification_report(y_test, yhat))"
   ]
  },
  {
   "cell_type": "markdown",
   "id": "d9f9ea64",
   "metadata": {},
   "source": [
    "#### Support Vector Machine\n",
    "SVM or Support Vector Machine is a linear model for classification and regression problems. \n",
    "It can solve linear and non-linear problems and work well for many practical problems. \n",
    "The idea of SVM is simple: The algorithm creates a line or a hyperplane which separates the \n",
    "data into classes."
   ]
  },
  {
   "cell_type": "code",
   "execution_count": 40,
   "id": "6d76eab8",
   "metadata": {},
   "outputs": [
    {
     "data": {
      "text/plain": [
       "SVC(kernel='poly')"
      ]
     },
     "execution_count": 40,
     "metadata": {},
     "output_type": "execute_result"
    }
   ],
   "source": [
    "svec = svm.SVC(kernel='poly')\n",
    "svec.fit(X_train, y_train)"
   ]
  },
  {
   "cell_type": "code",
   "execution_count": 41,
   "id": "7d9aeaa1",
   "metadata": {},
   "outputs": [
    {
     "name": "stdout",
     "output_type": "stream",
     "text": [
      "So the Jaccard score for SVM is: 0.8260869565217391\n"
     ]
    }
   ],
   "source": [
    "yhat = svec.predict(X_test)\n",
    "acc = jaccard_score(y_test, yhat, average='micro')\n",
    "print(\"So the Jaccard score for SVM is: \" + str(acc))"
   ]
  },
  {
   "cell_type": "code",
   "execution_count": 42,
   "id": "e6bc722e",
   "metadata": {},
   "outputs": [],
   "source": [
    "#Final SVM is here used the splited test part to train again for better training, and better prediction\n",
    "svec = svm.SVC(kernel='poly')\n",
    "finalSVM = svec.fit(X, y) "
   ]
  },
  {
   "cell_type": "markdown",
   "id": "b318c598",
   "metadata": {},
   "source": [
    "#### SVM Evaluation"
   ]
  },
  {
   "cell_type": "code",
   "execution_count": 43,
   "id": "5d072788",
   "metadata": {},
   "outputs": [
    {
     "name": "stdout",
     "output_type": "stream",
     "text": [
      "              precision    recall  f1-score   support\n",
      "\n",
      "           1       1.00      1.00      1.00         7\n",
      "           2       1.00      1.00      1.00         5\n",
      "           4       0.33      1.00      0.50         1\n",
      "           5       1.00      1.00      1.00         1\n",
      "           6       1.00      1.00      1.00         3\n",
      "           7       1.00      0.50      0.67         4\n",
      "\n",
      "    accuracy                           0.90        21\n",
      "   macro avg       0.89      0.92      0.86        21\n",
      "weighted avg       0.97      0.90      0.91        21\n",
      "\n"
     ]
    }
   ],
   "source": [
    "print (classification_report(y_test, yhat))"
   ]
  },
  {
   "cell_type": "markdown",
   "id": "8f83b46c",
   "metadata": {},
   "source": [
    "#### Logistic Regression\n",
    "Logistic Regression is a \"Supervised machine learning\" algorithm that can be used to model the probability of a certain class or event. It is used when the data is linearly separable and the outcome is binary or dichotomous in nature. That means Logistic regression is usually used for Binary classification problems."
   ]
  },
  {
   "cell_type": "code",
   "execution_count": 44,
   "id": "b09ecb4d",
   "metadata": {},
   "outputs": [
    {
     "name": "stdout",
     "output_type": "stream",
     "text": [
      "So the Jaccard score for Logistic Regression is: 0.68\n"
     ]
    }
   ],
   "source": [
    "LR = LogisticRegression(C=0.07, solver='sag').fit(X_train, y_train)\n",
    "yhat = LR.predict(X_test)\n",
    "acc = jaccard_score(y_test, yhat, average='micro')\n",
    "print(\"So the Jaccard score for Logistic Regression is: \" + str(acc))"
   ]
  },
  {
   "cell_type": "code",
   "execution_count": 45,
   "id": "28fe1bb9",
   "metadata": {},
   "outputs": [],
   "source": [
    "# final LR model is here used the splited test part to train again for better training, and better prediction\n",
    "finalLR = LogisticRegression(C=0.07, solver='sag').fit(X, y)"
   ]
  },
  {
   "cell_type": "markdown",
   "id": "c2af02ba",
   "metadata": {},
   "source": [
    "#### Logistic Regression Evaluation"
   ]
  },
  {
   "cell_type": "code",
   "execution_count": 46,
   "id": "f95ced8f",
   "metadata": {},
   "outputs": [
    {
     "name": "stdout",
     "output_type": "stream",
     "text": [
      "              precision    recall  f1-score   support\n",
      "\n",
      "           1       0.88      1.00      0.93         7\n",
      "           2       0.83      1.00      0.91         5\n",
      "           4       0.50      1.00      0.67         1\n",
      "           5       0.00      0.00      0.00         1\n",
      "           6       0.75      1.00      0.86         3\n",
      "           7       1.00      0.25      0.40         4\n",
      "\n",
      "    accuracy                           0.81        21\n",
      "   macro avg       0.66      0.71      0.63        21\n",
      "weighted avg       0.81      0.81      0.76        21\n",
      "\n"
     ]
    },
    {
     "name": "stderr",
     "output_type": "stream",
     "text": [
      "C:\\Users\\podda\\miniconda3\\lib\\site-packages\\sklearn\\metrics\\_classification.py:1318: UndefinedMetricWarning: Precision and F-score are ill-defined and being set to 0.0 in labels with no predicted samples. Use `zero_division` parameter to control this behavior.\n",
      "  _warn_prf(average, modifier, msg_start, len(result))\n",
      "C:\\Users\\podda\\miniconda3\\lib\\site-packages\\sklearn\\metrics\\_classification.py:1318: UndefinedMetricWarning: Precision and F-score are ill-defined and being set to 0.0 in labels with no predicted samples. Use `zero_division` parameter to control this behavior.\n",
      "  _warn_prf(average, modifier, msg_start, len(result))\n",
      "C:\\Users\\podda\\miniconda3\\lib\\site-packages\\sklearn\\metrics\\_classification.py:1318: UndefinedMetricWarning: Precision and F-score are ill-defined and being set to 0.0 in labels with no predicted samples. Use `zero_division` parameter to control this behavior.\n",
      "  _warn_prf(average, modifier, msg_start, len(result))\n"
     ]
    }
   ],
   "source": [
    "print(classification_report(y_test, yhat))"
   ]
  },
  {
   "cell_type": "markdown",
   "id": "dd0b247d",
   "metadata": {},
   "source": [
    "</br>\n",
    "\n",
    "## Discussion"
   ]
  },
  {
   "cell_type": "markdown",
   "id": "d4c620a9",
   "metadata": {},
   "source": [
    "After analyzing all the different 4 models K Nearest Neighbor(KNN), Decision Tree, Support Vector Machine and Logistic Regression, we found KNN is best to predict the animal type here. As you have seen in the model evaluation tables before, for accuracy KNN is the best, the second-best is decision tree method and following by Support Vector Machine and Logistic Regression. The result of KNN was expected as KNN is the best in grouping similar data points together and giving the best prediction results. Predicting the correct animal type with the highest accuracy have a huge impact on identifying animal types. These models can be used to identify animal types instantly for example if someone saw/discovered an animal and the type is not identified then they can feed all the characteristics fields to the model. The model can predict the animal type accurately, which is way more accurate than identifying and classifying the animal based on common sense. Thus our model can increase the research potential in many fields but not just limited to Marine Science, Animal Science, Forestry, and etc. This might lead to a future question in which how we are going to maintain the accuracy of predictions when working with more diverse groups of animals. Another possible aspect of this can be how some attributes of animals will relate to each other, for instance, relation between animals which has teeth vs predator. Furthermore, how we are going to use those relations to predict behaviors and attributes of newly discovered animals and how we are going to make our perceptions on animals even more detailed. These models and their advancements will not only widen our knowledge in terms of animal biology but will also let us find all other possible relations within the nature in a much more efficient way."
   ]
  },
  {
   "cell_type": "markdown",
   "id": "eacdb237-1b19-4a1f-ab55-9ab98fe4db76",
   "metadata": {},
   "source": [
    "## Citation\n",
    "BioExplorer.net. (2022, February 18). Types of Animals. Bio Explorer. https://www.bioexplorer.net/animals/.\n",
    "\n",
    "N. Manohar, Y. H. Sharath Kumar and G. H. Kumar, \\\"Supervised and unsupervised learning in animal classification,\" *2016 International Conference on Advances in Computing, Communications and Informatics (ICACCI)*, 2016, pp. 156-161, doi: 10.1109/ICACCI.2016.7732040.\n",
    "\n",
    "Tiffany Timbers, T. C. (2022, February 13). Data science: A first Introduction. Retrieved February 18, 2022, from https://datasciencebook.ca/. \n",
    "\n",
    "Zoo. (1990). UCI Machine Learning Repository.\n",
    "\n",
    "Towards Data Science - Medium Articles.\n",
    "\n",
    "IBM Data Science Resources."
   ]
  }
 ],
 "metadata": {
  "kernelspec": {
   "display_name": "Python 3",
   "language": "python",
   "name": "python3"
  },
  "language_info": {
   "codemirror_mode": {
    "name": "ipython",
    "version": 3
   },
   "file_extension": ".py",
   "mimetype": "text/x-python",
   "name": "python",
   "nbconvert_exporter": "python",
   "pygments_lexer": "ipython3",
   "version": "3.9.5"
  }
 },
 "nbformat": 4,
 "nbformat_minor": 5
}
